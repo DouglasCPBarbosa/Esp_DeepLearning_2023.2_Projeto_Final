{
  "cells": [
    {
      "cell_type": "markdown",
      "metadata": {
        "id": "IymJd8x5oGhj"
      },
      "source": [
        "##  Notebook 04 de 06\n",
        "\n",
        "\n",
        "(Versão, 14 de Abril de 2025)\n",
        "\n",
        "\n",
        "\n",
        "\n",
        "# Detecção de Desbalanceamento em Máquinas Rotativas por meio da Análise de Sinais de Vibração utilizando Deep Learning\n",
        "\n",
        "**Notebook usado como Referência:**\n",
        "\n",
        "Oliver Mey, Willi Neudeck, André Schneider and Olaf Enge-Rosenblatt. \"Machine Learning Based Unbalance Detection of a Rotating Shaft Using Vibration Data\". 25th IEEE International Conference on Emerging Technologies and Factory Automation, ETFA 2020.\n"
      ]
    },
    {
      "cell_type": "code",
      "execution_count": null,
      "metadata": {
        "colab": {
          "base_uri": "https://localhost:8080/"
        },
        "id": "QFzbkEfPoNV3",
        "outputId": "cb0bb080-2940-4560-b261-be232a9e23b0"
      },
      "outputs": [
        {
          "output_type": "stream",
          "name": "stdout",
          "text": [
            "Mounted at /content/gdrive\n"
          ]
        }
      ],
      "source": [
        "from google.colab import drive\n",
        "drive.mount('/content/gdrive', force_remount=True)"
      ]
    },
    {
      "cell_type": "markdown",
      "metadata": {
        "id": "lnwvyXttoGhk"
      },
      "source": [
        "## Abordagem 4: CNN - Convolutional Neural Network como classificador multiclasses - 04 Classes"
      ]
    },
    {
      "cell_type": "code",
      "execution_count": null,
      "metadata": {
        "id": "_4yDTDH9oGhk"
      },
      "outputs": [],
      "source": [
        "import pandas as pd\n",
        "import numpy as np\n",
        "import tensorflow as tf\n",
        "import scipy as sc\n",
        "import zipfile\n",
        "from matplotlib import pyplot as plt\n",
        "from matplotlib.colors import LogNorm\n",
        "from sklearn.preprocessing import RobustScaler"
      ]
    },
    {
      "cell_type": "markdown",
      "metadata": {
        "id": "dCcZbzTAoGhk"
      },
      "source": [
        "## Reading Measurement Data and Preprocessing"
      ]
    },
    {
      "cell_type": "code",
      "execution_count": null,
      "metadata": {
        "id": "f9sSSjEmoGhl"
      },
      "outputs": [],
      "source": [
        "# Option a) local file contains a small subset of the entire dataset\n",
        "url = '/content/gdrive/MyDrive/Base de Dados/fraunhofer_eas_dataset_for_unbalance_detection_v1.zip'\n",
        "\n",
        "# Option b) the entire dataset can be directly downloaded via public Fraunhofer Fortadis dataspace\n",
        "#url = 'https://fordatis.fraunhofer.de/bitstream/fordatis/151.2/1/fraunhofer_eas_dataset_for_unbalance_detection_v1.zip'\n",
        "\n",
        "# Option c) selected pre-trained models can be found in the directory model/reference\n",
        "use_reference_models = False\n",
        "model_path = '../models/reference'\n",
        "\n",
        "# Option d) all models will be trained again\n",
        "#use_reference_models = False\n",
        "#model_path = '../models'"
      ]
    },
    {
      "cell_type": "code",
      "execution_count": null,
      "metadata": {
        "id": "62oeGYmfoGhl"
      },
      "outputs": [],
      "source": [
        "with zipfile.ZipFile(url, 'r') as f:\n",
        "    with f.open('0D.csv', 'r') as c:\n",
        "        data0D = pd.read_csv(c)\n",
        "    with f.open('0E.csv', 'r') as c:\n",
        "        data0E = pd.read_csv(c)\n",
        "    with f.open('1D.csv', 'r') as c:\n",
        "        data1D = pd.read_csv(c)\n",
        "    with f.open('1E.csv', 'r') as c:\n",
        "        data1E = pd.read_csv(c)\n",
        "    with f.open('2D.csv', 'r') as c:\n",
        "        data2D = pd.read_csv(c)\n",
        "    with f.open('2E.csv', 'r') as c:\n",
        "        data2E = pd.read_csv(c)\n",
        "    with f.open('3D.csv', 'r') as c:\n",
        "        data3D = pd.read_csv(c)\n",
        "    with f.open('3E.csv', 'r') as c:\n",
        "        data3E = pd.read_csv(c)\n",
        "    with f.open('4D.csv', 'r') as c:\n",
        "        data4D = pd.read_csv(c)\n",
        "    with f.open('4E.csv', 'r') as c:\n",
        "        data4E = pd.read_csv(c)"
      ]
    },
    {
      "cell_type": "markdown",
      "metadata": {
        "id": "3m7DJg2jdz9S"
      },
      "source": [
        "**PRÉ-TRATAMENTO DOS SINAIS**"
      ]
    },
    {
      "cell_type": "markdown",
      "metadata": {
        "id": "oJKvH3MourJS"
      },
      "source": [
        "Separação das duas sequências de aquisição de dados"
      ]
    },
    {
      "cell_type": "code",
      "execution_count": null,
      "metadata": {
        "id": "N0Ydlxb8uqcI"
      },
      "outputs": [],
      "source": [
        "data0D_A = data0D.iloc[0:int(len(data0D)/2)]\n",
        "data0D_B = data0D.iloc[int(len(data0D)/2):]\n",
        "data0E_A = data0E.iloc[0:int(len(data0E)/2)]\n",
        "data0E_B = data0E.iloc[int(len(data0E)/2):]\n",
        "data1D_A = data1D.iloc[0:int(len(data1D)/2)]\n",
        "data1D_B = data1D.iloc[int(len(data1D)/2):]\n",
        "data1E_A = data1E.iloc[0:int(len(data1E)/2)]\n",
        "data1E_B = data1E.iloc[int(len(data1E)/2):]\n",
        "data2D_A = data2D.iloc[0:int(len(data2D)/2)]\n",
        "data2D_B = data2D.iloc[int(len(data2D)/2):]\n",
        "data2E_A = data2E.iloc[0:int(len(data2E)/2)]\n",
        "data2E_B = data2E.iloc[int(len(data2E)/2):]\n",
        "data3D_A = data3D.iloc[0:int(len(data3D)/2)]\n",
        "data3D_B = data3D.iloc[int(len(data3D)/2):]\n",
        "data3E_A = data3E.iloc[0:int(len(data3E)/2)]\n",
        "data3E_B = data3E.iloc[int(len(data3E)/2):]\n",
        "data4D_A = data4D.iloc[0:int(len(data4D)/2)]\n",
        "data4D_B = data4D.iloc[int(len(data4D)/2):]\n",
        "data4E_A = data4E.iloc[0:int(len(data4E)/2)]\n",
        "data4E_B = data4E.iloc[int(len(data4E)/2):]"
      ]
    },
    {
      "cell_type": "markdown",
      "metadata": {
        "id": "B753aavonO4K"
      },
      "source": [
        "Descarte das amostras iniciais e finais"
      ]
    },
    {
      "cell_type": "code",
      "execution_count": null,
      "metadata": {
        "id": "BY7ATb6moGhl"
      },
      "outputs": [],
      "source": [
        "skip = 100000\n",
        "data0D_A = data0D_A.iloc[skip:-skip,:]\n",
        "data0D_B = data0D_B.iloc[skip:-skip,:]\n",
        "data0E_A = data0E_A.iloc[skip:-skip,:]\n",
        "data0E_B = data0E_B.iloc[skip:-skip,:]\n",
        "data1D_A = data1D_A.iloc[skip:-skip,:]\n",
        "data1D_B = data1D_B.iloc[skip:-skip,:]\n",
        "data1E_A = data1E_A.iloc[skip:-skip,:]\n",
        "data1E_B = data1E_B.iloc[skip:-skip,:]\n",
        "data2D_A = data2D_A.iloc[skip:-skip,:]\n",
        "data2D_B = data2D_B.iloc[skip:-skip,:]\n",
        "data2E_A = data2E_A.iloc[skip:-skip,:]\n",
        "data2E_B = data2E_B.iloc[skip:-skip,:]\n",
        "data3D_A = data3D_A.iloc[skip:-skip,:]\n",
        "data3D_B = data3D_B.iloc[skip:-skip,:]\n",
        "data3E_A = data3E_A.iloc[skip:-skip,:]\n",
        "data3E_B = data3E_B.iloc[skip:-skip,:]\n",
        "data4D_A = data4D_A.iloc[skip:-skip,:]\n",
        "data4D_B = data4D_B.iloc[skip:-skip,:]\n",
        "data4E_A = data4E_A.iloc[skip:-skip,:]\n",
        "data4E_B = data4E_B.iloc[skip:-skip,:]"
      ]
    },
    {
      "cell_type": "code",
      "execution_count": null,
      "metadata": {
        "colab": {
          "base_uri": "https://localhost:8080/",
          "height": 472
        },
        "id": "wg_fRPcGCEAI",
        "outputId": "a03ef417-139e-46c1-e019-221dba0c1e44"
      },
      "outputs": [
        {
          "output_type": "display_data",
          "data": {
            "text/plain": [
              "<Figure size 640x480 with 1 Axes>"
            ],
            "image/png": "[encoded data removed]"
          },
          "metadata": {}
        }
      ],
      "source": [
        "window = np.hanning(4096)\n",
        "plt.plot(window)\n",
        "plt.title(\"Hann window\")\n",
        "plt.ylabel(\"Amplitude\")\n",
        "plt.xlabel(\"Sample\")\n",
        "plt.show()"
      ]
    },
    {
      "cell_type": "markdown",
      "metadata": {
        "id": "AA9UVMm6nfd6"
      },
      "source": [
        "Normalização pelo quadrado da velocidade"
      ]
    },
    {
      "cell_type": "code",
      "execution_count": null,
      "metadata": {
        "id": "AesvOD4mVHpq"
      },
      "outputs": [],
      "source": [
        "def normaliza_vibracao(basededados, sensor, quad=True):\n",
        "  if quad:\n",
        "    basededados[sensor] = basededados[sensor]/np.square(basededados['Measured_RPM'])\n",
        "  else:\n",
        "    basededados[sensor] = basededados[sensor]/basededados['Measured_RPM']\n",
        "  return basededados"
      ]
    },
    {
      "cell_type": "markdown",
      "metadata": {
        "id": "eAnK64NUoGhl"
      },
      "source": [
        "Função para segmentar a série temporal"
      ]
    },
    {
      "cell_type": "code",
      "execution_count": null,
      "metadata": {
        "id": "Qmz41ooNAlzn"
      },
      "outputs": [],
      "source": [
        "labels = {'Balanced' : 0.0, 'Unbalanced_LowLow' : 45.9, 'Unbalanced_Low': 60.7, 'Unbalanced_High': 75.5, 'Unbalanced_HighHigh': 152.1}\n",
        "\n",
        "samples_per_second = 4096\n",
        "seconds_per_analysis = 1.0\n",
        "window = int(samples_per_second*seconds_per_analysis)\n",
        "\n",
        "def get_features(data, label):\n",
        "    n = int(np.floor(len(data)/window))\n",
        "    data = data[:int(n)*window]\n",
        "    X = data.values.reshape((n, window))\n",
        "    y = np.ones(n)*labels[label]\n",
        "    return X,y"
      ]
    },
    {
      "cell_type": "markdown",
      "metadata": {
        "id": "CXk3SoPGBZVf"
      },
      "source": [
        "Dividindo a série temporal dos dados do sensor **\"Vibration_1\"** em segmentos de  comprimento 4096"
      ]
    },
    {
      "cell_type": "code",
      "execution_count": null,
      "metadata": {
        "id": "wIzXHiK7oGhm"
      },
      "outputs": [],
      "source": [
        "sensor = 'Vibration_1'\n",
        "\n",
        "X0_A,y0_A = get_features(data0D_A[sensor], 'Balanced')\n",
        "#X1_A,y1_A = get_features(data1D_A[sensor], 'Unbalanced_LowLow')\n",
        "X2_A,y2_A = get_features(data2D_A[sensor], 'Unbalanced_Low')\n",
        "X3_A,y3_A = get_features(data3D_A[sensor], 'Unbalanced_High')\n",
        "X4_A,y4_A = get_features(data4D_A[sensor], 'Unbalanced_HighHigh')\n",
        "\n",
        "\n",
        "X0_A_val, y0_A_val = get_features(data0E_A[sensor], 'Balanced')\n",
        "#X1_A_val, y1_A_val = get_features(data1E_A[sensor], 'Unbalanced_LowLow')\n",
        "X2_A_val, y2_A_val = get_features(data2E_A[sensor], 'Unbalanced_Low')\n",
        "X3_A_val, y3_A_val = get_features(data3E_A[sensor], 'Unbalanced_High')\n",
        "X4_A_val, y4_A_val = get_features(data4E_A[sensor], 'Unbalanced_HighHigh')\n",
        "\n",
        "\n",
        "X0_B,y0_B = get_features(data0D_B[sensor], 'Balanced')\n",
        "#X1_B,y1_B = get_features(data1D_B[sensor], 'Unbalanced_LowLow')\n",
        "X2_B,y2_B = get_features(data2D_B[sensor], 'Unbalanced_Low')\n",
        "X3_B,y3_B = get_features(data3D_B[sensor], 'Unbalanced_High')\n",
        "X4_B,y4_B = get_features(data4D_B[sensor], 'Unbalanced_HighHigh')\n",
        "\n",
        "\n",
        "X0_B_val, y0_B_val = get_features(data0E_B[sensor], 'Balanced')\n",
        "#X1_B_val, y1_B_val = get_features(data1E_B[sensor], 'Unbalanced_LowLow')\n",
        "X2_B_val, y2_B_val = get_features(data2E_B[sensor], 'Unbalanced_Low')\n",
        "X3_B_val, y3_B_val = get_features(data3E_B[sensor], 'Unbalanced_High')\n",
        "X4_B_val, y4_B_val = get_features(data4E_B[sensor], 'Unbalanced_HighHigh')\n",
        "\n",
        "X0 = np.concatenate([X0_A, X0_B])\n",
        "y0 = np.concatenate([y0_A, y0_B])\n",
        "#X1 = np.concatenate([X1_A, X1_B])\n",
        "#y1 = np.concatenate([y1_A, y1_B])\n",
        "X2 = np.concatenate([X2_A, X2_B])\n",
        "y2 = np.concatenate([y2_A, y2_B])\n",
        "X3 = np.concatenate([X3_A, X3_B])\n",
        "y3 = np.concatenate([y3_A, y3_B])\n",
        "X4 = np.concatenate([X4_A, X4_B])\n",
        "y4 = np.concatenate([y4_A, y4_B])\n",
        "\n",
        "X0_val = np.concatenate([X0_A_val, X0_B_val])\n",
        "y0_val = np.concatenate([y0_A_val, y0_B_val])\n",
        "#X1_val = np.concatenate([X1_A_val, X1_B_val])\n",
        "#y1_val = np.concatenate([y1_A_val, y1_B_val])\n",
        "X2_val = np.concatenate([X2_A_val, X2_B_val])\n",
        "y2_val = np.concatenate([y2_A_val, y2_B_val])\n",
        "X3_val = np.concatenate([X3_A_val, X3_B_val])\n",
        "y3_val = np.concatenate([y3_A_val, y3_B_val])\n",
        "X4_val = np.concatenate([X4_A_val, X4_B_val])\n",
        "y4_val = np.concatenate([y4_A_val, y4_B_val])\n",
        "\n",
        "\n",
        "X_Vibration_1=np.concatenate([X0, X2, X3, X4])\n",
        "y=np.concatenate([y0, y2, y3, y4])\n",
        "\n",
        "X_Vibration_1_val=np.concatenate([X0_val, X2_val, X3_val, X4_val])\n",
        "y_val=np.concatenate([y0_val, y2_val, y3_val, y4_val])"
      ]
    },
    {
      "cell_type": "code",
      "source": [
        "from sklearn.preprocessing import OneHotEncoder\n",
        "encoder = OneHotEncoder(sparse_output=False)\n",
        "y = encoder.fit_transform(y.reshape(-1, 1))\n",
        "y_val = encoder.fit_transform(y_val.reshape(-1, 1))"
      ],
      "metadata": {
        "id": "q0HbvIapUOMY"
      },
      "execution_count": null,
      "outputs": []
    },
    {
      "cell_type": "code",
      "source": [
        "y.shape"
      ],
      "metadata": {
        "colab": {
          "base_uri": "https://localhost:8080/"
        },
        "id": "eGPAzOq0UWbP",
        "outputId": "f021ea21-572c-4a2c-d635-4872f183d2bf"
      },
      "execution_count": null,
      "outputs": [
        {
          "output_type": "execute_result",
          "data": {
            "text/plain": [
              "(25388, 4)"
            ]
          },
          "metadata": {},
          "execution_count": 12
        }
      ]
    },
    {
      "cell_type": "code",
      "source": [
        "y[0]"
      ],
      "metadata": {
        "colab": {
          "base_uri": "https://localhost:8080/"
        },
        "id": "xQndersndKiX",
        "outputId": "043d25e9-3ff0-4340-a4fa-428a5a429d2a"
      },
      "execution_count": null,
      "outputs": [
        {
          "output_type": "execute_result",
          "data": {
            "text/plain": [
              "array([1., 0., 0., 0.])"
            ]
          },
          "metadata": {},
          "execution_count": 13
        }
      ]
    },
    {
      "cell_type": "code",
      "source": [
        "y_val.shape"
      ],
      "metadata": {
        "colab": {
          "base_uri": "https://localhost:8080/"
        },
        "id": "-x6ZXu8oVgjC",
        "outputId": "341da18d-6f15-4cee-fb5e-cabe74108bbf"
      },
      "execution_count": null,
      "outputs": [
        {
          "output_type": "execute_result",
          "data": {
            "text/plain": [
              "(6344, 4)"
            ]
          },
          "metadata": {},
          "execution_count": 14
        }
      ]
    },
    {
      "cell_type": "code",
      "source": [
        "y_val[0]"
      ],
      "metadata": {
        "colab": {
          "base_uri": "https://localhost:8080/"
        },
        "id": "TxTmLurQd0m5",
        "outputId": "52bc4fd4-e530-416c-b278-fed8ce3d9491"
      },
      "execution_count": null,
      "outputs": [
        {
          "output_type": "execute_result",
          "data": {
            "text/plain": [
              "array([1., 0., 0., 0.])"
            ]
          },
          "metadata": {},
          "execution_count": 15
        }
      ]
    },
    {
      "cell_type": "markdown",
      "metadata": {
        "id": "TAAt36cDBvrc"
      },
      "source": [
        "Dividindo a série temporal dos dados do sensor **\"Vibration_2\"** em segmentos de  comprimento 4096"
      ]
    },
    {
      "cell_type": "code",
      "execution_count": null,
      "metadata": {
        "id": "13C7UZDBBREB",
        "colab": {
          "base_uri": "https://localhost:8080/",
          "height": 107
        },
        "outputId": "f82840b9-1dbe-4da9-aaed-e5d98ab35a78"
      },
      "outputs": [
        {
          "output_type": "execute_result",
          "data": {
            "text/plain": [
              "\"\\nsensor = 'Vibration_2'\\n\\nX0_A,y0_A = get_features(data0D_A[sensor], 'Balanced')\\nX1_A,y1_A = get_features(data1D_A[sensor], 'Unbalanced_LowLow')\\nX2_A,y2_A = get_features(data2D_A[sensor], 'Unbalanced_Low')\\nX3_A,y3_A = get_features(data3D_A[sensor], 'Unbalanced_High')\\nX4_A,y4_A = get_features(data4D_A[sensor], 'Unbalanced_HighHigh')\\n\\n\\nX0_A_val, y0_A_val = get_features(data0E_A[sensor], 'Balanced')\\nX1_A_val, y1_A_val = get_features(data1E_A[sensor], 'Unbalanced_LowLow')\\nX2_A_val, y2_A_val = get_features(data2E_A[sensor], 'Unbalanced_Low')\\nX3_A_val, y3_A_val = get_features(data3E_A[sensor], 'Unbalanced_High')\\nX4_A_val, y4_A_val = get_features(data4E_A[sensor], 'Unbalanced_HighHigh')\\n\\n\\nX0_B,y0_B = get_features(data0D_B[sensor], 'Balanced')\\nX1_B,y1_B = get_features(data1D_B[sensor], 'Unbalanced_LowLow')\\nX2_B,y2_B = get_features(data2D_B[sensor], 'Unbalanced_Low')\\nX3_B,y3_B = get_features(data3D_B[sensor], 'Unbalanced_High')\\nX4_B,y4_B = get_features(data4D_B[sensor], 'Unbalanced_HighHigh')\\n\\n\\nX0_B_val, y0_B_val = get_features(data0E_B[sensor], 'Balanced')\\nX1_B_val, y1_B_val = get_features(data1E_B[sensor], 'Unbalanced_LowLow')\\nX2_B_val, y2_B_val = get_features(data2E_B[sensor], 'Unbalanced_Low')\\nX3_B_val, y3_B_val = get_features(data3E_B[sensor], 'Unbalanced_High')\\nX4_B_val, y4_B_val = get_features(data4E_B[sensor], 'Unbalanced_HighHigh')\\n\\nX0 = np.concatenate([X0_A, X0_B])\\ny0 = np.concatenate([y0_A, y0_B])\\nX1 = np.concatenate([X1_A, X1_B])\\ny1 = np.concatenate([y1_A, y1_B])\\nX2 = np.concatenate([X2_A, X2_B])\\ny2 = np.concatenate([y2_A, y2_B])\\nX3 = np.concatenate([X3_A, X3_B])\\ny3 = np.concatenate([y3_A, y3_B])\\nX4 = np.concatenate([X4_A, X4_B])\\ny4 = np.concatenate([y4_A, y4_B])\\n\\nX0_val = np.concatenate([X0_A_val, X0_B_val])\\ny0_val = np.concatenate([y0_A_val, y0_B_val])\\nX1_val = np.concatenate([X1_A_val, X1_B_val])\\ny1_val = np.concatenate([y1_A_val, y1_B_val])\\nX2_val = np.concatenate([X2_A_val, X2_B_val])\\ny2_val = np.concatenate([y2_A_val, y2_B_val])\\nX3_val = np.concatenate([X3_A_val, X3_B_val])\\ny3_val = np.concatenate([y3_A_val, y3_B_val])\\nX4_val = np.concatenate([X4_A_val, X4_B_val])\\ny4_val = np.concatenate([y4_A_val, y4_B_val])\\n\\n\\nX_Vibration_2=np.concatenate([X0, X1, X2, X3, X4])\\ny=np.concatenate([y0, y1, y2, y3, y4])\\n\\nX_Vibration_2_val=np.concatenate([X0_val, X1_val, X2_val, X3_val, X4_val])\\ny_val=np.concatenate([y0_val, y1_val, y2_val, y3_val, y4_val])\\n\""
            ],
            "application/vnd.google.colaboratory.intrinsic+json": {
              "type": "string"
            }
          },
          "metadata": {},
          "execution_count": 16
        }
      ],
      "source": [
        "'''\n",
        "sensor = 'Vibration_2'\n",
        "\n",
        "X0_A,y0_A = get_features(data0D_A[sensor], 'Balanced')\n",
        "X1_A,y1_A = get_features(data1D_A[sensor], 'Unbalanced_LowLow')\n",
        "X2_A,y2_A = get_features(data2D_A[sensor], 'Unbalanced_Low')\n",
        "X3_A,y3_A = get_features(data3D_A[sensor], 'Unbalanced_High')\n",
        "X4_A,y4_A = get_features(data4D_A[sensor], 'Unbalanced_HighHigh')\n",
        "\n",
        "\n",
        "X0_A_val, y0_A_val = get_features(data0E_A[sensor], 'Balanced')\n",
        "X1_A_val, y1_A_val = get_features(data1E_A[sensor], 'Unbalanced_LowLow')\n",
        "X2_A_val, y2_A_val = get_features(data2E_A[sensor], 'Unbalanced_Low')\n",
        "X3_A_val, y3_A_val = get_features(data3E_A[sensor], 'Unbalanced_High')\n",
        "X4_A_val, y4_A_val = get_features(data4E_A[sensor], 'Unbalanced_HighHigh')\n",
        "\n",
        "\n",
        "X0_B,y0_B = get_features(data0D_B[sensor], 'Balanced')\n",
        "X1_B,y1_B = get_features(data1D_B[sensor], 'Unbalanced_LowLow')\n",
        "X2_B,y2_B = get_features(data2D_B[sensor], 'Unbalanced_Low')\n",
        "X3_B,y3_B = get_features(data3D_B[sensor], 'Unbalanced_High')\n",
        "X4_B,y4_B = get_features(data4D_B[sensor], 'Unbalanced_HighHigh')\n",
        "\n",
        "\n",
        "X0_B_val, y0_B_val = get_features(data0E_B[sensor], 'Balanced')\n",
        "X1_B_val, y1_B_val = get_features(data1E_B[sensor], 'Unbalanced_LowLow')\n",
        "X2_B_val, y2_B_val = get_features(data2E_B[sensor], 'Unbalanced_Low')\n",
        "X3_B_val, y3_B_val = get_features(data3E_B[sensor], 'Unbalanced_High')\n",
        "X4_B_val, y4_B_val = get_features(data4E_B[sensor], 'Unbalanced_HighHigh')\n",
        "\n",
        "X0 = np.concatenate([X0_A, X0_B])\n",
        "y0 = np.concatenate([y0_A, y0_B])\n",
        "X1 = np.concatenate([X1_A, X1_B])\n",
        "y1 = np.concatenate([y1_A, y1_B])\n",
        "X2 = np.concatenate([X2_A, X2_B])\n",
        "y2 = np.concatenate([y2_A, y2_B])\n",
        "X3 = np.concatenate([X3_A, X3_B])\n",
        "y3 = np.concatenate([y3_A, y3_B])\n",
        "X4 = np.concatenate([X4_A, X4_B])\n",
        "y4 = np.concatenate([y4_A, y4_B])\n",
        "\n",
        "X0_val = np.concatenate([X0_A_val, X0_B_val])\n",
        "y0_val = np.concatenate([y0_A_val, y0_B_val])\n",
        "X1_val = np.concatenate([X1_A_val, X1_B_val])\n",
        "y1_val = np.concatenate([y1_A_val, y1_B_val])\n",
        "X2_val = np.concatenate([X2_A_val, X2_B_val])\n",
        "y2_val = np.concatenate([y2_A_val, y2_B_val])\n",
        "X3_val = np.concatenate([X3_A_val, X3_B_val])\n",
        "y3_val = np.concatenate([y3_A_val, y3_B_val])\n",
        "X4_val = np.concatenate([X4_A_val, X4_B_val])\n",
        "y4_val = np.concatenate([y4_A_val, y4_B_val])\n",
        "\n",
        "\n",
        "X_Vibration_2=np.concatenate([X0, X1, X2, X3, X4])\n",
        "y=np.concatenate([y0, y1, y2, y3, y4])\n",
        "\n",
        "X_Vibration_2_val=np.concatenate([X0_val, X1_val, X2_val, X3_val, X4_val])\n",
        "y_val=np.concatenate([y0_val, y1_val, y2_val, y3_val, y4_val])\n",
        "'''"
      ]
    },
    {
      "cell_type": "markdown",
      "metadata": {
        "id": "ohWGX_8NB4m-"
      },
      "source": [
        "Dividindo a série temporal dos dados do sensor **\"Vibration_3\"** em segmentos de  comprimento 4096"
      ]
    },
    {
      "cell_type": "code",
      "execution_count": null,
      "metadata": {
        "id": "KS7mFbtdBVGW",
        "colab": {
          "base_uri": "https://localhost:8080/",
          "height": 107
        },
        "outputId": "52ab6868-0bd8-4c48-8a64-26f62576d022"
      },
      "outputs": [
        {
          "output_type": "execute_result",
          "data": {
            "text/plain": [
              "\"\\nsensor = 'Vibration_3'\\n\\nX0_A,y0_A = get_features(data0D_A[sensor], 'Balanced')\\nX1_A,y1_A = get_features(data1D_A[sensor], 'Unbalanced_LowLow')\\nX2_A,y2_A = get_features(data2D_A[sensor], 'Unbalanced_Low')\\nX3_A,y3_A = get_features(data3D_A[sensor], 'Unbalanced_High')\\nX4_A,y4_A = get_features(data4D_A[sensor], 'Unbalanced_HighHigh')\\n\\n\\nX0_A_val, y0_A_val = get_features(data0E_A[sensor], 'Balanced')\\nX1_A_val, y1_A_val = get_features(data1E_A[sensor], 'Unbalanced_LowLow')\\nX2_A_val, y2_A_val = get_features(data2E_A[sensor], 'Unbalanced_Low')\\nX3_A_val, y3_A_val = get_features(data3E_A[sensor], 'Unbalanced_High')\\nX4_A_val, y4_A_val = get_features(data4E_A[sensor], 'Unbalanced_HighHigh')\\n\\n\\nX0_B,y0_B = get_features(data0D_B[sensor], 'Balanced')\\nX1_B,y1_B = get_features(data1D_B[sensor], 'Unbalanced_LowLow')\\nX2_B,y2_B = get_features(data2D_B[sensor], 'Unbalanced_Low')\\nX3_B,y3_B = get_features(data3D_B[sensor], 'Unbalanced_High')\\nX4_B,y4_B = get_features(data4D_B[sensor], 'Unbalanced_HighHigh')\\n\\n\\nX0_B_val, y0_B_val = get_features(data0E_B[sensor], 'Balanced')\\nX1_B_val, y1_B_val = get_features(data1E_B[sensor], 'Unbalanced_LowLow')\\nX2_B_val, y2_B_val = get_features(data2E_B[sensor], 'Unbalanced_Low')\\nX3_B_val, y3_B_val = get_features(data3E_B[sensor], 'Unbalanced_High')\\nX4_B_val, y4_B_val = get_features(data4E_B[sensor], 'Unbalanced_HighHigh')\\n\\nX0 = np.concatenate([X0_A, X0_B])\\ny0 = np.concatenate([y0_A, y0_B])\\nX1 = np.concatenate([X1_A, X1_B])\\ny1 = np.concatenate([y1_A, y1_B])\\nX2 = np.concatenate([X2_A, X2_B])\\ny2 = np.concatenate([y2_A, y2_B])\\nX3 = np.concatenate([X3_A, X3_B])\\ny3 = np.concatenate([y3_A, y3_B])\\nX4 = np.concatenate([X4_A, X4_B])\\ny4 = np.concatenate([y4_A, y4_B])\\n\\nX0_val = np.concatenate([X0_A_val, X0_B_val])\\ny0_val = np.concatenate([y0_A_val, y0_B_val])\\nX1_val = np.concatenate([X1_A_val, X1_B_val])\\ny1_val = np.concatenate([y1_A_val, y1_B_val])\\nX2_val = np.concatenate([X2_A_val, X2_B_val])\\ny2_val = np.concatenate([y2_A_val, y2_B_val])\\nX3_val = np.concatenate([X3_A_val, X3_B_val])\\ny3_val = np.concatenate([y3_A_val, y3_B_val])\\nX4_val = np.concatenate([X4_A_val, X4_B_val])\\ny4_val = np.concatenate([y4_A_val, y4_B_val])\\n\\n\\nX_Vibration_3=np.concatenate([X0, X1, X2, X3, X4])\\ny=np.concatenate([y0, y1, y2, y3, y4])\\n\\nX_Vibration_3_val=np.concatenate([X0_val, X1_val, X2_val, X3_val, X4_val])\\ny_val=np.concatenate([y0_val, y1_val, y2_val, y3_val, y4_val])\\n\""
            ],
            "application/vnd.google.colaboratory.intrinsic+json": {
              "type": "string"
            }
          },
          "metadata": {},
          "execution_count": 17
        }
      ],
      "source": [
        "'''\n",
        "sensor = 'Vibration_3'\n",
        "\n",
        "X0_A,y0_A = get_features(data0D_A[sensor], 'Balanced')\n",
        "X1_A,y1_A = get_features(data1D_A[sensor], 'Unbalanced_LowLow')\n",
        "X2_A,y2_A = get_features(data2D_A[sensor], 'Unbalanced_Low')\n",
        "X3_A,y3_A = get_features(data3D_A[sensor], 'Unbalanced_High')\n",
        "X4_A,y4_A = get_features(data4D_A[sensor], 'Unbalanced_HighHigh')\n",
        "\n",
        "\n",
        "X0_A_val, y0_A_val = get_features(data0E_A[sensor], 'Balanced')\n",
        "X1_A_val, y1_A_val = get_features(data1E_A[sensor], 'Unbalanced_LowLow')\n",
        "X2_A_val, y2_A_val = get_features(data2E_A[sensor], 'Unbalanced_Low')\n",
        "X3_A_val, y3_A_val = get_features(data3E_A[sensor], 'Unbalanced_High')\n",
        "X4_A_val, y4_A_val = get_features(data4E_A[sensor], 'Unbalanced_HighHigh')\n",
        "\n",
        "\n",
        "X0_B,y0_B = get_features(data0D_B[sensor], 'Balanced')\n",
        "X1_B,y1_B = get_features(data1D_B[sensor], 'Unbalanced_LowLow')\n",
        "X2_B,y2_B = get_features(data2D_B[sensor], 'Unbalanced_Low')\n",
        "X3_B,y3_B = get_features(data3D_B[sensor], 'Unbalanced_High')\n",
        "X4_B,y4_B = get_features(data4D_B[sensor], 'Unbalanced_HighHigh')\n",
        "\n",
        "\n",
        "X0_B_val, y0_B_val = get_features(data0E_B[sensor], 'Balanced')\n",
        "X1_B_val, y1_B_val = get_features(data1E_B[sensor], 'Unbalanced_LowLow')\n",
        "X2_B_val, y2_B_val = get_features(data2E_B[sensor], 'Unbalanced_Low')\n",
        "X3_B_val, y3_B_val = get_features(data3E_B[sensor], 'Unbalanced_High')\n",
        "X4_B_val, y4_B_val = get_features(data4E_B[sensor], 'Unbalanced_HighHigh')\n",
        "\n",
        "X0 = np.concatenate([X0_A, X0_B])\n",
        "y0 = np.concatenate([y0_A, y0_B])\n",
        "X1 = np.concatenate([X1_A, X1_B])\n",
        "y1 = np.concatenate([y1_A, y1_B])\n",
        "X2 = np.concatenate([X2_A, X2_B])\n",
        "y2 = np.concatenate([y2_A, y2_B])\n",
        "X3 = np.concatenate([X3_A, X3_B])\n",
        "y3 = np.concatenate([y3_A, y3_B])\n",
        "X4 = np.concatenate([X4_A, X4_B])\n",
        "y4 = np.concatenate([y4_A, y4_B])\n",
        "\n",
        "X0_val = np.concatenate([X0_A_val, X0_B_val])\n",
        "y0_val = np.concatenate([y0_A_val, y0_B_val])\n",
        "X1_val = np.concatenate([X1_A_val, X1_B_val])\n",
        "y1_val = np.concatenate([y1_A_val, y1_B_val])\n",
        "X2_val = np.concatenate([X2_A_val, X2_B_val])\n",
        "y2_val = np.concatenate([y2_A_val, y2_B_val])\n",
        "X3_val = np.concatenate([X3_A_val, X3_B_val])\n",
        "y3_val = np.concatenate([y3_A_val, y3_B_val])\n",
        "X4_val = np.concatenate([X4_A_val, X4_B_val])\n",
        "y4_val = np.concatenate([y4_A_val, y4_B_val])\n",
        "\n",
        "\n",
        "X_Vibration_3=np.concatenate([X0, X1, X2, X3, X4])\n",
        "y=np.concatenate([y0, y1, y2, y3, y4])\n",
        "\n",
        "X_Vibration_3_val=np.concatenate([X0_val, X1_val, X2_val, X3_val, X4_val])\n",
        "y_val=np.concatenate([y0_val, y1_val, y2_val, y3_val, y4_val])\n",
        "'''"
      ]
    },
    {
      "cell_type": "markdown",
      "metadata": {
        "id": "C3dyz9IjB-vz"
      },
      "source": [
        "Dividindo a série temporal dos dados do sensor **\"Measured_RPM\"** em segmentos de  comprimento 4096"
      ]
    },
    {
      "cell_type": "code",
      "execution_count": null,
      "metadata": {
        "id": "RkrPiL-RBWIn",
        "colab": {
          "base_uri": "https://localhost:8080/",
          "height": 107
        },
        "outputId": "8999d5ba-f645-4d48-addb-f0af62046f29"
      },
      "outputs": [
        {
          "output_type": "execute_result",
          "data": {
            "text/plain": [
              "\"\\nsensor = 'Measured_RPM'\\n\\nX0_A,y0_A = get_features(data0D_A[sensor], 'Balanced')\\nX1_A,y1_A = get_features(data1D_A[sensor], 'Unbalanced_LowLow')\\nX2_A,y2_A = get_features(data2D_A[sensor], 'Unbalanced_Low')\\nX3_A,y3_A = get_features(data3D_A[sensor], 'Unbalanced_High')\\nX4_A,y4_A = get_features(data4D_A[sensor], 'Unbalanced_HighHigh')\\n\\n\\nX0_A_val, y0_A_val = get_features(data0E_A[sensor], 'Balanced')\\nX1_A_val, y1_A_val = get_features(data1E_A[sensor], 'Unbalanced_LowLow')\\nX2_A_val, y2_A_val = get_features(data2E_A[sensor], 'Unbalanced_Low')\\nX3_A_val, y3_A_val = get_features(data3E_A[sensor], 'Unbalanced_High')\\nX4_A_val, y4_A_val = get_features(data4E_A[sensor], 'Unbalanced_HighHigh')\\n\\n\\nX0_B,y0_B = get_features(data0D_B[sensor], 'Balanced')\\nX1_B,y1_B = get_features(data1D_B[sensor], 'Unbalanced_LowLow')\\nX2_B,y2_B = get_features(data2D_B[sensor], 'Unbalanced_Low')\\nX3_B,y3_B = get_features(data3D_B[sensor], 'Unbalanced_High')\\nX4_B,y4_B = get_features(data4D_B[sensor], 'Unbalanced_HighHigh')\\n\\n\\nX0_B_val, y0_B_val = get_features(data0E_B[sensor], 'Balanced')\\nX1_B_val, y1_B_val = get_features(data1E_B[sensor], 'Unbalanced_LowLow')\\nX2_B_val, y2_B_val = get_features(data2E_B[sensor], 'Unbalanced_Low')\\nX3_B_val, y3_B_val = get_features(data3E_B[sensor], 'Unbalanced_High')\\nX4_B_val, y4_B_val = get_features(data4E_B[sensor], 'Unbalanced_HighHigh')\\n\\nX0 = np.concatenate([X0_A, X0_B])\\ny0 = np.concatenate([y0_A, y0_B])\\nX1 = np.concatenate([X1_A, X1_B])\\ny1 = np.concatenate([y1_A, y1_B])\\nX2 = np.concatenate([X2_A, X2_B])\\ny2 = np.concatenate([y2_A, y2_B])\\nX3 = np.concatenate([X3_A, X3_B])\\ny3 = np.concatenate([y3_A, y3_B])\\nX4 = np.concatenate([X4_A, X4_B])\\ny4 = np.concatenate([y4_A, y4_B])\\n\\nX0_val = np.concatenate([X0_A_val, X0_B_val])\\ny0_val = np.concatenate([y0_A_val, y0_B_val])\\nX1_val = np.concatenate([X1_A_val, X1_B_val])\\ny1_val = np.concatenate([y1_A_val, y1_B_val])\\nX2_val = np.concatenate([X2_A_val, X2_B_val])\\ny2_val = np.concatenate([y2_A_val, y2_B_val])\\nX3_val = np.concatenate([X3_A_val, X3_B_val])\\ny3_val = np.concatenate([y3_A_val, y3_B_val])\\nX4_val = np.concatenate([X4_A_val, X4_B_val])\\ny4_val = np.concatenate([y4_A_val, y4_B_val])\\n\\n\\nX_Measured_RPM=np.concatenate([X0, X1, X2, X3, X4])\\ny=np.concatenate([y0, y1, y2, y3, y4])\\n\\nX_Measured_RPM_val=np.concatenate([X0_val, X1_val, X2_val, X3_val, X4_val])\\ny_val=np.concatenate([y0_val, y1_val, y2_val, y3_val, y4_val])\\n\""
            ],
            "application/vnd.google.colaboratory.intrinsic+json": {
              "type": "string"
            }
          },
          "metadata": {},
          "execution_count": 18
        }
      ],
      "source": [
        "'''\n",
        "sensor = 'Measured_RPM'\n",
        "\n",
        "X0_A,y0_A = get_features(data0D_A[sensor], 'Balanced')\n",
        "X1_A,y1_A = get_features(data1D_A[sensor], 'Unbalanced_LowLow')\n",
        "X2_A,y2_A = get_features(data2D_A[sensor], 'Unbalanced_Low')\n",
        "X3_A,y3_A = get_features(data3D_A[sensor], 'Unbalanced_High')\n",
        "X4_A,y4_A = get_features(data4D_A[sensor], 'Unbalanced_HighHigh')\n",
        "\n",
        "\n",
        "X0_A_val, y0_A_val = get_features(data0E_A[sensor], 'Balanced')\n",
        "X1_A_val, y1_A_val = get_features(data1E_A[sensor], 'Unbalanced_LowLow')\n",
        "X2_A_val, y2_A_val = get_features(data2E_A[sensor], 'Unbalanced_Low')\n",
        "X3_A_val, y3_A_val = get_features(data3E_A[sensor], 'Unbalanced_High')\n",
        "X4_A_val, y4_A_val = get_features(data4E_A[sensor], 'Unbalanced_HighHigh')\n",
        "\n",
        "\n",
        "X0_B,y0_B = get_features(data0D_B[sensor], 'Balanced')\n",
        "X1_B,y1_B = get_features(data1D_B[sensor], 'Unbalanced_LowLow')\n",
        "X2_B,y2_B = get_features(data2D_B[sensor], 'Unbalanced_Low')\n",
        "X3_B,y3_B = get_features(data3D_B[sensor], 'Unbalanced_High')\n",
        "X4_B,y4_B = get_features(data4D_B[sensor], 'Unbalanced_HighHigh')\n",
        "\n",
        "\n",
        "X0_B_val, y0_B_val = get_features(data0E_B[sensor], 'Balanced')\n",
        "X1_B_val, y1_B_val = get_features(data1E_B[sensor], 'Unbalanced_LowLow')\n",
        "X2_B_val, y2_B_val = get_features(data2E_B[sensor], 'Unbalanced_Low')\n",
        "X3_B_val, y3_B_val = get_features(data3E_B[sensor], 'Unbalanced_High')\n",
        "X4_B_val, y4_B_val = get_features(data4E_B[sensor], 'Unbalanced_HighHigh')\n",
        "\n",
        "X0 = np.concatenate([X0_A, X0_B])\n",
        "y0 = np.concatenate([y0_A, y0_B])\n",
        "X1 = np.concatenate([X1_A, X1_B])\n",
        "y1 = np.concatenate([y1_A, y1_B])\n",
        "X2 = np.concatenate([X2_A, X2_B])\n",
        "y2 = np.concatenate([y2_A, y2_B])\n",
        "X3 = np.concatenate([X3_A, X3_B])\n",
        "y3 = np.concatenate([y3_A, y3_B])\n",
        "X4 = np.concatenate([X4_A, X4_B])\n",
        "y4 = np.concatenate([y4_A, y4_B])\n",
        "\n",
        "X0_val = np.concatenate([X0_A_val, X0_B_val])\n",
        "y0_val = np.concatenate([y0_A_val, y0_B_val])\n",
        "X1_val = np.concatenate([X1_A_val, X1_B_val])\n",
        "y1_val = np.concatenate([y1_A_val, y1_B_val])\n",
        "X2_val = np.concatenate([X2_A_val, X2_B_val])\n",
        "y2_val = np.concatenate([y2_A_val, y2_B_val])\n",
        "X3_val = np.concatenate([X3_A_val, X3_B_val])\n",
        "y3_val = np.concatenate([y3_A_val, y3_B_val])\n",
        "X4_val = np.concatenate([X4_A_val, X4_B_val])\n",
        "y4_val = np.concatenate([y4_A_val, y4_B_val])\n",
        "\n",
        "\n",
        "X_Measured_RPM=np.concatenate([X0, X1, X2, X3, X4])\n",
        "y=np.concatenate([y0, y1, y2, y3, y4])\n",
        "\n",
        "X_Measured_RPM_val=np.concatenate([X0_val, X1_val, X2_val, X3_val, X4_val])\n",
        "y_val=np.concatenate([y0_val, y1_val, y2_val, y3_val, y4_val])\n",
        "'''"
      ]
    },
    {
      "cell_type": "markdown",
      "metadata": {
        "id": "b3PU2oDToGhm"
      },
      "source": [
        "Now the dataset for training X contains 32142 samples with 4096 values each as well as the associated label information y with 32142 labels (one label per sample). The dataset for validating the trained model X_val contains 8420 samples plus the labels y_val accordingly."
      ]
    },
    {
      "cell_type": "code",
      "execution_count": null,
      "metadata": {
        "colab": {
          "base_uri": "https://localhost:8080/"
        },
        "id": "brr1jl43oGhm",
        "outputId": "bf58ca9b-daa0-4a36-87f1-72d197471063"
      },
      "outputs": [
        {
          "output_type": "stream",
          "name": "stdout",
          "text": [
            "(25388, 4096) (25388, 4) (6344, 4096) (6344, 4)\n"
          ]
        }
      ],
      "source": [
        "print(X_Vibration_1.shape, y.shape, X_Vibration_1_val.shape, y_val.shape)"
      ]
    },
    {
      "cell_type": "code",
      "execution_count": null,
      "metadata": {
        "id": "NuOlXk4LCnPu"
      },
      "outputs": [],
      "source": [
        "#print(X_Vibration_2.shape, y.shape, X_Vibration_2_val.shape, y_val.shape)"
      ]
    },
    {
      "cell_type": "code",
      "execution_count": null,
      "metadata": {
        "id": "Ob5VnTfvCnH6"
      },
      "outputs": [],
      "source": [
        "#print(X_Vibration_3.shape, y.shape, X_Vibration_3_val.shape, y_val.shape)"
      ]
    },
    {
      "cell_type": "code",
      "execution_count": null,
      "metadata": {
        "id": "f2cMKE-BCmzl"
      },
      "outputs": [],
      "source": [
        "#print(X_Measured_RPM.shape, y.shape, X_Measured_RPM_val.shape, y_val.shape)"
      ]
    },
    {
      "cell_type": "markdown",
      "metadata": {
        "id": "nNkhfisV65CG"
      },
      "source": [
        "**Janelamento dos sinais de vibração** (Posicionado aqui para não gerar estouro de RAM)"
      ]
    },
    {
      "cell_type": "code",
      "execution_count": null,
      "metadata": {
        "id": "WTkLZBUg65kc"
      },
      "outputs": [],
      "source": [
        "def janelamentoHanning(basededados, window):\n",
        "  janela_hanning = np.hanning(window)\n",
        "  basededados = basededados*janela_hanning\n",
        "  return basededados"
      ]
    },
    {
      "cell_type": "code",
      "execution_count": null,
      "metadata": {
        "id": "szohrPn1DXjQ"
      },
      "outputs": [],
      "source": [
        "X_Vibration_1_jan = janelamentoHanning(X_Vibration_1, 4096)\n",
        "X_Vibration_1_val_jan = janelamentoHanning(X_Vibration_1_val, 4096)\n",
        "#X_Vibration_2_jan = janelamentoHanning(X_Vibration_2, 4096)\n",
        "#X_Vibration_2_val_jan = janelamentoHanning(X_Vibration_2_val, 4096)\n",
        "#X_Vibration_3_jan = janelamentoHanning(X_Vibration_3, 4096)\n",
        "#X_Vibration_3_val_jan = janelamentoHanning(X_Vibration_3_val, 4096)"
      ]
    },
    {
      "cell_type": "code",
      "execution_count": null,
      "metadata": {
        "colab": {
          "base_uri": "https://localhost:8080/"
        },
        "id": "wOuZ7cWrJME2",
        "outputId": "c1a4d2f4-60dc-4fba-a0ca-bad55bdac94a"
      },
      "outputs": [
        {
          "output_type": "execute_result",
          "data": {
            "text/plain": [
              "(25388, 4096)"
            ]
          },
          "metadata": {},
          "execution_count": 25
        }
      ],
      "source": [
        "X_Vibration_1_jan.shape"
      ]
    },
    {
      "cell_type": "markdown",
      "metadata": {
        "id": "qDSMGU6AEJsF"
      },
      "source": [
        "Calculando as estatísticas da velocidade"
      ]
    },
    {
      "cell_type": "code",
      "execution_count": null,
      "metadata": {
        "id": "9HHdfCmXEIpy",
        "colab": {
          "base_uri": "https://localhost:8080/",
          "height": 53
        },
        "outputId": "5ec10e73-148b-4e37-a444-f847824bdd5a"
      },
      "outputs": [
        {
          "output_type": "execute_result",
          "data": {
            "text/plain": [
              "'\\nX_Measured_RPM_mean = np.mean(X_Measured_RPM, axis=1)\\nX_Measured_RPM_mean = X_Measured_RPM_mean.reshape(X_Measured_RPM_mean.shape[0],1)\\nX_Measured_RPM_val_mean = np.mean(X_Measured_RPM_val, axis=1)\\nX_Measured_RPM_val_mean = X_Measured_RPM_val_mean.reshape(X_Measured_RPM_val_mean.shape[0],1)\\n'"
            ],
            "application/vnd.google.colaboratory.intrinsic+json": {
              "type": "string"
            }
          },
          "metadata": {},
          "execution_count": 26
        }
      ],
      "source": [
        "'''\n",
        "X_Measured_RPM_mean = np.mean(X_Measured_RPM, axis=1)\n",
        "X_Measured_RPM_mean = X_Measured_RPM_mean.reshape(X_Measured_RPM_mean.shape[0],1)\n",
        "X_Measured_RPM_val_mean = np.mean(X_Measured_RPM_val, axis=1)\n",
        "X_Measured_RPM_val_mean = X_Measured_RPM_val_mean.reshape(X_Measured_RPM_val_mean.shape[0],1)\n",
        "'''"
      ]
    },
    {
      "cell_type": "code",
      "execution_count": null,
      "metadata": {
        "id": "kBmSKaI4JRmS"
      },
      "outputs": [],
      "source": [
        "#X_Measured_RPM_mean.shape"
      ]
    },
    {
      "cell_type": "markdown",
      "metadata": {
        "id": "qnmyMpNUXSon"
      },
      "source": [
        "**Função para cálculo da FFT**"
      ]
    },
    {
      "cell_type": "code",
      "execution_count": null,
      "metadata": {
        "id": "EEj7g4c97h9U"
      },
      "outputs": [],
      "source": [
        "def calcula_fft(basededados, window, freq_inicio, freq_fim):\n",
        "  X_fft = np.abs(np.fft.rfft(basededados, axis=1))[:,:int(window/2)]\n",
        "  return X_fft[:, freq_inicio:freq_fim]"
      ]
    },
    {
      "cell_type": "markdown",
      "metadata": {
        "id": "PZc9hqADFnd_"
      },
      "source": [
        "**Extrair o Módulo da FFT do sinal**"
      ]
    },
    {
      "cell_type": "code",
      "execution_count": null,
      "metadata": {
        "id": "OvDpnOYbFU3e"
      },
      "outputs": [],
      "source": [
        "freq_inicio = 0 #Hz\n",
        "freq_fim = 4096 #Hz\n",
        "\n",
        "X_Vibration_1_fft = calcula_fft(X_Vibration_1_jan, 4096, freq_inicio, freq_fim)\n",
        "X_Vibration_1_val_fft = calcula_fft(X_Vibration_1_val_jan, 4096, freq_inicio, freq_fim)\n",
        "#X_Vibration_2_fft = calcula_fft(X_Vibration_2_jan, 4096, freq_inicio, freq_fim)\n",
        "#X_Vibration_2_val_fft = calcula_fft(X_Vibration_2_val_jan, 4096, freq_inicio, freq_fim)\n",
        "#X_Vibration_3_fft = calcula_fft(X_Vibration_3_jan, 4096, freq_inicio, freq_fim)\n",
        "#X_Vibration_3_val_fft = calcula_fft(X_Vibration_3_val_jan, 4096, freq_inicio, freq_fim)"
      ]
    },
    {
      "cell_type": "markdown",
      "metadata": {
        "id": "Yti4L80DHZ9E"
      },
      "source": [
        "## **Encaixar no código**\n",
        "\n",
        "Definir quais sinais serão utilizados de entrada para o modelo de Machine Learning"
      ]
    },
    {
      "cell_type": "code",
      "execution_count": null,
      "metadata": {
        "id": "N8L7xCh2HlQv"
      },
      "outputs": [],
      "source": [
        "#X = np.concatenate(( X_Measured_RPM_mean, X_Vibration_1_fft), axis=1) # X_Vibration_2_fft, X_Vibration_3_fft, X_Measured_RPM_mean), axis=1)\n",
        "#X_val = np.concatenate((X_Measured_RPM_val_mean, X_Vibration_1_val_fft), axis=1) # X_Vibration_2_val_fft, X_Vibration_3_val_fft, X_Measured_RPM_val_mean), axis=1)"
      ]
    },
    {
      "cell_type": "code",
      "execution_count": null,
      "metadata": {
        "id": "N331X5nOuxy1"
      },
      "outputs": [],
      "source": [
        "X = X_Vibration_1_fft\n",
        "X_val = X_Vibration_1_val_fft"
      ]
    },
    {
      "cell_type": "markdown",
      "metadata": {
        "id": "Q_WSG4vZoGhm"
      },
      "source": [
        "## Train-Test-Split\n",
        "\n",
        "The dataset for training (X,y) is splitted into two subsets (X_train,y_train) and (X_test,y_test)."
      ]
    },
    {
      "cell_type": "code",
      "execution_count": null,
      "metadata": {
        "id": "RNaZ-7y-oGhm"
      },
      "outputs": [],
      "source": [
        "from sklearn.model_selection import train_test_split\n",
        "train_test_ratio = 0.9\n",
        "X_train, X_test, y_train, y_test = train_test_split(X,y, test_size = 1-train_test_ratio, random_state = 0)\n",
        "X_train = np.reshape(X_train, (X_train.shape[0], X_train.shape[1], 1))\n",
        "X_test = np.reshape(X_test, (X_test.shape[0], X_test.shape[1], 1))\n",
        "X_val = np.reshape(X_val, (X_val.shape[0], X_val.shape[1], 1))"
      ]
    },
    {
      "cell_type": "code",
      "execution_count": null,
      "metadata": {
        "colab": {
          "base_uri": "https://localhost:8080/"
        },
        "id": "dVwZ9uJjoGhm",
        "outputId": "15c3794e-ab7f-4059-a95e-cdee367e5dc5"
      },
      "outputs": [
        {
          "output_type": "stream",
          "name": "stdout",
          "text": [
            "(22849, 2048, 1) (22849, 4) (2539, 2048, 1) (2539, 4) (6344, 2048, 1) (6344, 4)\n"
          ]
        }
      ],
      "source": [
        "print(X_train.shape, y_train.shape, X_test.shape, y_test.shape, X_val.shape, y_val.shape)"
      ]
    },
    {
      "cell_type": "markdown",
      "metadata": {
        "id": "87wBCZp3UwZP"
      },
      "source": [
        "**Escalonamento**"
      ]
    },
    {
      "cell_type": "code",
      "execution_count": null,
      "metadata": {
        "id": "CxhkNFt-5faH"
      },
      "outputs": [],
      "source": [
        "scaler = RobustScaler(quantile_range=(5,95)).fit(X_train[:,:,0])\n",
        "X_train = scaler.transform(X_train[:,:,0])\n",
        "X_test = scaler.transform(X_test[:,:,0])\n",
        "X_val = scaler.transform(X_val[:,:,0])"
      ]
    },
    {
      "cell_type": "code",
      "execution_count": null,
      "metadata": {
        "colab": {
          "base_uri": "https://localhost:8080/"
        },
        "id": "4eFj591VnNCm",
        "outputId": "1cb58a70-36cd-4472-f8a8-c12b59b9b7a1"
      },
      "outputs": [
        {
          "output_type": "stream",
          "name": "stdout",
          "text": [
            "(22849, 2048) (22849, 4) (2539, 2048) (2539, 4) (6344, 2048) (6344, 4)\n"
          ]
        }
      ],
      "source": [
        "print(X_train.shape, y_train.shape, X_test.shape, y_test.shape, X_val.shape, y_val.shape)"
      ]
    },
    {
      "cell_type": "markdown",
      "metadata": {
        "id": "TGCHIUGqoGhm"
      },
      "source": [
        "## Convolutional Neural Net (CNN)"
      ]
    },
    {
      "cell_type": "markdown",
      "metadata": {
        "id": "rlDA4DccoGhm"
      },
      "source": [
        "## Test with Different Layer Numbers"
      ]
    },
    {
      "cell_type": "code",
      "execution_count": null,
      "metadata": {
        "id": "WdUSxZI5oGhn"
      },
      "outputs": [],
      "source": [
        "from tensorflow.keras.models import Sequential, load_model, Model\n",
        "from tensorflow.keras.layers import BatchNormalization,LeakyReLU,Dense,Dropout\n",
        "from tensorflow.keras.layers import Input,Conv1D,MaxPooling1D,Flatten,ReLU\n",
        "from tensorflow.keras.optimizers import Adam\n",
        "from tensorflow.keras.callbacks import ModelCheckpoint\n",
        "from tensorflow.keras.regularizers import l1_l2\n",
        "\n",
        "def train_models(n_conv_layers):\n",
        "    #n_conv_layers = 3 # [1,2,3,4]\n",
        "    n_dense_units = 1028\n",
        "    dropout_rate = 0.0\n",
        "    use_batch_normalization = True # [True, False]\n",
        "    filter_size = 9 # [5,7,9]\n",
        "    learning_rate = 0.0001\n",
        "    n_epochs = 200 # [50,100,200]\n",
        "\n",
        "    X_in = Input(shape=(X_train.shape[1],1))\n",
        "    x = X_in\n",
        "    for j in range(n_conv_layers):\n",
        "        print(j)\n",
        "        x = Conv1D(filters=(j+1)*20,\n",
        "                   kernel_size=filter_size,\n",
        "                   strides=1,\n",
        "                   activation='linear',\n",
        "                   kernel_initializer='he_uniform')(x)\n",
        "        if use_batch_normalization:\n",
        "            x = BatchNormalization()(x)\n",
        "        x = LeakyReLU(alpha=0.05)(x)\n",
        "        x = MaxPooling1D(pool_size=5, strides=2)(x)\n",
        "    x = Flatten()(x)\n",
        "    x = Dense(units = n_dense_units, activation='linear')(x)\n",
        "    x = ReLU()(x)\n",
        "    x = Dropout(rate=dropout_rate)(x)\n",
        "    #segunda camada Densa\n",
        "    x = Dense(units = n_dense_units, activation='linear')(x)\n",
        "    x = ReLU()(x)\n",
        "    x = Dropout(rate=dropout_rate)(x)\n",
        "    #terceira camada Densa\n",
        "    x = Dense(units = n_dense_units, activation='linear')(x)\n",
        "    x = ReLU()(x)\n",
        "    x = Dropout(rate=dropout_rate)(x)\n",
        "    #quarta camada Densa\n",
        "    x = Dense(units = n_dense_units, activation='linear')(x)\n",
        "    x = ReLU()(x)\n",
        "    x = Dropout(rate=dropout_rate)(x)\n",
        "    #quinta camada Densa\n",
        "    x = Dense(units = n_dense_units, activation='linear')(x)\n",
        "    x = ReLU()(x)\n",
        "    x = Dropout(rate=dropout_rate)(x)\n",
        "    X_out = Dense(units = 4, activation = 'softmax')(x)\n",
        "    classifier = Model(X_in, X_out)\n",
        "    classifier.summary()\n",
        "\n",
        "    best_model_filepath = f\"{model_path}/cnn_{n_conv_layers}_layers.h5\"\n",
        "    checkpoint = ModelCheckpoint(best_model_filepath, monitor='val_loss',\n",
        "                                 verbose=1, save_best_only=True, mode='min')\n",
        "\n",
        "    classifier.compile(optimizer = Adam(learning_rate=learning_rate), loss = 'CategoricalCrossentropy',\n",
        "                       metrics = ['accuracy'])\n",
        "\n",
        "    history = classifier.fit(X_train, y_train, epochs = n_epochs, batch_size = 64,\n",
        "                   validation_data=(X_test, y_test), callbacks=[checkpoint])\n",
        "\n",
        "    classifier = load_model(best_model_filepath)\n",
        "    score = classifier.evaluate(X_val, y_val)\n",
        "\n",
        "    plt.plot(history.history['loss'])\n",
        "    plt.plot(history.history['val_loss'])\n",
        "    plt.show()"
      ]
    },
    {
      "cell_type": "code",
      "execution_count": null,
      "metadata": {
        "id": "AUjA3TP2hoeU"
      },
      "outputs": [],
      "source": [
        "nMaxConvLayers = 1"
      ]
    },
    {
      "cell_type": "code",
      "execution_count": null,
      "metadata": {
        "colab": {
          "base_uri": "https://localhost:8080/",
          "height": 1000
        },
        "id": "iWaNZdiaoGhn",
        "outputId": "c1f33020-fb72-4286-a958-b7337ab04dea",
        "scrolled": false
      },
      "outputs": [
        {
          "output_type": "stream",
          "name": "stdout",
          "text": [
            "0\n"
          ]
        },
        {
          "output_type": "stream",
          "name": "stderr",
          "text": [
            "/usr/local/lib/python3.11/dist-packages/keras/src/layers/activations/leaky_relu.py:41: UserWarning: Argument `alpha` is deprecated. Use `negative_slope` instead.\n",
            "  warnings.warn(\n"
          ]
        },
        {
          "output_type": "display_data",
          "data": {
            "text/plain": [
              "\u001b[1mModel: \"functional\"\u001b[0m\n"
            ],
            "text/html": [
              "<pre style=\"white-space:pre;overflow-x:auto;line-height:normal;font-family:Menlo,'DejaVu Sans Mono',consolas,'Courier New',monospace\"><span style=\"font-weight: bold\">Model: \"functional\"</span>\n",
              "</pre>\n"
            ]
          },
          "metadata": {}
        },
        {
          "output_type": "display_data",
          "data": {
            "text/plain": [
              "┏━━━━━━━━━━━━━━━━━━━━━━━━━━━━━━━━━┳━━━━━━━━━━━━━━━━━━━━━━━━┳━━━━━━━━━━━━━━━┓\n",
              "┃\u001b[1m \u001b[0m\u001b[1mLayer (type)                   \u001b[0m\u001b[1m \u001b[0m┃\u001b[1m \u001b[0m\u001b[1mOutput Shape          \u001b[0m\u001b[1m \u001b[0m┃\u001b[1m \u001b[0m\u001b[1m      Param #\u001b[0m\u001b[1m \u001b[0m┃\n",
              "┡━━━━━━━━━━━━━━━━━━━━━━━━━━━━━━━━━╇━━━━━━━━━━━━━━━━━━━━━━━━╇━━━━━━━━━━━━━━━┩\n",
              "│ input_layer (\u001b[38;5;33mInputLayer\u001b[0m)        │ (\u001b[38;5;45mNone\u001b[0m, \u001b[38;5;34m2048\u001b[0m, \u001b[38;5;34m1\u001b[0m)        │             \u001b[38;5;34m0\u001b[0m │\n",
              "├─────────────────────────────────┼────────────────────────┼───────────────┤\n",
              "│ conv1d (\u001b[38;5;33mConv1D\u001b[0m)                 │ (\u001b[38;5;45mNone\u001b[0m, \u001b[38;5;34m2040\u001b[0m, \u001b[38;5;34m20\u001b[0m)       │           \u001b[38;5;34m200\u001b[0m │\n",
              "├─────────────────────────────────┼────────────────────────┼───────────────┤\n",
              "│ batch_normalization             │ (\u001b[38;5;45mNone\u001b[0m, \u001b[38;5;34m2040\u001b[0m, \u001b[38;5;34m20\u001b[0m)       │            \u001b[38;5;34m80\u001b[0m │\n",
              "│ (\u001b[38;5;33mBatchNormalization\u001b[0m)            │                        │               │\n",
              "├─────────────────────────────────┼────────────────────────┼───────────────┤\n",
              "│ leaky_re_lu (\u001b[38;5;33mLeakyReLU\u001b[0m)         │ (\u001b[38;5;45mNone\u001b[0m, \u001b[38;5;34m2040\u001b[0m, \u001b[38;5;34m20\u001b[0m)       │             \u001b[38;5;34m0\u001b[0m │\n",
              "├─────────────────────────────────┼────────────────────────┼───────────────┤\n",
              "│ max_pooling1d (\u001b[38;5;33mMaxPooling1D\u001b[0m)    │ (\u001b[38;5;45mNone\u001b[0m, \u001b[38;5;34m1018\u001b[0m, \u001b[38;5;34m20\u001b[0m)       │             \u001b[38;5;34m0\u001b[0m │\n",
              "├─────────────────────────────────┼────────────────────────┼───────────────┤\n",
              "│ flatten (\u001b[38;5;33mFlatten\u001b[0m)               │ (\u001b[38;5;45mNone\u001b[0m, \u001b[38;5;34m20360\u001b[0m)          │             \u001b[38;5;34m0\u001b[0m │\n",
              "├─────────────────────────────────┼────────────────────────┼───────────────┤\n",
              "│ dense (\u001b[38;5;33mDense\u001b[0m)                   │ (\u001b[38;5;45mNone\u001b[0m, \u001b[38;5;34m1028\u001b[0m)           │    \u001b[38;5;34m20,931,108\u001b[0m │\n",
              "├─────────────────────────────────┼────────────────────────┼───────────────┤\n",
              "│ re_lu (\u001b[38;5;33mReLU\u001b[0m)                    │ (\u001b[38;5;45mNone\u001b[0m, \u001b[38;5;34m1028\u001b[0m)           │             \u001b[38;5;34m0\u001b[0m │\n",
              "├─────────────────────────────────┼────────────────────────┼───────────────┤\n",
              "│ dropout (\u001b[38;5;33mDropout\u001b[0m)               │ (\u001b[38;5;45mNone\u001b[0m, \u001b[38;5;34m1028\u001b[0m)           │             \u001b[38;5;34m0\u001b[0m │\n",
              "├─────────────────────────────────┼────────────────────────┼───────────────┤\n",
              "│ dense_1 (\u001b[38;5;33mDense\u001b[0m)                 │ (\u001b[38;5;45mNone\u001b[0m, \u001b[38;5;34m1028\u001b[0m)           │     \u001b[38;5;34m1,057,812\u001b[0m │\n",
              "├─────────────────────────────────┼────────────────────────┼───────────────┤\n",
              "│ re_lu_1 (\u001b[38;5;33mReLU\u001b[0m)                  │ (\u001b[38;5;45mNone\u001b[0m, \u001b[38;5;34m1028\u001b[0m)           │             \u001b[38;5;34m0\u001b[0m │\n",
              "├─────────────────────────────────┼────────────────────────┼───────────────┤\n",
              "│ dropout_1 (\u001b[38;5;33mDropout\u001b[0m)             │ (\u001b[38;5;45mNone\u001b[0m, \u001b[38;5;34m1028\u001b[0m)           │             \u001b[38;5;34m0\u001b[0m │\n",
              "├─────────────────────────────────┼────────────────────────┼───────────────┤\n",
              "│ dense_2 (\u001b[38;5;33mDense\u001b[0m)                 │ (\u001b[38;5;45mNone\u001b[0m, \u001b[38;5;34m1028\u001b[0m)           │     \u001b[38;5;34m1,057,812\u001b[0m │\n",
              "├─────────────────────────────────┼────────────────────────┼───────────────┤\n",
              "│ re_lu_2 (\u001b[38;5;33mReLU\u001b[0m)                  │ (\u001b[38;5;45mNone\u001b[0m, \u001b[38;5;34m1028\u001b[0m)           │             \u001b[38;5;34m0\u001b[0m │\n",
              "├─────────────────────────────────┼────────────────────────┼───────────────┤\n",
              "│ dropout_2 (\u001b[38;5;33mDropout\u001b[0m)             │ (\u001b[38;5;45mNone\u001b[0m, \u001b[38;5;34m1028\u001b[0m)           │             \u001b[38;5;34m0\u001b[0m │\n",
              "├─────────────────────────────────┼────────────────────────┼───────────────┤\n",
              "│ dense_3 (\u001b[38;5;33mDense\u001b[0m)                 │ (\u001b[38;5;45mNone\u001b[0m, \u001b[38;5;34m1028\u001b[0m)           │     \u001b[38;5;34m1,057,812\u001b[0m │\n",
              "├─────────────────────────────────┼────────────────────────┼───────────────┤\n",
              "│ re_lu_3 (\u001b[38;5;33mReLU\u001b[0m)                  │ (\u001b[38;5;45mNone\u001b[0m, \u001b[38;5;34m1028\u001b[0m)           │             \u001b[38;5;34m0\u001b[0m │\n",
              "├─────────────────────────────────┼────────────────────────┼───────────────┤\n",
              "│ dropout_3 (\u001b[38;5;33mDropout\u001b[0m)             │ (\u001b[38;5;45mNone\u001b[0m, \u001b[38;5;34m1028\u001b[0m)           │             \u001b[38;5;34m0\u001b[0m │\n",
              "├─────────────────────────────────┼────────────────────────┼───────────────┤\n",
              "│ dense_4 (\u001b[38;5;33mDense\u001b[0m)                 │ (\u001b[38;5;45mNone\u001b[0m, \u001b[38;5;34m1028\u001b[0m)           │     \u001b[38;5;34m1,057,812\u001b[0m │\n",
              "├─────────────────────────────────┼────────────────────────┼───────────────┤\n",
              "│ re_lu_4 (\u001b[38;5;33mReLU\u001b[0m)                  │ (\u001b[38;5;45mNone\u001b[0m, \u001b[38;5;34m1028\u001b[0m)           │             \u001b[38;5;34m0\u001b[0m │\n",
              "├─────────────────────────────────┼────────────────────────┼───────────────┤\n",
              "│ dropout_4 (\u001b[38;5;33mDropout\u001b[0m)             │ (\u001b[38;5;45mNone\u001b[0m, \u001b[38;5;34m1028\u001b[0m)           │             \u001b[38;5;34m0\u001b[0m │\n",
              "├─────────────────────────────────┼────────────────────────┼───────────────┤\n",
              "│ dense_5 (\u001b[38;5;33mDense\u001b[0m)                 │ (\u001b[38;5;45mNone\u001b[0m, \u001b[38;5;34m4\u001b[0m)              │         \u001b[38;5;34m4,116\u001b[0m │\n",
              "└─────────────────────────────────┴────────────────────────┴───────────────┘\n"
            ],
            "text/html": [
              "<pre style=\"white-space:pre;overflow-x:auto;line-height:normal;font-family:Menlo,'DejaVu Sans Mono',consolas,'Courier New',monospace\">┏━━━━━━━━━━━━━━━━━━━━━━━━━━━━━━━━━┳━━━━━━━━━━━━━━━━━━━━━━━━┳━━━━━━━━━━━━━━━┓\n",
              "┃<span style=\"font-weight: bold\"> Layer (type)                    </span>┃<span style=\"font-weight: bold\"> Output Shape           </span>┃<span style=\"font-weight: bold\">       Param # </span>┃\n",
              "┡━━━━━━━━━━━━━━━━━━━━━━━━━━━━━━━━━╇━━━━━━━━━━━━━━━━━━━━━━━━╇━━━━━━━━━━━━━━━┩\n",
              "│ input_layer (<span style=\"color: #0087ff; text-decoration-color: #0087ff\">InputLayer</span>)        │ (<span style=\"color: #00d7ff; text-decoration-color: #00d7ff\">None</span>, <span style=\"color: #00af00; text-decoration-color: #00af00\">2048</span>, <span style=\"color: #00af00; text-decoration-color: #00af00\">1</span>)        │             <span style=\"color: #00af00; text-decoration-color: #00af00\">0</span> │\n",
              "├─────────────────────────────────┼────────────────────────┼───────────────┤\n",
              "│ conv1d (<span style=\"color: #0087ff; text-decoration-color: #0087ff\">Conv1D</span>)                 │ (<span style=\"color: #00d7ff; text-decoration-color: #00d7ff\">None</span>, <span style=\"color: #00af00; text-decoration-color: #00af00\">2040</span>, <span style=\"color: #00af00; text-decoration-color: #00af00\">20</span>)       │           <span style=\"color: #00af00; text-decoration-color: #00af00\">200</span> │\n",
              "├─────────────────────────────────┼────────────────────────┼───────────────┤\n",
              "│ batch_normalization             │ (<span style=\"color: #00d7ff; text-decoration-color: #00d7ff\">None</span>, <span style=\"color: #00af00; text-decoration-color: #00af00\">2040</span>, <span style=\"color: #00af00; text-decoration-color: #00af00\">20</span>)       │            <span style=\"color: #00af00; text-decoration-color: #00af00\">80</span> │\n",
              "│ (<span style=\"color: #0087ff; text-decoration-color: #0087ff\">BatchNormalization</span>)            │                        │               │\n",
              "├─────────────────────────────────┼────────────────────────┼───────────────┤\n",
              "│ leaky_re_lu (<span style=\"color: #0087ff; text-decoration-color: #0087ff\">LeakyReLU</span>)         │ (<span style=\"color: #00d7ff; text-decoration-color: #00d7ff\">None</span>, <span style=\"color: #00af00; text-decoration-color: #00af00\">2040</span>, <span style=\"color: #00af00; text-decoration-color: #00af00\">20</span>)       │             <span style=\"color: #00af00; text-decoration-color: #00af00\">0</span> │\n",
              "├─────────────────────────────────┼────────────────────────┼───────────────┤\n",
              "│ max_pooling1d (<span style=\"color: #0087ff; text-decoration-color: #0087ff\">MaxPooling1D</span>)    │ (<span style=\"color: #00d7ff; text-decoration-color: #00d7ff\">None</span>, <span style=\"color: #00af00; text-decoration-color: #00af00\">1018</span>, <span style=\"color: #00af00; text-decoration-color: #00af00\">20</span>)       │             <span style=\"color: #00af00; text-decoration-color: #00af00\">0</span> │\n",
              "├─────────────────────────────────┼────────────────────────┼───────────────┤\n",
              "│ flatten (<span style=\"color: #0087ff; text-decoration-color: #0087ff\">Flatten</span>)               │ (<span style=\"color: #00d7ff; text-decoration-color: #00d7ff\">None</span>, <span style=\"color: #00af00; text-decoration-color: #00af00\">20360</span>)          │             <span style=\"color: #00af00; text-decoration-color: #00af00\">0</span> │\n",
              "├─────────────────────────────────┼────────────────────────┼───────────────┤\n",
              "│ dense (<span style=\"color: #0087ff; text-decoration-color: #0087ff\">Dense</span>)                   │ (<span style=\"color: #00d7ff; text-decoration-color: #00d7ff\">None</span>, <span style=\"color: #00af00; text-decoration-color: #00af00\">1028</span>)           │    <span style=\"color: #00af00; text-decoration-color: #00af00\">20,931,108</span> │\n",
              "├─────────────────────────────────┼────────────────────────┼───────────────┤\n",
              "│ re_lu (<span style=\"color: #0087ff; text-decoration-color: #0087ff\">ReLU</span>)                    │ (<span style=\"color: #00d7ff; text-decoration-color: #00d7ff\">None</span>, <span style=\"color: #00af00; text-decoration-color: #00af00\">1028</span>)           │             <span style=\"color: #00af00; text-decoration-color: #00af00\">0</span> │\n",
              "├─────────────────────────────────┼────────────────────────┼───────────────┤\n",
              "│ dropout (<span style=\"color: #0087ff; text-decoration-color: #0087ff\">Dropout</span>)               │ (<span style=\"color: #00d7ff; text-decoration-color: #00d7ff\">None</span>, <span style=\"color: #00af00; text-decoration-color: #00af00\">1028</span>)           │             <span style=\"color: #00af00; text-decoration-color: #00af00\">0</span> │\n",
              "├─────────────────────────────────┼────────────────────────┼───────────────┤\n",
              "│ dense_1 (<span style=\"color: #0087ff; text-decoration-color: #0087ff\">Dense</span>)                 │ (<span style=\"color: #00d7ff; text-decoration-color: #00d7ff\">None</span>, <span style=\"color: #00af00; text-decoration-color: #00af00\">1028</span>)           │     <span style=\"color: #00af00; text-decoration-color: #00af00\">1,057,812</span> │\n",
              "├─────────────────────────────────┼────────────────────────┼───────────────┤\n",
              "│ re_lu_1 (<span style=\"color: #0087ff; text-decoration-color: #0087ff\">ReLU</span>)                  │ (<span style=\"color: #00d7ff; text-decoration-color: #00d7ff\">None</span>, <span style=\"color: #00af00; text-decoration-color: #00af00\">1028</span>)           │             <span style=\"color: #00af00; text-decoration-color: #00af00\">0</span> │\n",
              "├─────────────────────────────────┼────────────────────────┼───────────────┤\n",
              "│ dropout_1 (<span style=\"color: #0087ff; text-decoration-color: #0087ff\">Dropout</span>)             │ (<span style=\"color: #00d7ff; text-decoration-color: #00d7ff\">None</span>, <span style=\"color: #00af00; text-decoration-color: #00af00\">1028</span>)           │             <span style=\"color: #00af00; text-decoration-color: #00af00\">0</span> │\n",
              "├─────────────────────────────────┼────────────────────────┼───────────────┤\n",
              "│ dense_2 (<span style=\"color: #0087ff; text-decoration-color: #0087ff\">Dense</span>)                 │ (<span style=\"color: #00d7ff; text-decoration-color: #00d7ff\">None</span>, <span style=\"color: #00af00; text-decoration-color: #00af00\">1028</span>)           │     <span style=\"color: #00af00; text-decoration-color: #00af00\">1,057,812</span> │\n",
              "├─────────────────────────────────┼────────────────────────┼───────────────┤\n",
              "│ re_lu_2 (<span style=\"color: #0087ff; text-decoration-color: #0087ff\">ReLU</span>)                  │ (<span style=\"color: #00d7ff; text-decoration-color: #00d7ff\">None</span>, <span style=\"color: #00af00; text-decoration-color: #00af00\">1028</span>)           │             <span style=\"color: #00af00; text-decoration-color: #00af00\">0</span> │\n",
              "├─────────────────────────────────┼────────────────────────┼───────────────┤\n",
              "│ dropout_2 (<span style=\"color: #0087ff; text-decoration-color: #0087ff\">Dropout</span>)             │ (<span style=\"color: #00d7ff; text-decoration-color: #00d7ff\">None</span>, <span style=\"color: #00af00; text-decoration-color: #00af00\">1028</span>)           │             <span style=\"color: #00af00; text-decoration-color: #00af00\">0</span> │\n",
              "├─────────────────────────────────┼────────────────────────┼───────────────┤\n",
              "│ dense_3 (<span style=\"color: #0087ff; text-decoration-color: #0087ff\">Dense</span>)                 │ (<span style=\"color: #00d7ff; text-decoration-color: #00d7ff\">None</span>, <span style=\"color: #00af00; text-decoration-color: #00af00\">1028</span>)           │     <span style=\"color: #00af00; text-decoration-color: #00af00\">1,057,812</span> │\n",
              "├─────────────────────────────────┼────────────────────────┼───────────────┤\n",
              "│ re_lu_3 (<span style=\"color: #0087ff; text-decoration-color: #0087ff\">ReLU</span>)                  │ (<span style=\"color: #00d7ff; text-decoration-color: #00d7ff\">None</span>, <span style=\"color: #00af00; text-decoration-color: #00af00\">1028</span>)           │             <span style=\"color: #00af00; text-decoration-color: #00af00\">0</span> │\n",
              "├─────────────────────────────────┼────────────────────────┼───────────────┤\n",
              "│ dropout_3 (<span style=\"color: #0087ff; text-decoration-color: #0087ff\">Dropout</span>)             │ (<span style=\"color: #00d7ff; text-decoration-color: #00d7ff\">None</span>, <span style=\"color: #00af00; text-decoration-color: #00af00\">1028</span>)           │             <span style=\"color: #00af00; text-decoration-color: #00af00\">0</span> │\n",
              "├─────────────────────────────────┼────────────────────────┼───────────────┤\n",
              "│ dense_4 (<span style=\"color: #0087ff; text-decoration-color: #0087ff\">Dense</span>)                 │ (<span style=\"color: #00d7ff; text-decoration-color: #00d7ff\">None</span>, <span style=\"color: #00af00; text-decoration-color: #00af00\">1028</span>)           │     <span style=\"color: #00af00; text-decoration-color: #00af00\">1,057,812</span> │\n",
              "├─────────────────────────────────┼────────────────────────┼───────────────┤\n",
              "│ re_lu_4 (<span style=\"color: #0087ff; text-decoration-color: #0087ff\">ReLU</span>)                  │ (<span style=\"color: #00d7ff; text-decoration-color: #00d7ff\">None</span>, <span style=\"color: #00af00; text-decoration-color: #00af00\">1028</span>)           │             <span style=\"color: #00af00; text-decoration-color: #00af00\">0</span> │\n",
              "├─────────────────────────────────┼────────────────────────┼───────────────┤\n",
              "│ dropout_4 (<span style=\"color: #0087ff; text-decoration-color: #0087ff\">Dropout</span>)             │ (<span style=\"color: #00d7ff; text-decoration-color: #00d7ff\">None</span>, <span style=\"color: #00af00; text-decoration-color: #00af00\">1028</span>)           │             <span style=\"color: #00af00; text-decoration-color: #00af00\">0</span> │\n",
              "├─────────────────────────────────┼────────────────────────┼───────────────┤\n",
              "│ dense_5 (<span style=\"color: #0087ff; text-decoration-color: #0087ff\">Dense</span>)                 │ (<span style=\"color: #00d7ff; text-decoration-color: #00d7ff\">None</span>, <span style=\"color: #00af00; text-decoration-color: #00af00\">4</span>)              │         <span style=\"color: #00af00; text-decoration-color: #00af00\">4,116</span> │\n",
              "└─────────────────────────────────┴────────────────────────┴───────────────┘\n",
              "</pre>\n"
            ]
          },
          "metadata": {}
        },
        {
          "output_type": "display_data",
          "data": {
            "text/plain": [
              "\u001b[1m Total params: \u001b[0m\u001b[38;5;34m25,166,752\u001b[0m (96.00 MB)\n"
            ],
            "text/html": [
              "<pre style=\"white-space:pre;overflow-x:auto;line-height:normal;font-family:Menlo,'DejaVu Sans Mono',consolas,'Courier New',monospace\"><span style=\"font-weight: bold\"> Total params: </span><span style=\"color: #00af00; text-decoration-color: #00af00\">25,166,752</span> (96.00 MB)\n",
              "</pre>\n"
            ]
          },
          "metadata": {}
        },
        {
          "output_type": "display_data",
          "data": {
            "text/plain": [
              "\u001b[1m Trainable params: \u001b[0m\u001b[38;5;34m25,166,712\u001b[0m (96.00 MB)\n"
            ],
            "text/html": [
              "<pre style=\"white-space:pre;overflow-x:auto;line-height:normal;font-family:Menlo,'DejaVu Sans Mono',consolas,'Courier New',monospace\"><span style=\"font-weight: bold\"> Trainable params: </span><span style=\"color: #00af00; text-decoration-color: #00af00\">25,166,712</span> (96.00 MB)\n",
              "</pre>\n"
            ]
          },
          "metadata": {}
        },
        {
          "output_type": "display_data",
          "data": {
            "text/plain": [
              "\u001b[1m Non-trainable params: \u001b[0m\u001b[38;5;34m40\u001b[0m (160.00 B)\n"
            ],
            "text/html": [
              "<pre style=\"white-space:pre;overflow-x:auto;line-height:normal;font-family:Menlo,'DejaVu Sans Mono',consolas,'Courier New',monospace\"><span style=\"font-weight: bold\"> Non-trainable params: </span><span style=\"color: #00af00; text-decoration-color: #00af00\">40</span> (160.00 B)\n",
              "</pre>\n"
            ]
          },
          "metadata": {}
        },
        {
          "output_type": "stream",
          "name": "stdout",
          "text": [
            "Epoch 1/200\n",
            "\u001b[1m358/358\u001b[0m \u001b[32m━━━━━━━━━━━━━━━━━━━━\u001b[0m\u001b[37m\u001b[0m \u001b[1m0s\u001b[0m 12ms/step - accuracy: 0.8787 - loss: 0.2904\n",
            "Epoch 1: val_loss improved from inf to 0.08073, saving model to ../models/reference/cnn_1_layers.h5\n"
          ]
        },
        {
          "output_type": "stream",
          "name": "stderr",
          "text": [
            "WARNING:absl:You are saving your model as an HDF5 file via `model.save()` or `keras.saving.save_model(model)`. This file format is considered legacy. We recommend using instead the native Keras format, e.g. `model.save('my_model.keras')` or `keras.saving.save_model(model, 'my_model.keras')`. \n"
          ]
        },
        {
          "output_type": "stream",
          "name": "stdout",
          "text": [
            "\b\b\b\b\b\b\b\b\b\b\b\b\b\b\b\b\b\b\b\b\b\b\b\b\b\b\b\b\b\b\b\b\b\b\b\b\b\b\b\b\b\b\b\b\b\b\b\b\b\b\b\b\b\b\b\b\b\b\b\b\b\b\b\b\b\b\b\b\b\b\b\b\b\b\b\r\u001b[1m358/358\u001b[0m \u001b[32m━━━━━━━━━━━━━━━━━━━━\u001b[0m\u001b[37m\u001b[0m \u001b[1m20s\u001b[0m 25ms/step - accuracy: 0.8789 - loss: 0.2900 - val_accuracy: 0.9701 - val_loss: 0.0807\n",
            "Epoch 2/200\n",
            "\u001b[1m358/358\u001b[0m \u001b[32m━━━━━━━━━━━━━━━━━━━━\u001b[0m\u001b[37m\u001b[0m \u001b[1m0s\u001b[0m 8ms/step - accuracy: 0.9899 - loss: 0.0334\n",
            "Epoch 2: val_loss improved from 0.08073 to 0.01299, saving model to ../models/reference/cnn_1_layers.h5\n"
          ]
        },
        {
          "output_type": "stream",
          "name": "stderr",
          "text": [
            "WARNING:absl:You are saving your model as an HDF5 file via `model.save()` or `keras.saving.save_model(model)`. This file format is considered legacy. We recommend using instead the native Keras format, e.g. `model.save('my_model.keras')` or `keras.saving.save_model(model, 'my_model.keras')`. \n"
          ]
        },
        {
          "output_type": "stream",
          "name": "stdout",
          "text": [
            "\b\b\b\b\b\b\b\b\b\b\b\b\b\b\b\b\b\b\b\b\b\b\b\b\b\b\b\b\b\b\b\b\b\b\b\b\b\b\b\b\b\b\b\b\b\b\b\b\b\b\b\b\b\b\b\b\b\b\b\b\b\b\b\b\b\b\b\b\b\b\b\b\b\b\r\u001b[1m358/358\u001b[0m \u001b[32m━━━━━━━━━━━━━━━━━━━━\u001b[0m\u001b[37m\u001b[0m \u001b[1m4s\u001b[0m 11ms/step - accuracy: 0.9899 - loss: 0.0334 - val_accuracy: 0.9965 - val_loss: 0.0130\n",
            "Epoch 3/200\n",
            "\u001b[1m354/358\u001b[0m \u001b[32m━━━━━━━━━━━━━━━━━━━\u001b[0m\u001b[37m━\u001b[0m \u001b[1m0s\u001b[0m 9ms/step - accuracy: 0.9910 - loss: 0.0252\n",
            "Epoch 3: val_loss did not improve from 0.01299\n",
            "\u001b[1m358/358\u001b[0m \u001b[32m━━━━━━━━━━━━━━━━━━━━\u001b[0m\u001b[37m\u001b[0m \u001b[1m3s\u001b[0m 9ms/step - accuracy: 0.9910 - loss: 0.0252 - val_accuracy: 0.9913 - val_loss: 0.0222\n",
            "Epoch 4/200\n",
            "\u001b[1m357/358\u001b[0m \u001b[32m━━━━━━━━━━━━━━━━━━━\u001b[0m\u001b[37m━\u001b[0m \u001b[1m0s\u001b[0m 8ms/step - accuracy: 0.9938 - loss: 0.0161\n",
            "Epoch 4: val_loss improved from 0.01299 to 0.00537, saving model to ../models/reference/cnn_1_layers.h5\n"
          ]
        },
        {
          "output_type": "stream",
          "name": "stderr",
          "text": [
            "WARNING:absl:You are saving your model as an HDF5 file via `model.save()` or `keras.saving.save_model(model)`. This file format is considered legacy. We recommend using instead the native Keras format, e.g. `model.save('my_model.keras')` or `keras.saving.save_model(model, 'my_model.keras')`. \n"
          ]
        },
        {
          "output_type": "stream",
          "name": "stdout",
          "text": [
            "\b\b\b\b\b\b\b\b\b\b\b\b\b\b\b\b\b\b\b\b\b\b\b\b\b\b\b\b\b\b\b\b\b\b\b\b\b\b\b\b\b\b\b\b\b\b\b\b\b\b\b\b\b\b\b\b\b\b\b\b\b\b\b\b\b\b\b\b\b\b\b\b\b\b\r\u001b[1m358/358\u001b[0m \u001b[32m━━━━━━━━━━━━━━━━━━━━\u001b[0m\u001b[37m\u001b[0m \u001b[1m4s\u001b[0m 11ms/step - accuracy: 0.9938 - loss: 0.0161 - val_accuracy: 0.9980 - val_loss: 0.0054\n",
            "Epoch 5/200\n",
            "\u001b[1m354/358\u001b[0m \u001b[32m━━━━━━━━━━━━━━━━━━━\u001b[0m\u001b[37m━\u001b[0m \u001b[1m0s\u001b[0m 8ms/step - accuracy: 0.9963 - loss: 0.0116\n",
            "Epoch 5: val_loss improved from 0.00537 to 0.00205, saving model to ../models/reference/cnn_1_layers.h5\n"
          ]
        },
        {
          "output_type": "stream",
          "name": "stderr",
          "text": [
            "WARNING:absl:You are saving your model as an HDF5 file via `model.save()` or `keras.saving.save_model(model)`. This file format is considered legacy. We recommend using instead the native Keras format, e.g. `model.save('my_model.keras')` or `keras.saving.save_model(model, 'my_model.keras')`. \n"
          ]
        },
        {
          "output_type": "stream",
          "name": "stdout",
          "text": [
            "\b\b\b\b\b\b\b\b\b\b\b\b\b\b\b\b\b\b\b\b\b\b\b\b\b\b\b\b\b\b\b\b\b\b\b\b\b\b\b\b\b\b\b\b\b\b\b\b\b\b\b\b\b\b\b\b\b\b\b\b\b\b\b\b\b\b\b\b\b\b\b\b\b\b\r\u001b[1m358/358\u001b[0m \u001b[32m━━━━━━━━━━━━━━━━━━━━\u001b[0m\u001b[37m\u001b[0m \u001b[1m4s\u001b[0m 11ms/step - accuracy: 0.9963 - loss: 0.0116 - val_accuracy: 0.9996 - val_loss: 0.0020\n",
            "Epoch 6/200\n",
            "\u001b[1m354/358\u001b[0m \u001b[32m━━━━━━━━━━━━━━━━━━━\u001b[0m\u001b[37m━\u001b[0m \u001b[1m0s\u001b[0m 8ms/step - accuracy: 0.9981 - loss: 0.0046\n",
            "Epoch 6: val_loss did not improve from 0.00205\n",
            "\u001b[1m358/358\u001b[0m \u001b[32m━━━━━━━━━━━━━━━━━━━━\u001b[0m\u001b[37m\u001b[0m \u001b[1m3s\u001b[0m 9ms/step - accuracy: 0.9981 - loss: 0.0047 - val_accuracy: 0.9980 - val_loss: 0.0085\n",
            "Epoch 7/200\n",
            "\u001b[1m356/358\u001b[0m \u001b[32m━━━━━━━━━━━━━━━━━━━\u001b[0m\u001b[37m━\u001b[0m \u001b[1m0s\u001b[0m 8ms/step - accuracy: 0.9949 - loss: 0.0198\n",
            "Epoch 7: val_loss did not improve from 0.00205\n",
            "\u001b[1m358/358\u001b[0m \u001b[32m━━━━━━━━━━━━━━━━━━━━\u001b[0m\u001b[37m\u001b[0m \u001b[1m3s\u001b[0m 9ms/step - accuracy: 0.9949 - loss: 0.0198 - val_accuracy: 0.9968 - val_loss: 0.0084\n",
            "Epoch 8/200\n",
            "\u001b[1m353/358\u001b[0m \u001b[32m━━━━━━━━━━━━━━━━━━━\u001b[0m\u001b[37m━\u001b[0m \u001b[1m0s\u001b[0m 8ms/step - accuracy: 0.9962 - loss: 0.0094\n",
            "Epoch 8: val_loss improved from 0.00205 to 0.00084, saving model to ../models/reference/cnn_1_layers.h5\n"
          ]
        },
        {
          "output_type": "stream",
          "name": "stderr",
          "text": [
            "WARNING:absl:You are saving your model as an HDF5 file via `model.save()` or `keras.saving.save_model(model)`. This file format is considered legacy. We recommend using instead the native Keras format, e.g. `model.save('my_model.keras')` or `keras.saving.save_model(model, 'my_model.keras')`. \n"
          ]
        },
        {
          "output_type": "stream",
          "name": "stdout",
          "text": [
            "\b\b\b\b\b\b\b\b\b\b\b\b\b\b\b\b\b\b\b\b\b\b\b\b\b\b\b\b\b\b\b\b\b\b\b\b\b\b\b\b\b\b\b\b\b\b\b\b\b\b\b\b\b\b\b\b\b\b\b\b\b\b\b\b\b\b\b\b\b\b\b\b\b\b\r\u001b[1m358/358\u001b[0m \u001b[32m━━━━━━━━━━━━━━━━━━━━\u001b[0m\u001b[37m\u001b[0m \u001b[1m4s\u001b[0m 11ms/step - accuracy: 0.9962 - loss: 0.0093 - val_accuracy: 1.0000 - val_loss: 8.3639e-04\n",
            "Epoch 9/200\n",
            "\u001b[1m356/358\u001b[0m \u001b[32m━━━━━━━━━━━━━━━━━━━\u001b[0m\u001b[37m━\u001b[0m \u001b[1m0s\u001b[0m 8ms/step - accuracy: 0.9990 - loss: 0.0033\n",
            "Epoch 9: val_loss did not improve from 0.00084\n",
            "\u001b[1m358/358\u001b[0m \u001b[32m━━━━━━━━━━━━━━━━━━━━\u001b[0m\u001b[37m\u001b[0m \u001b[1m3s\u001b[0m 9ms/step - accuracy: 0.9990 - loss: 0.0033 - val_accuracy: 0.9992 - val_loss: 0.0033\n",
            "Epoch 10/200\n",
            "\u001b[1m355/358\u001b[0m \u001b[32m━━━━━━━━━━━━━━━━━━━\u001b[0m\u001b[37m━\u001b[0m \u001b[1m0s\u001b[0m 8ms/step - accuracy: 0.9977 - loss: 0.0079\n",
            "Epoch 10: val_loss did not improve from 0.00084\n",
            "\u001b[1m358/358\u001b[0m \u001b[32m━━━━━━━━━━━━━━━━━━━━\u001b[0m\u001b[37m\u001b[0m \u001b[1m3s\u001b[0m 9ms/step - accuracy: 0.9977 - loss: 0.0079 - val_accuracy: 0.9937 - val_loss: 0.0155\n",
            "Epoch 11/200\n",
            "\u001b[1m355/358\u001b[0m \u001b[32m━━━━━━━━━━━━━━━━━━━\u001b[0m\u001b[37m━\u001b[0m \u001b[1m0s\u001b[0m 8ms/step - accuracy: 0.9947 - loss: 0.0175\n",
            "Epoch 11: val_loss did not improve from 0.00084\n",
            "\u001b[1m358/358\u001b[0m \u001b[32m━━━━━━━━━━━━━━━━━━━━\u001b[0m\u001b[37m\u001b[0m \u001b[1m3s\u001b[0m 9ms/step - accuracy: 0.9947 - loss: 0.0175 - val_accuracy: 0.9933 - val_loss: 0.0248\n",
            "Epoch 12/200\n",
            "\u001b[1m354/358\u001b[0m \u001b[32m━━━━━━━━━━━━━━━━━━━\u001b[0m\u001b[37m━\u001b[0m \u001b[1m0s\u001b[0m 9ms/step - accuracy: 0.9978 - loss: 0.0088\n",
            "Epoch 12: val_loss did not improve from 0.00084\n",
            "\u001b[1m358/358\u001b[0m \u001b[32m━━━━━━━━━━━━━━━━━━━━\u001b[0m\u001b[37m\u001b[0m \u001b[1m3s\u001b[0m 9ms/step - accuracy: 0.9978 - loss: 0.0088 - val_accuracy: 0.9933 - val_loss: 0.0233\n",
            "Epoch 13/200\n",
            "\u001b[1m357/358\u001b[0m \u001b[32m━━━━━━━━━━━━━━━━━━━\u001b[0m\u001b[37m━\u001b[0m \u001b[1m0s\u001b[0m 9ms/step - accuracy: 0.9993 - loss: 0.0024\n",
            "Epoch 13: val_loss did not improve from 0.00084\n",
            "\u001b[1m358/358\u001b[0m \u001b[32m━━━━━━━━━━━━━━━━━━━━\u001b[0m\u001b[37m\u001b[0m \u001b[1m3s\u001b[0m 9ms/step - accuracy: 0.9993 - loss: 0.0024 - val_accuracy: 0.9976 - val_loss: 0.0067\n",
            "Epoch 14/200\n",
            "\u001b[1m356/358\u001b[0m \u001b[32m━━━━━━━━━━━━━━━━━━━\u001b[0m\u001b[37m━\u001b[0m \u001b[1m0s\u001b[0m 9ms/step - accuracy: 0.9989 - loss: 0.0024\n",
            "Epoch 14: val_loss did not improve from 0.00084\n",
            "\u001b[1m358/358\u001b[0m \u001b[32m━━━━━━━━━━━━━━━━━━━━\u001b[0m\u001b[37m\u001b[0m \u001b[1m3s\u001b[0m 9ms/step - accuracy: 0.9989 - loss: 0.0025 - val_accuracy: 0.9980 - val_loss: 0.0060\n",
            "Epoch 15/200\n",
            "\u001b[1m357/358\u001b[0m \u001b[32m━━━━━━━━━━━━━━━━━━━\u001b[0m\u001b[37m━\u001b[0m \u001b[1m0s\u001b[0m 8ms/step - accuracy: 0.9966 - loss: 0.0181\n",
            "Epoch 15: val_loss did not improve from 0.00084\n",
            "\u001b[1m358/358\u001b[0m \u001b[32m━━━━━━━━━━━━━━━━━━━━\u001b[0m\u001b[37m\u001b[0m \u001b[1m3s\u001b[0m 9ms/step - accuracy: 0.9966 - loss: 0.0180 - val_accuracy: 0.9992 - val_loss: 0.0030\n",
            "Epoch 16/200\n",
            "\u001b[1m354/358\u001b[0m \u001b[32m━━━━━━━━━━━━━━━━━━━\u001b[0m\u001b[37m━\u001b[0m \u001b[1m0s\u001b[0m 8ms/step - accuracy: 0.9973 - loss: 0.0093\n",
            "Epoch 16: val_loss did not improve from 0.00084\n",
            "\u001b[1m358/358\u001b[0m \u001b[32m━━━━━━━━━━━━━━━━━━━━\u001b[0m\u001b[37m\u001b[0m \u001b[1m3s\u001b[0m 9ms/step - accuracy: 0.9973 - loss: 0.0093 - val_accuracy: 0.9996 - val_loss: 0.0011\n",
            "Epoch 17/200\n",
            "\u001b[1m358/358\u001b[0m \u001b[32m━━━━━━━━━━━━━━━━━━━━\u001b[0m\u001b[37m\u001b[0m \u001b[1m0s\u001b[0m 8ms/step - accuracy: 0.9996 - loss: 0.0016\n",
            "Epoch 17: val_loss did not improve from 0.00084\n",
            "\u001b[1m358/358\u001b[0m \u001b[32m━━━━━━━━━━━━━━━━━━━━\u001b[0m\u001b[37m\u001b[0m \u001b[1m3s\u001b[0m 9ms/step - accuracy: 0.9996 - loss: 0.0016 - val_accuracy: 0.9996 - val_loss: 0.0013\n",
            "Epoch 18/200\n",
            "\u001b[1m357/358\u001b[0m \u001b[32m━━━━━━━━━━━━━━━━━━━\u001b[0m\u001b[37m━\u001b[0m \u001b[1m0s\u001b[0m 8ms/step - accuracy: 0.9977 - loss: 0.0071\n",
            "Epoch 18: val_loss did not improve from 0.00084\n",
            "\u001b[1m358/358\u001b[0m \u001b[32m━━━━━━━━━━━━━━━━━━━━\u001b[0m\u001b[37m\u001b[0m \u001b[1m3s\u001b[0m 9ms/step - accuracy: 0.9977 - loss: 0.0071 - val_accuracy: 0.9972 - val_loss: 0.0080\n",
            "Epoch 19/200\n",
            "\u001b[1m356/358\u001b[0m \u001b[32m━━━━━━━━━━━━━━━━━━━\u001b[0m\u001b[37m━\u001b[0m \u001b[1m0s\u001b[0m 8ms/step - accuracy: 0.9881 - loss: 0.0347\n",
            "Epoch 19: val_loss improved from 0.00084 to 0.00036, saving model to ../models/reference/cnn_1_layers.h5\n"
          ]
        },
        {
          "output_type": "stream",
          "name": "stderr",
          "text": [
            "WARNING:absl:You are saving your model as an HDF5 file via `model.save()` or `keras.saving.save_model(model)`. This file format is considered legacy. We recommend using instead the native Keras format, e.g. `model.save('my_model.keras')` or `keras.saving.save_model(model, 'my_model.keras')`. \n"
          ]
        },
        {
          "output_type": "stream",
          "name": "stdout",
          "text": [
            "\b\b\b\b\b\b\b\b\b\b\b\b\b\b\b\b\b\b\b\b\b\b\b\b\b\b\b\b\b\b\b\b\b\b\b\b\b\b\b\b\b\b\b\b\b\b\b\b\b\b\b\b\b\b\b\b\b\b\b\b\b\b\b\b\b\b\b\b\b\b\b\b\b\b\r\u001b[1m358/358\u001b[0m \u001b[32m━━━━━━━━━━━━━━━━━━━━\u001b[0m\u001b[37m\u001b[0m \u001b[1m4s\u001b[0m 11ms/step - accuracy: 0.9882 - loss: 0.0345 - val_accuracy: 1.0000 - val_loss: 3.5554e-04\n",
            "Epoch 20/200\n",
            "\u001b[1m358/358\u001b[0m \u001b[32m━━━━━━━━━━━━━━━━━━━━\u001b[0m\u001b[37m\u001b[0m \u001b[1m0s\u001b[0m 8ms/step - accuracy: 0.9997 - loss: 7.0743e-04\n",
            "Epoch 20: val_loss improved from 0.00036 to 0.00012, saving model to ../models/reference/cnn_1_layers.h5\n"
          ]
        },
        {
          "output_type": "stream",
          "name": "stderr",
          "text": [
            "WARNING:absl:You are saving your model as an HDF5 file via `model.save()` or `keras.saving.save_model(model)`. This file format is considered legacy. We recommend using instead the native Keras format, e.g. `model.save('my_model.keras')` or `keras.saving.save_model(model, 'my_model.keras')`. \n"
          ]
        },
        {
          "output_type": "stream",
          "name": "stdout",
          "text": [
            "\b\b\b\b\b\b\b\b\b\b\b\b\b\b\b\b\b\b\b\b\b\b\b\b\b\b\b\b\b\b\b\b\b\b\b\b\b\b\b\b\b\b\b\b\b\b\b\b\b\b\b\b\b\b\b\b\b\b\b\b\b\b\b\b\b\b\b\b\b\b\b\b\b\b\b\b\b\b\r\u001b[1m358/358\u001b[0m \u001b[32m━━━━━━━━━━━━━━━━━━━━\u001b[0m\u001b[37m\u001b[0m \u001b[1m4s\u001b[0m 11ms/step - accuracy: 0.9997 - loss: 7.0626e-04 - val_accuracy: 1.0000 - val_loss: 1.2073e-04\n",
            "Epoch 21/200\n",
            "\u001b[1m356/358\u001b[0m \u001b[32m━━━━━━━━━━━━━━━━━━━\u001b[0m\u001b[37m━\u001b[0m \u001b[1m0s\u001b[0m 8ms/step - accuracy: 0.9996 - loss: 0.0016\n",
            "Epoch 21: val_loss did not improve from 0.00012\n",
            "\u001b[1m358/358\u001b[0m \u001b[32m━━━━━━━━━━━━━━━━━━━━\u001b[0m\u001b[37m\u001b[0m \u001b[1m3s\u001b[0m 9ms/step - accuracy: 0.9996 - loss: 0.0016 - val_accuracy: 1.0000 - val_loss: 5.8625e-04\n",
            "Epoch 22/200\n",
            "\u001b[1m352/358\u001b[0m \u001b[32m━━━━━━━━━━━━━━━━━━━\u001b[0m\u001b[37m━\u001b[0m \u001b[1m0s\u001b[0m 8ms/step - accuracy: 0.9994 - loss: 0.0017\n",
            "Epoch 22: val_loss improved from 0.00012 to 0.00011, saving model to ../models/reference/cnn_1_layers.h5\n"
          ]
        },
        {
          "output_type": "stream",
          "name": "stderr",
          "text": [
            "WARNING:absl:You are saving your model as an HDF5 file via `model.save()` or `keras.saving.save_model(model)`. This file format is considered legacy. We recommend using instead the native Keras format, e.g. `model.save('my_model.keras')` or `keras.saving.save_model(model, 'my_model.keras')`. \n"
          ]
        },
        {
          "output_type": "stream",
          "name": "stdout",
          "text": [
            "\b\b\b\b\b\b\b\b\b\b\b\b\b\b\b\b\b\b\b\b\b\b\b\b\b\b\b\b\b\b\b\b\b\b\b\b\b\b\b\b\b\b\b\b\b\b\b\b\b\b\b\b\b\b\b\b\b\b\b\b\b\b\b\b\b\b\b\b\b\b\b\b\b\b\r\u001b[1m358/358\u001b[0m \u001b[32m━━━━━━━━━━━━━━━━━━━━\u001b[0m\u001b[37m\u001b[0m \u001b[1m4s\u001b[0m 11ms/step - accuracy: 0.9994 - loss: 0.0017 - val_accuracy: 1.0000 - val_loss: 1.1213e-04\n",
            "Epoch 23/200\n",
            "\u001b[1m357/358\u001b[0m \u001b[32m━━━━━━━━━━━━━━━━━━━\u001b[0m\u001b[37m━\u001b[0m \u001b[1m0s\u001b[0m 8ms/step - accuracy: 0.9995 - loss: 0.0017\n",
            "Epoch 23: val_loss did not improve from 0.00011\n",
            "\u001b[1m358/358\u001b[0m \u001b[32m━━━━━━━━━━━━━━━━━━━━\u001b[0m\u001b[37m\u001b[0m \u001b[1m3s\u001b[0m 9ms/step - accuracy: 0.9995 - loss: 0.0017 - val_accuracy: 0.9992 - val_loss: 0.0023\n",
            "Epoch 24/200\n",
            "\u001b[1m355/358\u001b[0m \u001b[32m━━━━━━━━━━━━━━━━━━━\u001b[0m\u001b[37m━\u001b[0m \u001b[1m0s\u001b[0m 8ms/step - accuracy: 0.9999 - loss: 7.4335e-04\n",
            "Epoch 24: val_loss did not improve from 0.00011\n",
            "\u001b[1m358/358\u001b[0m \u001b[32m━━━━━━━━━━━━━━━━━━━━\u001b[0m\u001b[37m\u001b[0m \u001b[1m3s\u001b[0m 9ms/step - accuracy: 0.9999 - loss: 7.5357e-04 - val_accuracy: 0.9996 - val_loss: 0.0015\n",
            "Epoch 25/200\n",
            "\u001b[1m355/358\u001b[0m \u001b[32m━━━━━━━━━━━━━━━━━━━\u001b[0m\u001b[37m━\u001b[0m \u001b[1m0s\u001b[0m 8ms/step - accuracy: 1.0000 - loss: 2.2451e-04\n",
            "Epoch 25: val_loss did not improve from 0.00011\n",
            "\u001b[1m358/358\u001b[0m \u001b[32m━━━━━━━━━━━━━━━━━━━━\u001b[0m\u001b[37m\u001b[0m \u001b[1m3s\u001b[0m 9ms/step - accuracy: 1.0000 - loss: 2.4618e-04 - val_accuracy: 0.9842 - val_loss: 0.0394\n",
            "Epoch 26/200\n",
            "\u001b[1m352/358\u001b[0m \u001b[32m━━━━━━━━━━━━━━━━━━━\u001b[0m\u001b[37m━\u001b[0m \u001b[1m0s\u001b[0m 8ms/step - accuracy: 0.9958 - loss: 0.0135\n",
            "Epoch 26: val_loss did not improve from 0.00011\n",
            "\u001b[1m358/358\u001b[0m \u001b[32m━━━━━━━━━━━━━━━━━━━━\u001b[0m\u001b[37m\u001b[0m \u001b[1m3s\u001b[0m 9ms/step - accuracy: 0.9958 - loss: 0.0135 - val_accuracy: 0.9949 - val_loss: 0.0172\n",
            "Epoch 27/200\n",
            "\u001b[1m354/358\u001b[0m \u001b[32m━━━━━━━━━━━━━━━━━━━\u001b[0m\u001b[37m━\u001b[0m \u001b[1m0s\u001b[0m 8ms/step - accuracy: 0.9982 - loss: 0.0047\n",
            "Epoch 27: val_loss improved from 0.00011 to 0.00011, saving model to ../models/reference/cnn_1_layers.h5\n"
          ]
        },
        {
          "output_type": "stream",
          "name": "stderr",
          "text": [
            "WARNING:absl:You are saving your model as an HDF5 file via `model.save()` or `keras.saving.save_model(model)`. This file format is considered legacy. We recommend using instead the native Keras format, e.g. `model.save('my_model.keras')` or `keras.saving.save_model(model, 'my_model.keras')`. \n"
          ]
        },
        {
          "output_type": "stream",
          "name": "stdout",
          "text": [
            "\b\b\b\b\b\b\b\b\b\b\b\b\b\b\b\b\b\b\b\b\b\b\b\b\b\b\b\b\b\b\b\b\b\b\b\b\b\b\b\b\b\b\b\b\b\b\b\b\b\b\b\b\b\b\b\b\b\b\b\b\b\b\b\b\b\b\b\b\b\b\b\b\b\b\r\u001b[1m358/358\u001b[0m \u001b[32m━━━━━━━━━━━━━━━━━━━━\u001b[0m\u001b[37m\u001b[0m \u001b[1m4s\u001b[0m 11ms/step - accuracy: 0.9982 - loss: 0.0046 - val_accuracy: 1.0000 - val_loss: 1.1055e-04\n",
            "Epoch 28/200\n",
            "\u001b[1m356/358\u001b[0m \u001b[32m━━━━━━━━━━━━━━━━━━━\u001b[0m\u001b[37m━\u001b[0m \u001b[1m0s\u001b[0m 8ms/step - accuracy: 0.9989 - loss: 0.0031\n",
            "Epoch 28: val_loss did not improve from 0.00011\n",
            "\u001b[1m358/358\u001b[0m \u001b[32m━━━━━━━━━━━━━━━━━━━━\u001b[0m\u001b[37m\u001b[0m \u001b[1m3s\u001b[0m 9ms/step - accuracy: 0.9989 - loss: 0.0031 - val_accuracy: 0.9992 - val_loss: 0.0016\n",
            "Epoch 29/200\n",
            "\u001b[1m355/358\u001b[0m \u001b[32m━━━━━━━━━━━━━━━━━━━\u001b[0m\u001b[37m━\u001b[0m \u001b[1m0s\u001b[0m 8ms/step - accuracy: 0.9914 - loss: 0.0288\n",
            "Epoch 29: val_loss improved from 0.00011 to 0.00007, saving model to ../models/reference/cnn_1_layers.h5\n"
          ]
        },
        {
          "output_type": "stream",
          "name": "stderr",
          "text": [
            "WARNING:absl:You are saving your model as an HDF5 file via `model.save()` or `keras.saving.save_model(model)`. This file format is considered legacy. We recommend using instead the native Keras format, e.g. `model.save('my_model.keras')` or `keras.saving.save_model(model, 'my_model.keras')`. \n"
          ]
        },
        {
          "output_type": "stream",
          "name": "stdout",
          "text": [
            "\b\b\b\b\b\b\b\b\b\b\b\b\b\b\b\b\b\b\b\b\b\b\b\b\b\b\b\b\b\b\b\b\b\b\b\b\b\b\b\b\b\b\b\b\b\b\b\b\b\b\b\b\b\b\b\b\b\b\b\b\b\b\b\b\b\b\b\b\b\b\b\b\b\b\r\u001b[1m358/358\u001b[0m \u001b[32m━━━━━━━━━━━━━━━━━━━━\u001b[0m\u001b[37m\u001b[0m \u001b[1m4s\u001b[0m 11ms/step - accuracy: 0.9915 - loss: 0.0285 - val_accuracy: 1.0000 - val_loss: 7.0760e-05\n",
            "Epoch 30/200\n",
            "\u001b[1m357/358\u001b[0m \u001b[32m━━━━━━━━━━━━━━━━━━━\u001b[0m\u001b[37m━\u001b[0m \u001b[1m0s\u001b[0m 8ms/step - accuracy: 0.9989 - loss: 0.0057\n",
            "Epoch 30: val_loss did not improve from 0.00007\n",
            "\u001b[1m358/358\u001b[0m \u001b[32m━━━━━━━━━━━━━━━━━━━━\u001b[0m\u001b[37m\u001b[0m \u001b[1m3s\u001b[0m 9ms/step - accuracy: 0.9989 - loss: 0.0057 - val_accuracy: 1.0000 - val_loss: 1.6182e-04\n",
            "Epoch 31/200\n",
            "\u001b[1m356/358\u001b[0m \u001b[32m━━━━━━━━━━━━━━━━━━━\u001b[0m\u001b[37m━\u001b[0m \u001b[1m0s\u001b[0m 8ms/step - accuracy: 0.9997 - loss: 7.9409e-04\n",
            "Epoch 31: val_loss did not improve from 0.00007\n",
            "\u001b[1m358/358\u001b[0m \u001b[32m━━━━━━━━━━━━━━━━━━━━\u001b[0m\u001b[37m\u001b[0m \u001b[1m3s\u001b[0m 9ms/step - accuracy: 0.9997 - loss: 7.9167e-04 - val_accuracy: 0.9996 - val_loss: 0.0027\n",
            "Epoch 32/200\n",
            "\u001b[1m353/358\u001b[0m \u001b[32m━━━━━━━━━━━━━━━━━━━\u001b[0m\u001b[37m━\u001b[0m \u001b[1m0s\u001b[0m 8ms/step - accuracy: 1.0000 - loss: 5.9775e-05\n",
            "Epoch 32: val_loss improved from 0.00007 to 0.00006, saving model to ../models/reference/cnn_1_layers.h5\n"
          ]
        },
        {
          "output_type": "stream",
          "name": "stderr",
          "text": [
            "WARNING:absl:You are saving your model as an HDF5 file via `model.save()` or `keras.saving.save_model(model)`. This file format is considered legacy. We recommend using instead the native Keras format, e.g. `model.save('my_model.keras')` or `keras.saving.save_model(model, 'my_model.keras')`. \n"
          ]
        },
        {
          "output_type": "stream",
          "name": "stdout",
          "text": [
            "\b\b\b\b\b\b\b\b\b\b\b\b\b\b\b\b\b\b\b\b\b\b\b\b\b\b\b\b\b\b\b\b\b\b\b\b\b\b\b\b\b\b\b\b\b\b\b\b\b\b\b\b\b\b\b\b\b\b\b\b\b\b\b\b\b\b\b\b\b\b\b\b\b\b\b\b\b\b\r\u001b[1m358/358\u001b[0m \u001b[32m━━━━━━━━━━━━━━━━━━━━\u001b[0m\u001b[37m\u001b[0m \u001b[1m4s\u001b[0m 11ms/step - accuracy: 1.0000 - loss: 5.9539e-05 - val_accuracy: 1.0000 - val_loss: 6.4725e-05\n",
            "Epoch 33/200\n",
            "\u001b[1m354/358\u001b[0m \u001b[32m━━━━━━━━━━━━━━━━━━━\u001b[0m\u001b[37m━\u001b[0m \u001b[1m0s\u001b[0m 8ms/step - accuracy: 0.9997 - loss: 0.0019\n",
            "Epoch 33: val_loss did not improve from 0.00006\n",
            "\u001b[1m358/358\u001b[0m \u001b[32m━━━━━━━━━━━━━━━━━━━━\u001b[0m\u001b[37m\u001b[0m \u001b[1m3s\u001b[0m 9ms/step - accuracy: 0.9997 - loss: 0.0019 - val_accuracy: 1.0000 - val_loss: 1.8177e-04\n",
            "Epoch 34/200\n",
            "\u001b[1m352/358\u001b[0m \u001b[32m━━━━━━━━━━━━━━━━━━━\u001b[0m\u001b[37m━\u001b[0m \u001b[1m0s\u001b[0m 8ms/step - accuracy: 1.0000 - loss: 4.0621e-05\n",
            "Epoch 34: val_loss did not improve from 0.00006\n",
            "\u001b[1m358/358\u001b[0m \u001b[32m━━━━━━━━━━━━━━━━━━━━\u001b[0m\u001b[37m\u001b[0m \u001b[1m3s\u001b[0m 9ms/step - accuracy: 1.0000 - loss: 4.0406e-05 - val_accuracy: 1.0000 - val_loss: 3.1890e-04\n",
            "Epoch 35/200\n",
            "\u001b[1m353/358\u001b[0m \u001b[32m━━━━━━━━━━━━━━━━━━━\u001b[0m\u001b[37m━\u001b[0m \u001b[1m0s\u001b[0m 8ms/step - accuracy: 0.9999 - loss: 9.2649e-04\n",
            "Epoch 35: val_loss did not improve from 0.00006\n",
            "\u001b[1m358/358\u001b[0m \u001b[32m━━━━━━━━━━━━━━━━━━━━\u001b[0m\u001b[37m\u001b[0m \u001b[1m3s\u001b[0m 9ms/step - accuracy: 0.9999 - loss: 9.4799e-04 - val_accuracy: 0.9992 - val_loss: 0.0039\n",
            "Epoch 36/200\n",
            "\u001b[1m352/358\u001b[0m \u001b[32m━━━━━━━━━━━━━━━━━━━\u001b[0m\u001b[37m━\u001b[0m \u001b[1m0s\u001b[0m 8ms/step - accuracy: 1.0000 - loss: 1.0994e-04\n",
            "Epoch 36: val_loss improved from 0.00006 to 0.00003, saving model to ../models/reference/cnn_1_layers.h5\n"
          ]
        },
        {
          "output_type": "stream",
          "name": "stderr",
          "text": [
            "WARNING:absl:You are saving your model as an HDF5 file via `model.save()` or `keras.saving.save_model(model)`. This file format is considered legacy. We recommend using instead the native Keras format, e.g. `model.save('my_model.keras')` or `keras.saving.save_model(model, 'my_model.keras')`. \n"
          ]
        },
        {
          "output_type": "stream",
          "name": "stdout",
          "text": [
            "\b\b\b\b\b\b\b\b\b\b\b\b\b\b\b\b\b\b\b\b\b\b\b\b\b\b\b\b\b\b\b\b\b\b\b\b\b\b\b\b\b\b\b\b\b\b\b\b\b\b\b\b\b\b\b\b\b\b\b\b\b\b\b\b\b\b\b\b\b\b\b\b\b\b\b\b\b\b\r\u001b[1m358/358\u001b[0m \u001b[32m━━━━━━━━━━━━━━━━━━━━\u001b[0m\u001b[37m\u001b[0m \u001b[1m4s\u001b[0m 11ms/step - accuracy: 1.0000 - loss: 1.0929e-04 - val_accuracy: 1.0000 - val_loss: 3.0276e-05\n",
            "Epoch 37/200\n",
            "\u001b[1m355/358\u001b[0m \u001b[32m━━━━━━━━━━━━━━━━━━━\u001b[0m\u001b[37m━\u001b[0m \u001b[1m0s\u001b[0m 8ms/step - accuracy: 1.0000 - loss: 5.8391e-06\n",
            "Epoch 37: val_loss did not improve from 0.00003\n",
            "\u001b[1m358/358\u001b[0m \u001b[32m━━━━━━━━━━━━━━━━━━━━\u001b[0m\u001b[37m\u001b[0m \u001b[1m3s\u001b[0m 9ms/step - accuracy: 1.0000 - loss: 5.8629e-06 - val_accuracy: 1.0000 - val_loss: 3.0513e-04\n",
            "Epoch 38/200\n",
            "\u001b[1m353/358\u001b[0m \u001b[32m━━━━━━━━━━━━━━━━━━━\u001b[0m\u001b[37m━\u001b[0m \u001b[1m0s\u001b[0m 9ms/step - accuracy: 0.9999 - loss: 2.5987e-04\n",
            "Epoch 38: val_loss did not improve from 0.00003\n",
            "\u001b[1m358/358\u001b[0m \u001b[32m━━━━━━━━━━━━━━━━━━━━\u001b[0m\u001b[37m\u001b[0m \u001b[1m3s\u001b[0m 9ms/step - accuracy: 0.9999 - loss: 2.8986e-04 - val_accuracy: 0.9980 - val_loss: 0.0044\n",
            "Epoch 39/200\n",
            "\u001b[1m356/358\u001b[0m \u001b[32m━━━━━━━━━━━━━━━━━━━\u001b[0m\u001b[37m━\u001b[0m \u001b[1m0s\u001b[0m 9ms/step - accuracy: 0.9968 - loss: 0.0141\n",
            "Epoch 39: val_loss did not improve from 0.00003\n",
            "\u001b[1m358/358\u001b[0m \u001b[32m━━━━━━━━━━━━━━━━━━━━\u001b[0m\u001b[37m\u001b[0m \u001b[1m3s\u001b[0m 9ms/step - accuracy: 0.9968 - loss: 0.0141 - val_accuracy: 1.0000 - val_loss: 2.9608e-04\n",
            "Epoch 40/200\n",
            "\u001b[1m352/358\u001b[0m \u001b[32m━━━━━━━━━━━━━━━━━━━\u001b[0m\u001b[37m━\u001b[0m \u001b[1m0s\u001b[0m 9ms/step - accuracy: 0.9991 - loss: 0.0027\n",
            "Epoch 40: val_loss did not improve from 0.00003\n",
            "\u001b[1m358/358\u001b[0m \u001b[32m━━━━━━━━━━━━━━━━━━━━\u001b[0m\u001b[37m\u001b[0m \u001b[1m3s\u001b[0m 9ms/step - accuracy: 0.9991 - loss: 0.0027 - val_accuracy: 0.9996 - val_loss: 5.2915e-04\n",
            "Epoch 41/200\n",
            "\u001b[1m352/358\u001b[0m \u001b[32m━━━━━━━━━━━━━━━━━━━\u001b[0m\u001b[37m━\u001b[0m \u001b[1m0s\u001b[0m 9ms/step - accuracy: 0.9999 - loss: 2.1774e-04\n",
            "Epoch 41: val_loss did not improve from 0.00003\n",
            "\u001b[1m358/358\u001b[0m \u001b[32m━━━━━━━━━━━━━━━━━━━━\u001b[0m\u001b[37m\u001b[0m \u001b[1m3s\u001b[0m 9ms/step - accuracy: 0.9999 - loss: 2.1744e-04 - val_accuracy: 0.9996 - val_loss: 8.2116e-04\n",
            "Epoch 42/200\n",
            "\u001b[1m352/358\u001b[0m \u001b[32m━━━━━━━━━━━━━━━━━━━\u001b[0m\u001b[37m━\u001b[0m \u001b[1m0s\u001b[0m 8ms/step - accuracy: 1.0000 - loss: 2.0678e-05\n",
            "Epoch 42: val_loss did not improve from 0.00003\n",
            "\u001b[1m358/358\u001b[0m \u001b[32m━━━━━━━━━━━━━━━━━━━━\u001b[0m\u001b[37m\u001b[0m \u001b[1m3s\u001b[0m 9ms/step - accuracy: 1.0000 - loss: 2.0512e-05 - val_accuracy: 0.9996 - val_loss: 0.0012\n",
            "Epoch 43/200\n",
            "\u001b[1m352/358\u001b[0m \u001b[32m━━━━━━━━━━━━━━━━━━━\u001b[0m\u001b[37m━\u001b[0m \u001b[1m0s\u001b[0m 8ms/step - accuracy: 1.0000 - loss: 3.5671e-06\n",
            "Epoch 43: val_loss did not improve from 0.00003\n",
            "\u001b[1m358/358\u001b[0m \u001b[32m━━━━━━━━━━━━━━━━━━━━\u001b[0m\u001b[37m\u001b[0m \u001b[1m3s\u001b[0m 9ms/step - accuracy: 1.0000 - loss: 3.6744e-06 - val_accuracy: 0.9996 - val_loss: 0.0010\n",
            "Epoch 44/200\n",
            "\u001b[1m357/358\u001b[0m \u001b[32m━━━━━━━━━━━━━━━━━━━\u001b[0m\u001b[37m━\u001b[0m \u001b[1m0s\u001b[0m 8ms/step - accuracy: 0.9976 - loss: 0.0160\n",
            "Epoch 44: val_loss did not improve from 0.00003\n",
            "\u001b[1m358/358\u001b[0m \u001b[32m━━━━━━━━━━━━━━━━━━━━\u001b[0m\u001b[37m\u001b[0m \u001b[1m3s\u001b[0m 9ms/step - accuracy: 0.9976 - loss: 0.0160 - val_accuracy: 0.9866 - val_loss: 0.0432\n",
            "Epoch 45/200\n",
            "\u001b[1m353/358\u001b[0m \u001b[32m━━━━━━━━━━━━━━━━━━━\u001b[0m\u001b[37m━\u001b[0m \u001b[1m0s\u001b[0m 8ms/step - accuracy: 0.9885 - loss: 0.0336\n",
            "Epoch 45: val_loss did not improve from 0.00003\n",
            "\u001b[1m358/358\u001b[0m \u001b[32m━━━━━━━━━━━━━━━━━━━━\u001b[0m\u001b[37m\u001b[0m \u001b[1m3s\u001b[0m 9ms/step - accuracy: 0.9886 - loss: 0.0333 - val_accuracy: 1.0000 - val_loss: 2.7047e-04\n",
            "Epoch 46/200\n",
            "\u001b[1m353/358\u001b[0m \u001b[32m━━━━━━━━━━━━━━━━━━━\u001b[0m\u001b[37m━\u001b[0m \u001b[1m0s\u001b[0m 8ms/step - accuracy: 0.9998 - loss: 5.6563e-04\n",
            "Epoch 46: val_loss did not improve from 0.00003\n",
            "\u001b[1m358/358\u001b[0m \u001b[32m━━━━━━━━━━━━━━━━━━━━\u001b[0m\u001b[37m\u001b[0m \u001b[1m3s\u001b[0m 9ms/step - accuracy: 0.9998 - loss: 5.6317e-04 - val_accuracy: 1.0000 - val_loss: 6.3899e-05\n",
            "Epoch 47/200\n",
            "\u001b[1m353/358\u001b[0m \u001b[32m━━━━━━━━━━━━━━━━━━━\u001b[0m\u001b[37m━\u001b[0m \u001b[1m0s\u001b[0m 8ms/step - accuracy: 0.9991 - loss: 0.0029\n",
            "Epoch 47: val_loss did not improve from 0.00003\n",
            "\u001b[1m358/358\u001b[0m \u001b[32m━━━━━━━━━━━━━━━━━━━━\u001b[0m\u001b[37m\u001b[0m \u001b[1m3s\u001b[0m 9ms/step - accuracy: 0.9991 - loss: 0.0029 - val_accuracy: 0.9988 - val_loss: 0.0020\n",
            "Epoch 48/200\n",
            "\u001b[1m352/358\u001b[0m \u001b[32m━━━━━━━━━━━━━━━━━━━\u001b[0m\u001b[37m━\u001b[0m \u001b[1m0s\u001b[0m 8ms/step - accuracy: 0.9956 - loss: 0.0204\n",
            "Epoch 48: val_loss did not improve from 0.00003\n",
            "\u001b[1m358/358\u001b[0m \u001b[32m━━━━━━━━━━━━━━━━━━━━\u001b[0m\u001b[37m\u001b[0m \u001b[1m3s\u001b[0m 9ms/step - accuracy: 0.9957 - loss: 0.0202 - val_accuracy: 1.0000 - val_loss: 2.9754e-04\n",
            "Epoch 49/200\n",
            "\u001b[1m355/358\u001b[0m \u001b[32m━━━━━━━━━━━━━━━━━━━\u001b[0m\u001b[37m━\u001b[0m \u001b[1m0s\u001b[0m 8ms/step - accuracy: 0.9999 - loss: 4.5184e-04\n",
            "Epoch 49: val_loss did not improve from 0.00003\n",
            "\u001b[1m358/358\u001b[0m \u001b[32m━━━━━━━━━━━━━━━━━━━━\u001b[0m\u001b[37m\u001b[0m \u001b[1m3s\u001b[0m 9ms/step - accuracy: 0.9999 - loss: 4.5359e-04 - val_accuracy: 0.9996 - val_loss: 7.9903e-04\n",
            "Epoch 50/200\n",
            "\u001b[1m355/358\u001b[0m \u001b[32m━━━━━━━━━━━━━━━━━━━\u001b[0m\u001b[37m━\u001b[0m \u001b[1m0s\u001b[0m 8ms/step - accuracy: 1.0000 - loss: 1.6301e-04\n",
            "Epoch 50: val_loss did not improve from 0.00003\n",
            "\u001b[1m358/358\u001b[0m \u001b[32m━━━━━━━━━━━━━━━━━━━━\u001b[0m\u001b[37m\u001b[0m \u001b[1m3s\u001b[0m 9ms/step - accuracy: 1.0000 - loss: 1.6638e-04 - val_accuracy: 1.0000 - val_loss: 9.5090e-05\n",
            "Epoch 51/200\n",
            "\u001b[1m353/358\u001b[0m \u001b[32m━━━━━━━━━━━━━━━━━━━\u001b[0m\u001b[37m━\u001b[0m \u001b[1m0s\u001b[0m 9ms/step - accuracy: 1.0000 - loss: 8.8935e-05\n",
            "Epoch 51: val_loss did not improve from 0.00003\n",
            "\u001b[1m358/358\u001b[0m \u001b[32m━━━━━━━━━━━━━━━━━━━━\u001b[0m\u001b[37m\u001b[0m \u001b[1m3s\u001b[0m 9ms/step - accuracy: 1.0000 - loss: 9.5664e-05 - val_accuracy: 1.0000 - val_loss: 4.5208e-04\n",
            "Epoch 52/200\n",
            "\u001b[1m354/358\u001b[0m \u001b[32m━━━━━━━━━━━━━━━━━━━\u001b[0m\u001b[37m━\u001b[0m \u001b[1m0s\u001b[0m 9ms/step - accuracy: 0.9997 - loss: 8.4808e-04\n",
            "Epoch 52: val_loss did not improve from 0.00003\n",
            "\u001b[1m358/358\u001b[0m \u001b[32m━━━━━━━━━━━━━━━━━━━━\u001b[0m\u001b[37m\u001b[0m \u001b[1m3s\u001b[0m 9ms/step - accuracy: 0.9997 - loss: 8.6464e-04 - val_accuracy: 0.9996 - val_loss: 0.0027\n",
            "Epoch 53/200\n",
            "\u001b[1m355/358\u001b[0m \u001b[32m━━━━━━━━━━━━━━━━━━━\u001b[0m\u001b[37m━\u001b[0m \u001b[1m0s\u001b[0m 8ms/step - accuracy: 0.9885 - loss: 0.0306\n",
            "Epoch 53: val_loss did not improve from 0.00003\n",
            "\u001b[1m358/358\u001b[0m \u001b[32m━━━━━━━━━━━━━━━━━━━━\u001b[0m\u001b[37m\u001b[0m \u001b[1m3s\u001b[0m 9ms/step - accuracy: 0.9886 - loss: 0.0304 - val_accuracy: 0.9996 - val_loss: 4.5191e-04\n",
            "Epoch 54/200\n",
            "\u001b[1m354/358\u001b[0m \u001b[32m━━━━━━━━━━━━━━━━━━━\u001b[0m\u001b[37m━\u001b[0m \u001b[1m0s\u001b[0m 9ms/step - accuracy: 1.0000 - loss: 1.2174e-05\n",
            "Epoch 54: val_loss did not improve from 0.00003\n",
            "\u001b[1m358/358\u001b[0m \u001b[32m━━━━━━━━━━━━━━━━━━━━\u001b[0m\u001b[37m\u001b[0m \u001b[1m3s\u001b[0m 9ms/step - accuracy: 1.0000 - loss: 1.2119e-05 - val_accuracy: 0.9996 - val_loss: 3.1127e-04\n",
            "Epoch 55/200\n",
            "\u001b[1m354/358\u001b[0m \u001b[32m━━━━━━━━━━━━━━━━━━━\u001b[0m\u001b[37m━\u001b[0m \u001b[1m0s\u001b[0m 8ms/step - accuracy: 1.0000 - loss: 3.9481e-06\n",
            "Epoch 55: val_loss did not improve from 0.00003\n",
            "\u001b[1m358/358\u001b[0m \u001b[32m━━━━━━━━━━━━━━━━━━━━\u001b[0m\u001b[37m\u001b[0m \u001b[1m3s\u001b[0m 9ms/step - accuracy: 1.0000 - loss: 3.9446e-06 - val_accuracy: 0.9996 - val_loss: 3.0694e-04\n",
            "Epoch 56/200\n",
            "\u001b[1m352/358\u001b[0m \u001b[32m━━━━━━━━━━━━━━━━━━━\u001b[0m\u001b[37m━\u001b[0m \u001b[1m0s\u001b[0m 8ms/step - accuracy: 1.0000 - loss: 3.9490e-06\n",
            "Epoch 56: val_loss did not improve from 0.00003\n",
            "\u001b[1m358/358\u001b[0m \u001b[32m━━━━━━━━━━━━━━━━━━━━\u001b[0m\u001b[37m\u001b[0m \u001b[1m3s\u001b[0m 9ms/step - accuracy: 1.0000 - loss: 3.9260e-06 - val_accuracy: 0.9996 - val_loss: 3.6641e-04\n",
            "Epoch 57/200\n",
            "\u001b[1m355/358\u001b[0m \u001b[32m━━━━━━━━━━━━━━━━━━━\u001b[0m\u001b[37m━\u001b[0m \u001b[1m0s\u001b[0m 8ms/step - accuracy: 1.0000 - loss: 1.0849e-06\n",
            "Epoch 57: val_loss did not improve from 0.00003\n",
            "\u001b[1m358/358\u001b[0m \u001b[32m━━━━━━━━━━━━━━━━━━━━\u001b[0m\u001b[37m\u001b[0m \u001b[1m3s\u001b[0m 9ms/step - accuracy: 1.0000 - loss: 1.0867e-06 - val_accuracy: 0.9996 - val_loss: 2.8071e-04\n",
            "Epoch 58/200\n",
            "\u001b[1m352/358\u001b[0m \u001b[32m━━━━━━━━━━━━━━━━━━━\u001b[0m\u001b[37m━\u001b[0m \u001b[1m0s\u001b[0m 8ms/step - accuracy: 1.0000 - loss: 9.4533e-07\n",
            "Epoch 58: val_loss did not improve from 0.00003\n",
            "\u001b[1m358/358\u001b[0m \u001b[32m━━━━━━━━━━━━━━━━━━━━\u001b[0m\u001b[37m\u001b[0m \u001b[1m3s\u001b[0m 9ms/step - accuracy: 1.0000 - loss: 9.4276e-07 - val_accuracy: 0.9996 - val_loss: 4.4809e-04\n",
            "Epoch 59/200\n",
            "\u001b[1m358/358\u001b[0m \u001b[32m━━━━━━━━━━━━━━━━━━━━\u001b[0m\u001b[37m\u001b[0m \u001b[1m0s\u001b[0m 8ms/step - accuracy: 1.0000 - loss: 9.7716e-07\n",
            "Epoch 59: val_loss did not improve from 0.00003\n",
            "\u001b[1m358/358\u001b[0m \u001b[32m━━━━━━━━━━━━━━━━━━━━\u001b[0m\u001b[37m\u001b[0m \u001b[1m3s\u001b[0m 9ms/step - accuracy: 1.0000 - loss: 9.7841e-07 - val_accuracy: 0.9996 - val_loss: 3.4797e-04\n",
            "Epoch 60/200\n",
            "\u001b[1m352/358\u001b[0m \u001b[32m━━━━━━━━━━━━━━━━━━━\u001b[0m\u001b[37m━\u001b[0m \u001b[1m0s\u001b[0m 8ms/step - accuracy: 1.0000 - loss: 1.5782e-07\n",
            "Epoch 60: val_loss did not improve from 0.00003\n",
            "\u001b[1m358/358\u001b[0m \u001b[32m━━━━━━━━━━━━━━━━━━━━\u001b[0m\u001b[37m\u001b[0m \u001b[1m3s\u001b[0m 9ms/step - accuracy: 1.0000 - loss: 1.5915e-07 - val_accuracy: 0.9996 - val_loss: 3.5566e-04\n",
            "Epoch 61/200\n",
            "\u001b[1m352/358\u001b[0m \u001b[32m━━━━━━━━━━━━━━━━━━━\u001b[0m\u001b[37m━\u001b[0m \u001b[1m0s\u001b[0m 9ms/step - accuracy: 1.0000 - loss: 3.1021e-07\n",
            "Epoch 61: val_loss did not improve from 0.00003\n",
            "\u001b[1m358/358\u001b[0m \u001b[32m━━━━━━━━━━━━━━━━━━━━\u001b[0m\u001b[37m\u001b[0m \u001b[1m3s\u001b[0m 9ms/step - accuracy: 1.0000 - loss: 3.1004e-07 - val_accuracy: 1.0000 - val_loss: 5.8021e-05\n",
            "Epoch 62/200\n",
            "\u001b[1m355/358\u001b[0m \u001b[32m━━━━━━━━━━━━━━━━━━━\u001b[0m\u001b[37m━\u001b[0m \u001b[1m0s\u001b[0m 9ms/step - accuracy: 1.0000 - loss: 2.9448e-07\n",
            "Epoch 62: val_loss did not improve from 0.00003\n",
            "\u001b[1m358/358\u001b[0m \u001b[32m━━━━━━━━━━━━━━━━━━━━\u001b[0m\u001b[37m\u001b[0m \u001b[1m3s\u001b[0m 9ms/step - accuracy: 1.0000 - loss: 2.9339e-07 - val_accuracy: 1.0000 - val_loss: 7.9723e-05\n",
            "Epoch 63/200\n",
            "\u001b[1m352/358\u001b[0m \u001b[32m━━━━━━━━━━━━━━━━━━━\u001b[0m\u001b[37m━\u001b[0m \u001b[1m0s\u001b[0m 9ms/step - accuracy: 1.0000 - loss: 7.9560e-08\n",
            "Epoch 63: val_loss did not improve from 0.00003\n",
            "\u001b[1m358/358\u001b[0m \u001b[32m━━━━━━━━━━━━━━━━━━━━\u001b[0m\u001b[37m\u001b[0m \u001b[1m3s\u001b[0m 9ms/step - accuracy: 1.0000 - loss: 7.9806e-08 - val_accuracy: 1.0000 - val_loss: 8.3010e-05\n",
            "Epoch 64/200\n",
            "\u001b[1m357/358\u001b[0m \u001b[32m━━━━━━━━━━━━━━━━━━━\u001b[0m\u001b[37m━\u001b[0m \u001b[1m0s\u001b[0m 9ms/step - accuracy: 1.0000 - loss: 6.2517e-08\n",
            "Epoch 64: val_loss did not improve from 0.00003\n",
            "\u001b[1m358/358\u001b[0m \u001b[32m━━━━━━━━━━━━━━━━━━━━\u001b[0m\u001b[37m\u001b[0m \u001b[1m3s\u001b[0m 9ms/step - accuracy: 1.0000 - loss: 6.2621e-08 - val_accuracy: 1.0000 - val_loss: 1.5364e-04\n",
            "Epoch 65/200\n",
            "\u001b[1m357/358\u001b[0m \u001b[32m━━━━━━━━━━━━━━━━━━━\u001b[0m\u001b[37m━\u001b[0m \u001b[1m0s\u001b[0m 9ms/step - accuracy: 1.0000 - loss: 7.1848e-08\n",
            "Epoch 65: val_loss did not improve from 0.00003\n",
            "\u001b[1m358/358\u001b[0m \u001b[32m━━━━━━━━━━━━━━━━━━━━\u001b[0m\u001b[37m\u001b[0m \u001b[1m3s\u001b[0m 9ms/step - accuracy: 1.0000 - loss: 7.1808e-08 - val_accuracy: 1.0000 - val_loss: 1.3671e-04\n",
            "Epoch 66/200\n",
            "\u001b[1m354/358\u001b[0m \u001b[32m━━━━━━━━━━━━━━━━━━━\u001b[0m\u001b[37m━\u001b[0m \u001b[1m0s\u001b[0m 9ms/step - accuracy: 1.0000 - loss: 3.2578e-08\n",
            "Epoch 66: val_loss did not improve from 0.00003\n",
            "\u001b[1m358/358\u001b[0m \u001b[32m━━━━━━━━━━━━━━━━━━━━\u001b[0m\u001b[37m\u001b[0m \u001b[1m3s\u001b[0m 9ms/step - accuracy: 1.0000 - loss: 5.8240e-06 - val_accuracy: 0.9992 - val_loss: 0.0028\n",
            "Epoch 67/200\n",
            "\u001b[1m356/358\u001b[0m \u001b[32m━━━━━━━━━━━━━━━━━━━\u001b[0m\u001b[37m━\u001b[0m \u001b[1m0s\u001b[0m 8ms/step - accuracy: 0.9912 - loss: 0.0804\n",
            "Epoch 67: val_loss did not improve from 0.00003\n",
            "\u001b[1m358/358\u001b[0m \u001b[32m━━━━━━━━━━━━━━━━━━━━\u001b[0m\u001b[37m\u001b[0m \u001b[1m3s\u001b[0m 9ms/step - accuracy: 0.9912 - loss: 0.0800 - val_accuracy: 0.9992 - val_loss: 9.4715e-04\n",
            "Epoch 68/200\n",
            "\u001b[1m353/358\u001b[0m \u001b[32m━━━━━━━━━━━━━━━━━━━\u001b[0m\u001b[37m━\u001b[0m \u001b[1m0s\u001b[0m 8ms/step - accuracy: 1.0000 - loss: 1.7488e-04\n",
            "Epoch 68: val_loss did not improve from 0.00003\n",
            "\u001b[1m358/358\u001b[0m \u001b[32m━━━━━━━━━━━━━━━━━━━━\u001b[0m\u001b[37m\u001b[0m \u001b[1m3s\u001b[0m 9ms/step - accuracy: 1.0000 - loss: 1.8243e-04 - val_accuracy: 0.9992 - val_loss: 8.1143e-04\n",
            "Epoch 69/200\n",
            "\u001b[1m356/358\u001b[0m \u001b[32m━━━━━━━━━━━━━━━━━━━\u001b[0m\u001b[37m━\u001b[0m \u001b[1m0s\u001b[0m 8ms/step - accuracy: 1.0000 - loss: 7.1607e-05\n",
            "Epoch 69: val_loss did not improve from 0.00003\n",
            "\u001b[1m358/358\u001b[0m \u001b[32m━━━━━━━━━━━━━━━━━━━━\u001b[0m\u001b[37m\u001b[0m \u001b[1m3s\u001b[0m 9ms/step - accuracy: 1.0000 - loss: 7.1514e-05 - val_accuracy: 0.9996 - val_loss: 6.1186e-04\n",
            "Epoch 70/200\n",
            "\u001b[1m354/358\u001b[0m \u001b[32m━━━━━━━━━━━━━━━━━━━\u001b[0m\u001b[37m━\u001b[0m \u001b[1m0s\u001b[0m 8ms/step - accuracy: 1.0000 - loss: 3.8596e-06\n",
            "Epoch 70: val_loss did not improve from 0.00003\n",
            "\u001b[1m358/358\u001b[0m \u001b[32m━━━━━━━━━━━━━━━━━━━━\u001b[0m\u001b[37m\u001b[0m \u001b[1m3s\u001b[0m 9ms/step - accuracy: 1.0000 - loss: 3.8551e-06 - val_accuracy: 0.9996 - val_loss: 4.9151e-04\n",
            "Epoch 71/200\n",
            "\u001b[1m358/358\u001b[0m \u001b[32m━━━━━━━━━━━━━━━━━━━━\u001b[0m\u001b[37m\u001b[0m \u001b[1m0s\u001b[0m 8ms/step - accuracy: 1.0000 - loss: 1.1978e-06\n",
            "Epoch 71: val_loss did not improve from 0.00003\n",
            "\u001b[1m358/358\u001b[0m \u001b[32m━━━━━━━━━━━━━━━━━━━━\u001b[0m\u001b[37m\u001b[0m \u001b[1m3s\u001b[0m 9ms/step - accuracy: 1.0000 - loss: 1.1986e-06 - val_accuracy: 0.9996 - val_loss: 4.5734e-04\n",
            "Epoch 72/200\n",
            "\u001b[1m356/358\u001b[0m \u001b[32m━━━━━━━━━━━━━━━━━━━\u001b[0m\u001b[37m━\u001b[0m \u001b[1m0s\u001b[0m 8ms/step - accuracy: 0.9997 - loss: 0.0011\n",
            "Epoch 72: val_loss did not improve from 0.00003\n",
            "\u001b[1m358/358\u001b[0m \u001b[32m━━━━━━━━━━━━━━━━━━━━\u001b[0m\u001b[37m\u001b[0m \u001b[1m3s\u001b[0m 9ms/step - accuracy: 0.9997 - loss: 0.0011 - val_accuracy: 0.9992 - val_loss: 0.0021\n",
            "Epoch 73/200\n",
            "\u001b[1m356/358\u001b[0m \u001b[32m━━━━━━━━━━━━━━━━━━━\u001b[0m\u001b[37m━\u001b[0m \u001b[1m0s\u001b[0m 8ms/step - accuracy: 1.0000 - loss: 1.3553e-04\n",
            "Epoch 73: val_loss did not improve from 0.00003\n",
            "\u001b[1m358/358\u001b[0m \u001b[32m━━━━━━━━━━━━━━━━━━━━\u001b[0m\u001b[37m\u001b[0m \u001b[1m3s\u001b[0m 9ms/step - accuracy: 1.0000 - loss: 1.3563e-04 - val_accuracy: 0.9996 - val_loss: 0.0011\n",
            "Epoch 74/200\n",
            "\u001b[1m357/358\u001b[0m \u001b[32m━━━━━━━━━━━━━━━━━━━\u001b[0m\u001b[37m━\u001b[0m \u001b[1m0s\u001b[0m 8ms/step - accuracy: 0.9966 - loss: 0.0141\n",
            "Epoch 74: val_loss did not improve from 0.00003\n",
            "\u001b[1m358/358\u001b[0m \u001b[32m━━━━━━━━━━━━━━━━━━━━\u001b[0m\u001b[37m\u001b[0m \u001b[1m3s\u001b[0m 9ms/step - accuracy: 0.9966 - loss: 0.0141 - val_accuracy: 1.0000 - val_loss: 1.9121e-04\n",
            "Epoch 75/200\n",
            "\u001b[1m358/358\u001b[0m \u001b[32m━━━━━━━━━━━━━━━━━━━━\u001b[0m\u001b[37m\u001b[0m \u001b[1m0s\u001b[0m 8ms/step - accuracy: 0.9998 - loss: 4.4784e-04\n",
            "Epoch 75: val_loss did not improve from 0.00003\n",
            "\u001b[1m358/358\u001b[0m \u001b[32m━━━━━━━━━━━━━━━━━━━━\u001b[0m\u001b[37m\u001b[0m \u001b[1m3s\u001b[0m 9ms/step - accuracy: 0.9998 - loss: 4.5213e-04 - val_accuracy: 0.9996 - val_loss: 6.9181e-04\n",
            "Epoch 76/200\n",
            "\u001b[1m358/358\u001b[0m \u001b[32m━━━━━━━━━━━━━━━━━━━━\u001b[0m\u001b[37m\u001b[0m \u001b[1m0s\u001b[0m 8ms/step - accuracy: 0.9999 - loss: 3.2051e-04\n",
            "Epoch 76: val_loss did not improve from 0.00003\n",
            "\u001b[1m358/358\u001b[0m \u001b[32m━━━━━━━━━━━━━━━━━━━━\u001b[0m\u001b[37m\u001b[0m \u001b[1m3s\u001b[0m 9ms/step - accuracy: 0.9999 - loss: 3.2028e-04 - val_accuracy: 1.0000 - val_loss: 9.8752e-05\n",
            "Epoch 77/200\n",
            "\u001b[1m357/358\u001b[0m \u001b[32m━━━━━━━━━━━━━━━━━━━\u001b[0m\u001b[37m━\u001b[0m \u001b[1m0s\u001b[0m 8ms/step - accuracy: 1.0000 - loss: 6.7253e-06\n",
            "Epoch 77: val_loss did not improve from 0.00003\n",
            "\u001b[1m358/358\u001b[0m \u001b[32m━━━━━━━━━━━━━━━━━━━━\u001b[0m\u001b[37m\u001b[0m \u001b[1m3s\u001b[0m 9ms/step - accuracy: 1.0000 - loss: 6.7231e-06 - val_accuracy: 1.0000 - val_loss: 4.5207e-05\n",
            "Epoch 78/200\n",
            "\u001b[1m357/358\u001b[0m \u001b[32m━━━━━━━━━━━━━━━━━━━\u001b[0m\u001b[37m━\u001b[0m \u001b[1m0s\u001b[0m 8ms/step - accuracy: 1.0000 - loss: 1.8516e-06\n",
            "Epoch 78: val_loss did not improve from 0.00003\n",
            "\u001b[1m358/358\u001b[0m \u001b[32m━━━━━━━━━━━━━━━━━━━━\u001b[0m\u001b[37m\u001b[0m \u001b[1m3s\u001b[0m 9ms/step - accuracy: 1.0000 - loss: 1.8534e-06 - val_accuracy: 1.0000 - val_loss: 6.1634e-05\n",
            "Epoch 79/200\n",
            "\u001b[1m356/358\u001b[0m \u001b[32m━━━━━━━━━━━━━━━━━━━\u001b[0m\u001b[37m━\u001b[0m \u001b[1m0s\u001b[0m 8ms/step - accuracy: 1.0000 - loss: 7.4469e-07\n",
            "Epoch 79: val_loss did not improve from 0.00003\n",
            "\u001b[1m358/358\u001b[0m \u001b[32m━━━━━━━━━━━━━━━━━━━━\u001b[0m\u001b[37m\u001b[0m \u001b[1m3s\u001b[0m 9ms/step - accuracy: 1.0000 - loss: 7.4449e-07 - val_accuracy: 1.0000 - val_loss: 6.9800e-05\n",
            "Epoch 80/200\n",
            "\u001b[1m353/358\u001b[0m \u001b[32m━━━━━━━━━━━━━━━━━━━\u001b[0m\u001b[37m━\u001b[0m \u001b[1m0s\u001b[0m 8ms/step - accuracy: 1.0000 - loss: 2.9684e-07\n",
            "Epoch 80: val_loss did not improve from 0.00003\n",
            "\u001b[1m358/358\u001b[0m \u001b[32m━━━━━━━━━━━━━━━━━━━━\u001b[0m\u001b[37m\u001b[0m \u001b[1m3s\u001b[0m 9ms/step - accuracy: 1.0000 - loss: 2.9791e-07 - val_accuracy: 1.0000 - val_loss: 3.9787e-05\n",
            "Epoch 81/200\n",
            "\u001b[1m353/358\u001b[0m \u001b[32m━━━━━━━━━━━━━━━━━━━\u001b[0m\u001b[37m━\u001b[0m \u001b[1m0s\u001b[0m 8ms/step - accuracy: 1.0000 - loss: 4.6861e-07\n",
            "Epoch 81: val_loss improved from 0.00003 to 0.00001, saving model to ../models/reference/cnn_1_layers.h5\n"
          ]
        },
        {
          "output_type": "stream",
          "name": "stderr",
          "text": [
            "WARNING:absl:You are saving your model as an HDF5 file via `model.save()` or `keras.saving.save_model(model)`. This file format is considered legacy. We recommend using instead the native Keras format, e.g. `model.save('my_model.keras')` or `keras.saving.save_model(model, 'my_model.keras')`. \n"
          ]
        },
        {
          "output_type": "stream",
          "name": "stdout",
          "text": [
            "\b\b\b\b\b\b\b\b\b\b\b\b\b\b\b\b\b\b\b\b\b\b\b\b\b\b\b\b\b\b\b\b\b\b\b\b\b\b\b\b\b\b\b\b\b\b\b\b\b\b\b\b\b\b\b\b\b\b\b\b\b\b\b\b\b\b\b\b\b\b\b\b\b\b\b\b\b\b\r\u001b[1m358/358\u001b[0m \u001b[32m━━━━━━━━━━━━━━━━━━━━\u001b[0m\u001b[37m\u001b[0m \u001b[1m4s\u001b[0m 11ms/step - accuracy: 1.0000 - loss: 4.7857e-07 - val_accuracy: 1.0000 - val_loss: 7.6057e-06\n",
            "Epoch 82/200\n",
            "\u001b[1m357/358\u001b[0m \u001b[32m━━━━━━━━━━━━━━━━━━━\u001b[0m\u001b[37m━\u001b[0m \u001b[1m0s\u001b[0m 8ms/step - accuracy: 1.0000 - loss: 3.3047e-07\n",
            "Epoch 82: val_loss did not improve from 0.00001\n",
            "\u001b[1m358/358\u001b[0m \u001b[32m━━━━━━━━━━━━━━━━━━━━\u001b[0m\u001b[37m\u001b[0m \u001b[1m3s\u001b[0m 9ms/step - accuracy: 1.0000 - loss: 3.3022e-07 - val_accuracy: 1.0000 - val_loss: 1.3524e-05\n",
            "Epoch 83/200\n",
            "\u001b[1m352/358\u001b[0m \u001b[32m━━━━━━━━━━━━━━━━━━━\u001b[0m\u001b[37m━\u001b[0m \u001b[1m0s\u001b[0m 8ms/step - accuracy: 1.0000 - loss: 4.8817e-07\n",
            "Epoch 83: val_loss did not improve from 0.00001\n",
            "\u001b[1m358/358\u001b[0m \u001b[32m━━━━━━━━━━━━━━━━━━━━\u001b[0m\u001b[37m\u001b[0m \u001b[1m3s\u001b[0m 9ms/step - accuracy: 1.0000 - loss: 4.8712e-07 - val_accuracy: 1.0000 - val_loss: 8.5150e-06\n",
            "Epoch 84/200\n",
            "\u001b[1m353/358\u001b[0m \u001b[32m━━━━━━━━━━━━━━━━━━━\u001b[0m\u001b[37m━\u001b[0m \u001b[1m0s\u001b[0m 8ms/step - accuracy: 0.9995 - loss: 0.0023\n",
            "Epoch 84: val_loss did not improve from 0.00001\n",
            "\u001b[1m358/358\u001b[0m \u001b[32m━━━━━━━━━━━━━━━━━━━━\u001b[0m\u001b[37m\u001b[0m \u001b[1m3s\u001b[0m 9ms/step - accuracy: 0.9995 - loss: 0.0024 - val_accuracy: 0.9996 - val_loss: 0.0017\n",
            "Epoch 85/200\n",
            "\u001b[1m353/358\u001b[0m \u001b[32m━━━━━━━━━━━━━━━━━━━\u001b[0m\u001b[37m━\u001b[0m \u001b[1m0s\u001b[0m 8ms/step - accuracy: 0.9988 - loss: 0.0095\n",
            "Epoch 85: val_loss did not improve from 0.00001\n",
            "\u001b[1m358/358\u001b[0m \u001b[32m━━━━━━━━━━━━━━━━━━━━\u001b[0m\u001b[37m\u001b[0m \u001b[1m3s\u001b[0m 9ms/step - accuracy: 0.9988 - loss: 0.0094 - val_accuracy: 1.0000 - val_loss: 1.8857e-05\n",
            "Epoch 86/200\n",
            "\u001b[1m356/358\u001b[0m \u001b[32m━━━━━━━━━━━━━━━━━━━\u001b[0m\u001b[37m━\u001b[0m \u001b[1m0s\u001b[0m 8ms/step - accuracy: 1.0000 - loss: 2.2706e-06\n",
            "Epoch 86: val_loss improved from 0.00001 to 0.00001, saving model to ../models/reference/cnn_1_layers.h5\n"
          ]
        },
        {
          "output_type": "stream",
          "name": "stderr",
          "text": [
            "WARNING:absl:You are saving your model as an HDF5 file via `model.save()` or `keras.saving.save_model(model)`. This file format is considered legacy. We recommend using instead the native Keras format, e.g. `model.save('my_model.keras')` or `keras.saving.save_model(model, 'my_model.keras')`. \n"
          ]
        },
        {
          "output_type": "stream",
          "name": "stdout",
          "text": [
            "\b\b\b\b\b\b\b\b\b\b\b\b\b\b\b\b\b\b\b\b\b\b\b\b\b\b\b\b\b\b\b\b\b\b\b\b\b\b\b\b\b\b\b\b\b\b\b\b\b\b\b\b\b\b\b\b\b\b\b\b\b\b\b\b\b\b\b\b\b\b\b\b\b\b\b\b\b\b\r\u001b[1m358/358\u001b[0m \u001b[32m━━━━━━━━━━━━━━━━━━━━\u001b[0m\u001b[37m\u001b[0m \u001b[1m4s\u001b[0m 11ms/step - accuracy: 1.0000 - loss: 2.2646e-06 - val_accuracy: 1.0000 - val_loss: 5.0833e-06\n",
            "Epoch 87/200\n",
            "\u001b[1m356/358\u001b[0m \u001b[32m━━━━━━━━━━━━━━━━━━━\u001b[0m\u001b[37m━\u001b[0m \u001b[1m0s\u001b[0m 8ms/step - accuracy: 0.9997 - loss: 0.0011\n",
            "Epoch 87: val_loss did not improve from 0.00001\n",
            "\u001b[1m358/358\u001b[0m \u001b[32m━━━━━━━━━━━━━━━━━━━━\u001b[0m\u001b[37m\u001b[0m \u001b[1m3s\u001b[0m 9ms/step - accuracy: 0.9997 - loss: 0.0011 - val_accuracy: 0.9992 - val_loss: 0.0020\n",
            "Epoch 88/200\n",
            "\u001b[1m353/358\u001b[0m \u001b[32m━━━━━━━━━━━━━━━━━━━\u001b[0m\u001b[37m━\u001b[0m \u001b[1m0s\u001b[0m 8ms/step - accuracy: 0.9988 - loss: 0.0044\n",
            "Epoch 88: val_loss did not improve from 0.00001\n",
            "\u001b[1m358/358\u001b[0m \u001b[32m━━━━━━━━━━━━━━━━━━━━\u001b[0m\u001b[37m\u001b[0m \u001b[1m3s\u001b[0m 9ms/step - accuracy: 0.9988 - loss: 0.0043 - val_accuracy: 0.9996 - val_loss: 9.2145e-04\n",
            "Epoch 89/200\n",
            "\u001b[1m352/358\u001b[0m \u001b[32m━━━━━━━━━━━━━━━━━━━\u001b[0m\u001b[37m━\u001b[0m \u001b[1m0s\u001b[0m 8ms/step - accuracy: 1.0000 - loss: 2.2631e-05\n",
            "Epoch 89: val_loss did not improve from 0.00001\n",
            "\u001b[1m358/358\u001b[0m \u001b[32m━━━━━━━━━━━━━━━━━━━━\u001b[0m\u001b[37m\u001b[0m \u001b[1m3s\u001b[0m 9ms/step - accuracy: 1.0000 - loss: 2.2437e-05 - val_accuracy: 0.9996 - val_loss: 7.2603e-04\n",
            "Epoch 90/200\n",
            "\u001b[1m353/358\u001b[0m \u001b[32m━━━━━━━━━━━━━━━━━━━\u001b[0m\u001b[37m━\u001b[0m \u001b[1m0s\u001b[0m 8ms/step - accuracy: 1.0000 - loss: 9.1717e-07\n",
            "Epoch 90: val_loss did not improve from 0.00001\n",
            "\u001b[1m358/358\u001b[0m \u001b[32m━━━━━━━━━━━━━━━━━━━━\u001b[0m\u001b[37m\u001b[0m \u001b[1m3s\u001b[0m 9ms/step - accuracy: 1.0000 - loss: 9.2243e-07 - val_accuracy: 0.9996 - val_loss: 0.0011\n",
            "Epoch 91/200\n",
            "\u001b[1m356/358\u001b[0m \u001b[32m━━━━━━━━━━━━━━━━━━━\u001b[0m\u001b[37m━\u001b[0m \u001b[1m0s\u001b[0m 8ms/step - accuracy: 0.9997 - loss: 0.0011\n",
            "Epoch 91: val_loss did not improve from 0.00001\n",
            "\u001b[1m358/358\u001b[0m \u001b[32m━━━━━━━━━━━━━━━━━━━━\u001b[0m\u001b[37m\u001b[0m \u001b[1m3s\u001b[0m 9ms/step - accuracy: 0.9997 - loss: 0.0011 - val_accuracy: 0.9996 - val_loss: 0.0022\n",
            "Epoch 92/200\n",
            "\u001b[1m358/358\u001b[0m \u001b[32m━━━━━━━━━━━━━━━━━━━━\u001b[0m\u001b[37m\u001b[0m \u001b[1m0s\u001b[0m 8ms/step - accuracy: 0.9997 - loss: 0.0019\n",
            "Epoch 92: val_loss did not improve from 0.00001\n",
            "\u001b[1m358/358\u001b[0m \u001b[32m━━━━━━━━━━━━━━━━━━━━\u001b[0m\u001b[37m\u001b[0m \u001b[1m3s\u001b[0m 9ms/step - accuracy: 0.9997 - loss: 0.0019 - val_accuracy: 1.0000 - val_loss: 1.6687e-04\n",
            "Epoch 93/200\n",
            "\u001b[1m356/358\u001b[0m \u001b[32m━━━━━━━━━━━━━━━━━━━\u001b[0m\u001b[37m━\u001b[0m \u001b[1m0s\u001b[0m 8ms/step - accuracy: 1.0000 - loss: 4.5443e-04\n",
            "Epoch 93: val_loss did not improve from 0.00001\n",
            "\u001b[1m358/358\u001b[0m \u001b[32m━━━━━━━━━━━━━━━━━━━━\u001b[0m\u001b[37m\u001b[0m \u001b[1m3s\u001b[0m 9ms/step - accuracy: 1.0000 - loss: 4.5975e-04 - val_accuracy: 1.0000 - val_loss: 2.2458e-04\n",
            "Epoch 94/200\n",
            "\u001b[1m356/358\u001b[0m \u001b[32m━━━━━━━━━━━━━━━━━━━\u001b[0m\u001b[37m━\u001b[0m \u001b[1m0s\u001b[0m 8ms/step - accuracy: 0.9949 - loss: 0.0183\n",
            "Epoch 94: val_loss did not improve from 0.00001\n",
            "\u001b[1m358/358\u001b[0m \u001b[32m━━━━━━━━━━━━━━━━━━━━\u001b[0m\u001b[37m\u001b[0m \u001b[1m3s\u001b[0m 9ms/step - accuracy: 0.9950 - loss: 0.0182 - val_accuracy: 1.0000 - val_loss: 3.3844e-04\n",
            "Epoch 95/200\n",
            "\u001b[1m354/358\u001b[0m \u001b[32m━━━━━━━━━━━━━━━━━━━\u001b[0m\u001b[37m━\u001b[0m \u001b[1m0s\u001b[0m 9ms/step - accuracy: 1.0000 - loss: 5.4156e-06\n",
            "Epoch 95: val_loss did not improve from 0.00001\n",
            "\u001b[1m358/358\u001b[0m \u001b[32m━━━━━━━━━━━━━━━━━━━━\u001b[0m\u001b[37m\u001b[0m \u001b[1m3s\u001b[0m 9ms/step - accuracy: 1.0000 - loss: 5.3851e-06 - val_accuracy: 1.0000 - val_loss: 2.9463e-04\n",
            "Epoch 96/200\n",
            "\u001b[1m356/358\u001b[0m \u001b[32m━━━━━━━━━━━━━━━━━━━\u001b[0m\u001b[37m━\u001b[0m \u001b[1m0s\u001b[0m 9ms/step - accuracy: 1.0000 - loss: 1.2610e-06\n",
            "Epoch 96: val_loss did not improve from 0.00001\n",
            "\u001b[1m358/358\u001b[0m \u001b[32m━━━━━━━━━━━━━━━━━━━━\u001b[0m\u001b[37m\u001b[0m \u001b[1m3s\u001b[0m 9ms/step - accuracy: 1.0000 - loss: 1.2596e-06 - val_accuracy: 0.9996 - val_loss: 4.0486e-04\n",
            "Epoch 97/200\n",
            "\u001b[1m355/358\u001b[0m \u001b[32m━━━━━━━━━━━━━━━━━━━\u001b[0m\u001b[37m━\u001b[0m \u001b[1m0s\u001b[0m 9ms/step - accuracy: 1.0000 - loss: 7.1317e-07\n",
            "Epoch 97: val_loss did not improve from 0.00001\n",
            "\u001b[1m358/358\u001b[0m \u001b[32m━━━━━━━━━━━━━━━━━━━━\u001b[0m\u001b[37m\u001b[0m \u001b[1m3s\u001b[0m 9ms/step - accuracy: 1.0000 - loss: 7.0984e-07 - val_accuracy: 0.9996 - val_loss: 6.6229e-04\n",
            "Epoch 98/200\n",
            "\u001b[1m356/358\u001b[0m \u001b[32m━━━━━━━━━━━━━━━━━━━\u001b[0m\u001b[37m━\u001b[0m \u001b[1m0s\u001b[0m 9ms/step - accuracy: 1.0000 - loss: 1.4155e-07\n",
            "Epoch 98: val_loss did not improve from 0.00001\n",
            "\u001b[1m358/358\u001b[0m \u001b[32m━━━━━━━━━━━━━━━━━━━━\u001b[0m\u001b[37m\u001b[0m \u001b[1m3s\u001b[0m 9ms/step - accuracy: 1.0000 - loss: 1.4154e-07 - val_accuracy: 0.9996 - val_loss: 6.6508e-04\n",
            "Epoch 99/200\n",
            "\u001b[1m354/358\u001b[0m \u001b[32m━━━━━━━━━━━━━━━━━━━\u001b[0m\u001b[37m━\u001b[0m \u001b[1m0s\u001b[0m 9ms/step - accuracy: 1.0000 - loss: 9.1124e-08\n",
            "Epoch 99: val_loss did not improve from 0.00001\n",
            "\u001b[1m358/358\u001b[0m \u001b[32m━━━━━━━━━━━━━━━━━━━━\u001b[0m\u001b[37m\u001b[0m \u001b[1m3s\u001b[0m 9ms/step - accuracy: 1.0000 - loss: 9.1797e-08 - val_accuracy: 0.9996 - val_loss: 3.1136e-04\n",
            "Epoch 100/200\n",
            "\u001b[1m354/358\u001b[0m \u001b[32m━━━━━━━━━━━━━━━━━━━\u001b[0m\u001b[37m━\u001b[0m \u001b[1m0s\u001b[0m 8ms/step - accuracy: 1.0000 - loss: 6.6065e-08\n",
            "Epoch 100: val_loss did not improve from 0.00001\n",
            "\u001b[1m358/358\u001b[0m \u001b[32m━━━━━━━━━━━━━━━━━━━━\u001b[0m\u001b[37m\u001b[0m \u001b[1m3s\u001b[0m 9ms/step - accuracy: 1.0000 - loss: 6.7738e-08 - val_accuracy: 0.9996 - val_loss: 3.1475e-04\n",
            "Epoch 101/200\n",
            "\u001b[1m355/358\u001b[0m \u001b[32m━━━━━━━━━━━━━━━━━━━\u001b[0m\u001b[37m━\u001b[0m \u001b[1m0s\u001b[0m 8ms/step - accuracy: 1.0000 - loss: 5.4908e-08\n",
            "Epoch 101: val_loss did not improve from 0.00001\n",
            "\u001b[1m358/358\u001b[0m \u001b[32m━━━━━━━━━━━━━━━━━━━━\u001b[0m\u001b[37m\u001b[0m \u001b[1m3s\u001b[0m 9ms/step - accuracy: 1.0000 - loss: 5.4758e-08 - val_accuracy: 0.9996 - val_loss: 3.9652e-04\n",
            "Epoch 102/200\n",
            "\u001b[1m356/358\u001b[0m \u001b[32m━━━━━━━━━━━━━━━━━━━\u001b[0m\u001b[37m━\u001b[0m \u001b[1m0s\u001b[0m 8ms/step - accuracy: 1.0000 - loss: 7.7383e-08\n",
            "Epoch 102: val_loss did not improve from 0.00001\n",
            "\u001b[1m358/358\u001b[0m \u001b[32m━━━━━━━━━━━━━━━━━━━━\u001b[0m\u001b[37m\u001b[0m \u001b[1m3s\u001b[0m 9ms/step - accuracy: 1.0000 - loss: 7.7841e-08 - val_accuracy: 1.0000 - val_loss: 2.2674e-04\n",
            "Epoch 103/200\n",
            "\u001b[1m358/358\u001b[0m \u001b[32m━━━━━━━━━━━━━━━━━━━━\u001b[0m\u001b[37m\u001b[0m \u001b[1m0s\u001b[0m 8ms/step - accuracy: 1.0000 - loss: 3.7383e-07\n",
            "Epoch 103: val_loss did not improve from 0.00001\n",
            "\u001b[1m358/358\u001b[0m \u001b[32m━━━━━━━━━━━━━━━━━━━━\u001b[0m\u001b[37m\u001b[0m \u001b[1m3s\u001b[0m 9ms/step - accuracy: 1.0000 - loss: 3.7328e-07 - val_accuracy: 0.9996 - val_loss: 0.0018\n",
            "Epoch 104/200\n",
            "\u001b[1m354/358\u001b[0m \u001b[32m━━━━━━━━━━━━━━━━━━━\u001b[0m\u001b[37m━\u001b[0m \u001b[1m0s\u001b[0m 8ms/step - accuracy: 1.0000 - loss: 1.2353e-07\n",
            "Epoch 104: val_loss did not improve from 0.00001\n",
            "\u001b[1m358/358\u001b[0m \u001b[32m━━━━━━━━━━━━━━━━━━━━\u001b[0m\u001b[37m\u001b[0m \u001b[1m3s\u001b[0m 9ms/step - accuracy: 1.0000 - loss: 1.2824e-07 - val_accuracy: 0.9996 - val_loss: 0.0035\n",
            "Epoch 105/200\n",
            "\u001b[1m352/358\u001b[0m \u001b[32m━━━━━━━━━━━━━━━━━━━\u001b[0m\u001b[37m━\u001b[0m \u001b[1m0s\u001b[0m 8ms/step - accuracy: 0.9997 - loss: 0.0018\n",
            "Epoch 105: val_loss did not improve from 0.00001\n",
            "\u001b[1m358/358\u001b[0m \u001b[32m━━━━━━━━━━━━━━━━━━━━\u001b[0m\u001b[37m\u001b[0m \u001b[1m3s\u001b[0m 9ms/step - accuracy: 0.9997 - loss: 0.0019 - val_accuracy: 0.9992 - val_loss: 0.0016\n",
            "Epoch 106/200\n",
            "\u001b[1m353/358\u001b[0m \u001b[32m━━━━━━━━━━━━━━━━━━━\u001b[0m\u001b[37m━\u001b[0m \u001b[1m0s\u001b[0m 8ms/step - accuracy: 1.0000 - loss: 4.4525e-05\n",
            "Epoch 106: val_loss did not improve from 0.00001\n",
            "\u001b[1m358/358\u001b[0m \u001b[32m━━━━━━━━━━━━━━━━━━━━\u001b[0m\u001b[37m\u001b[0m \u001b[1m3s\u001b[0m 9ms/step - accuracy: 1.0000 - loss: 4.4979e-05 - val_accuracy: 1.0000 - val_loss: 6.2669e-05\n",
            "Epoch 107/200\n",
            "\u001b[1m353/358\u001b[0m \u001b[32m━━━━━━━━━━━━━━━━━━━\u001b[0m\u001b[37m━\u001b[0m \u001b[1m0s\u001b[0m 8ms/step - accuracy: 0.9995 - loss: 0.0022\n",
            "Epoch 107: val_loss did not improve from 0.00001\n",
            "\u001b[1m358/358\u001b[0m \u001b[32m━━━━━━━━━━━━━━━━━━━━\u001b[0m\u001b[37m\u001b[0m \u001b[1m3s\u001b[0m 9ms/step - accuracy: 0.9995 - loss: 0.0022 - val_accuracy: 0.9976 - val_loss: 0.0072\n",
            "Epoch 108/200\n",
            "\u001b[1m356/358\u001b[0m \u001b[32m━━━━━━━━━━━━━━━━━━━\u001b[0m\u001b[37m━\u001b[0m \u001b[1m0s\u001b[0m 8ms/step - accuracy: 0.9991 - loss: 0.0122\n",
            "Epoch 108: val_loss did not improve from 0.00001\n",
            "\u001b[1m358/358\u001b[0m \u001b[32m━━━━━━━━━━━━━━━━━━━━\u001b[0m\u001b[37m\u001b[0m \u001b[1m3s\u001b[0m 9ms/step - accuracy: 0.9991 - loss: 0.0121 - val_accuracy: 1.0000 - val_loss: 2.1425e-05\n",
            "Epoch 109/200\n",
            "\u001b[1m357/358\u001b[0m \u001b[32m━━━━━━━━━━━━━━━━━━━\u001b[0m\u001b[37m━\u001b[0m \u001b[1m0s\u001b[0m 8ms/step - accuracy: 1.0000 - loss: 4.2787e-06\n",
            "Epoch 109: val_loss did not improve from 0.00001\n",
            "\u001b[1m358/358\u001b[0m \u001b[32m━━━━━━━━━━━━━━━━━━━━\u001b[0m\u001b[37m\u001b[0m \u001b[1m3s\u001b[0m 9ms/step - accuracy: 1.0000 - loss: 4.2873e-06 - val_accuracy: 1.0000 - val_loss: 8.3011e-06\n",
            "Epoch 110/200\n",
            "\u001b[1m352/358\u001b[0m \u001b[32m━━━━━━━━━━━━━━━━━━━\u001b[0m\u001b[37m━\u001b[0m \u001b[1m0s\u001b[0m 9ms/step - accuracy: 0.9989 - loss: 0.0040\n",
            "Epoch 110: val_loss did not improve from 0.00001\n",
            "\u001b[1m358/358\u001b[0m \u001b[32m━━━━━━━━━━━━━━━━━━━━\u001b[0m\u001b[37m\u001b[0m \u001b[1m3s\u001b[0m 9ms/step - accuracy: 0.9989 - loss: 0.0040 - val_accuracy: 1.0000 - val_loss: 1.6106e-05\n",
            "Epoch 111/200\n",
            "\u001b[1m356/358\u001b[0m \u001b[32m━━━━━━━━━━━━━━━━━━━\u001b[0m\u001b[37m━\u001b[0m \u001b[1m0s\u001b[0m 8ms/step - accuracy: 0.9998 - loss: 4.8022e-04\n",
            "Epoch 111: val_loss did not improve from 0.00001\n",
            "\u001b[1m358/358\u001b[0m \u001b[32m━━━━━━━━━━━━━━━━━━━━\u001b[0m\u001b[37m\u001b[0m \u001b[1m3s\u001b[0m 9ms/step - accuracy: 0.9998 - loss: 4.7926e-04 - val_accuracy: 1.0000 - val_loss: 1.6362e-05\n",
            "Epoch 112/200\n",
            "\u001b[1m354/358\u001b[0m \u001b[32m━━━━━━━━━━━━━━━━━━━\u001b[0m\u001b[37m━\u001b[0m \u001b[1m0s\u001b[0m 8ms/step - accuracy: 1.0000 - loss: 1.8511e-06\n",
            "Epoch 112: val_loss did not improve from 0.00001\n",
            "\u001b[1m358/358\u001b[0m \u001b[32m━━━━━━━━━━━━━━━━━━━━\u001b[0m\u001b[37m\u001b[0m \u001b[1m3s\u001b[0m 9ms/step - accuracy: 1.0000 - loss: 1.8472e-06 - val_accuracy: 1.0000 - val_loss: 1.1403e-05\n",
            "Epoch 113/200\n",
            "\u001b[1m355/358\u001b[0m \u001b[32m━━━━━━━━━━━━━━━━━━━\u001b[0m\u001b[37m━\u001b[0m \u001b[1m0s\u001b[0m 8ms/step - accuracy: 1.0000 - loss: 1.4875e-06\n",
            "Epoch 113: val_loss did not improve from 0.00001\n",
            "\u001b[1m358/358\u001b[0m \u001b[32m━━━━━━━━━━━━━━━━━━━━\u001b[0m\u001b[37m\u001b[0m \u001b[1m3s\u001b[0m 9ms/step - accuracy: 1.0000 - loss: 1.4830e-06 - val_accuracy: 1.0000 - val_loss: 8.9025e-06\n",
            "Epoch 114/200\n",
            "\u001b[1m357/358\u001b[0m \u001b[32m━━━━━━━━━━━━━━━━━━━\u001b[0m\u001b[37m━\u001b[0m \u001b[1m0s\u001b[0m 8ms/step - accuracy: 1.0000 - loss: 9.9164e-07\n",
            "Epoch 114: val_loss did not improve from 0.00001\n",
            "\u001b[1m358/358\u001b[0m \u001b[32m━━━━━━━━━━━━━━━━━━━━\u001b[0m\u001b[37m\u001b[0m \u001b[1m3s\u001b[0m 9ms/step - accuracy: 1.0000 - loss: 9.9064e-07 - val_accuracy: 1.0000 - val_loss: 7.9213e-06\n",
            "Epoch 115/200\n",
            "\u001b[1m353/358\u001b[0m \u001b[32m━━━━━━━━━━━━━━━━━━━\u001b[0m\u001b[37m━\u001b[0m \u001b[1m0s\u001b[0m 8ms/step - accuracy: 1.0000 - loss: 4.9514e-07\n",
            "Epoch 115: val_loss did not improve from 0.00001\n",
            "\u001b[1m358/358\u001b[0m \u001b[32m━━━━━━━━━━━━━━━━━━━━\u001b[0m\u001b[37m\u001b[0m \u001b[1m3s\u001b[0m 9ms/step - accuracy: 1.0000 - loss: 2.4249e-06 - val_accuracy: 0.9996 - val_loss: 3.8050e-04\n",
            "Epoch 116/200\n",
            "\u001b[1m357/358\u001b[0m \u001b[32m━━━━━━━━━━━━━━━━━━━\u001b[0m\u001b[37m━\u001b[0m \u001b[1m0s\u001b[0m 8ms/step - accuracy: 0.9976 - loss: 0.0120\n",
            "Epoch 116: val_loss did not improve from 0.00001\n",
            "\u001b[1m358/358\u001b[0m \u001b[32m━━━━━━━━━━━━━━━━━━━━\u001b[0m\u001b[37m\u001b[0m \u001b[1m3s\u001b[0m 9ms/step - accuracy: 0.9976 - loss: 0.0119 - val_accuracy: 0.9996 - val_loss: 7.7859e-04\n",
            "Epoch 117/200\n",
            "\u001b[1m352/358\u001b[0m \u001b[32m━━━━━━━━━━━━━━━━━━━\u001b[0m\u001b[37m━\u001b[0m \u001b[1m0s\u001b[0m 8ms/step - accuracy: 1.0000 - loss: 5.2586e-05\n",
            "Epoch 117: val_loss did not improve from 0.00001\n",
            "\u001b[1m358/358\u001b[0m \u001b[32m━━━━━━━━━━━━━━━━━━━━\u001b[0m\u001b[37m\u001b[0m \u001b[1m3s\u001b[0m 9ms/step - accuracy: 1.0000 - loss: 5.1940e-05 - val_accuracy: 1.0000 - val_loss: 4.7450e-05\n",
            "Epoch 118/200\n",
            "\u001b[1m355/358\u001b[0m \u001b[32m━━━━━━━━━━━━━━━━━━━\u001b[0m\u001b[37m━\u001b[0m \u001b[1m0s\u001b[0m 8ms/step - accuracy: 0.9996 - loss: 0.0015\n",
            "Epoch 118: val_loss did not improve from 0.00001\n",
            "\u001b[1m358/358\u001b[0m \u001b[32m━━━━━━━━━━━━━━━━━━━━\u001b[0m\u001b[37m\u001b[0m \u001b[1m3s\u001b[0m 9ms/step - accuracy: 0.9996 - loss: 0.0015 - val_accuracy: 1.0000 - val_loss: 4.2412e-04\n",
            "Epoch 119/200\n",
            "\u001b[1m352/358\u001b[0m \u001b[32m━━━━━━━━━━━━━━━━━━━\u001b[0m\u001b[37m━\u001b[0m \u001b[1m0s\u001b[0m 8ms/step - accuracy: 1.0000 - loss: 2.0437e-05\n",
            "Epoch 119: val_loss did not improve from 0.00001\n",
            "\u001b[1m358/358\u001b[0m \u001b[32m━━━━━━━━━━━━━━━━━━━━\u001b[0m\u001b[37m\u001b[0m \u001b[1m3s\u001b[0m 9ms/step - accuracy: 1.0000 - loss: 2.0227e-05 - val_accuracy: 1.0000 - val_loss: 1.7648e-04\n",
            "Epoch 120/200\n",
            "\u001b[1m354/358\u001b[0m \u001b[32m━━━━━━━━━━━━━━━━━━━\u001b[0m\u001b[37m━\u001b[0m \u001b[1m0s\u001b[0m 8ms/step - accuracy: 1.0000 - loss: 9.6238e-06\n",
            "Epoch 120: val_loss did not improve from 0.00001\n",
            "\u001b[1m358/358\u001b[0m \u001b[32m━━━━━━━━━━━━━━━━━━━━\u001b[0m\u001b[37m\u001b[0m \u001b[1m3s\u001b[0m 9ms/step - accuracy: 1.0000 - loss: 9.5877e-06 - val_accuracy: 0.9996 - val_loss: 3.7127e-04\n",
            "Epoch 121/200\n",
            "\u001b[1m357/358\u001b[0m \u001b[32m━━━━━━━━━━━━━━━━━━━\u001b[0m\u001b[37m━\u001b[0m \u001b[1m0s\u001b[0m 8ms/step - accuracy: 0.9995 - loss: 0.0031\n",
            "Epoch 121: val_loss did not improve from 0.00001\n",
            "\u001b[1m358/358\u001b[0m \u001b[32m━━━━━━━━━━━━━━━━━━━━\u001b[0m\u001b[37m\u001b[0m \u001b[1m3s\u001b[0m 9ms/step - accuracy: 0.9995 - loss: 0.0031 - val_accuracy: 1.0000 - val_loss: 1.3161e-04\n",
            "Epoch 122/200\n",
            "\u001b[1m352/358\u001b[0m \u001b[32m━━━━━━━━━━━━━━━━━━━\u001b[0m\u001b[37m━\u001b[0m \u001b[1m0s\u001b[0m 8ms/step - accuracy: 1.0000 - loss: 4.7483e-06\n",
            "Epoch 122: val_loss did not improve from 0.00001\n",
            "\u001b[1m358/358\u001b[0m \u001b[32m━━━━━━━━━━━━━━━━━━━━\u001b[0m\u001b[37m\u001b[0m \u001b[1m3s\u001b[0m 9ms/step - accuracy: 1.0000 - loss: 4.7449e-06 - val_accuracy: 1.0000 - val_loss: 8.0390e-05\n",
            "Epoch 123/200\n",
            "\u001b[1m356/358\u001b[0m \u001b[32m━━━━━━━━━━━━━━━━━━━\u001b[0m\u001b[37m━\u001b[0m \u001b[1m0s\u001b[0m 8ms/step - accuracy: 1.0000 - loss: 4.2169e-06\n",
            "Epoch 123: val_loss did not improve from 0.00001\n",
            "\u001b[1m358/358\u001b[0m \u001b[32m━━━━━━━━━━━━━━━━━━━━\u001b[0m\u001b[37m\u001b[0m \u001b[1m3s\u001b[0m 9ms/step - accuracy: 1.0000 - loss: 4.2096e-06 - val_accuracy: 1.0000 - val_loss: 1.3995e-04\n",
            "Epoch 124/200\n",
            "\u001b[1m354/358\u001b[0m \u001b[32m━━━━━━━━━━━━━━━━━━━\u001b[0m\u001b[37m━\u001b[0m \u001b[1m0s\u001b[0m 8ms/step - accuracy: 1.0000 - loss: 1.3346e-06\n",
            "Epoch 124: val_loss did not improve from 0.00001\n",
            "\u001b[1m358/358\u001b[0m \u001b[32m━━━━━━━━━━━━━━━━━━━━\u001b[0m\u001b[37m\u001b[0m \u001b[1m3s\u001b[0m 9ms/step - accuracy: 1.0000 - loss: 1.3317e-06 - val_accuracy: 1.0000 - val_loss: 2.5958e-04\n",
            "Epoch 125/200\n",
            "\u001b[1m354/358\u001b[0m \u001b[32m━━━━━━━━━━━━━━━━━━━\u001b[0m\u001b[37m━\u001b[0m \u001b[1m0s\u001b[0m 9ms/step - accuracy: 1.0000 - loss: 1.3061e-06\n",
            "Epoch 125: val_loss did not improve from 0.00001\n",
            "\u001b[1m358/358\u001b[0m \u001b[32m━━━━━━━━━━━━━━━━━━━━\u001b[0m\u001b[37m\u001b[0m \u001b[1m3s\u001b[0m 9ms/step - accuracy: 1.0000 - loss: 1.3051e-06 - val_accuracy: 1.0000 - val_loss: 6.9947e-06\n",
            "Epoch 126/200\n",
            "\u001b[1m354/358\u001b[0m \u001b[32m━━━━━━━━━━━━━━━━━━━\u001b[0m\u001b[37m━\u001b[0m \u001b[1m0s\u001b[0m 8ms/step - accuracy: 1.0000 - loss: 2.9573e-06\n",
            "Epoch 126: val_loss did not improve from 0.00001\n",
            "\u001b[1m358/358\u001b[0m \u001b[32m━━━━━━━━━━━━━━━━━━━━\u001b[0m\u001b[37m\u001b[0m \u001b[1m3s\u001b[0m 9ms/step - accuracy: 1.0000 - loss: 2.9428e-06 - val_accuracy: 1.0000 - val_loss: 7.2813e-06\n",
            "Epoch 127/200\n",
            "\u001b[1m357/358\u001b[0m \u001b[32m━━━━━━━━━━━━━━━━━━━\u001b[0m\u001b[37m━\u001b[0m \u001b[1m0s\u001b[0m 8ms/step - accuracy: 0.9990 - loss: 0.0071\n",
            "Epoch 127: val_loss did not improve from 0.00001\n",
            "\u001b[1m358/358\u001b[0m \u001b[32m━━━━━━━━━━━━━━━━━━━━\u001b[0m\u001b[37m\u001b[0m \u001b[1m3s\u001b[0m 9ms/step - accuracy: 0.9990 - loss: 0.0071 - val_accuracy: 0.9992 - val_loss: 0.0040\n",
            "Epoch 128/200\n",
            "\u001b[1m352/358\u001b[0m \u001b[32m━━━━━━━━━━━━━━━━━━━\u001b[0m\u001b[37m━\u001b[0m \u001b[1m0s\u001b[0m 8ms/step - accuracy: 0.9999 - loss: 1.3680e-04\n",
            "Epoch 128: val_loss did not improve from 0.00001\n",
            "\u001b[1m358/358\u001b[0m \u001b[32m━━━━━━━━━━━━━━━━━━━━\u001b[0m\u001b[37m\u001b[0m \u001b[1m3s\u001b[0m 9ms/step - accuracy: 0.9999 - loss: 1.3518e-04 - val_accuracy: 0.9996 - val_loss: 0.0021\n",
            "Epoch 129/200\n",
            "\u001b[1m352/358\u001b[0m \u001b[32m━━━━━━━━━━━━━━━━━━━\u001b[0m\u001b[37m━\u001b[0m \u001b[1m0s\u001b[0m 8ms/step - accuracy: 1.0000 - loss: 2.6767e-06\n",
            "Epoch 129: val_loss did not improve from 0.00001\n",
            "\u001b[1m358/358\u001b[0m \u001b[32m━━━━━━━━━━━━━━━━━━━━\u001b[0m\u001b[37m\u001b[0m \u001b[1m3s\u001b[0m 9ms/step - accuracy: 1.0000 - loss: 2.6620e-06 - val_accuracy: 0.9996 - val_loss: 0.0021\n",
            "Epoch 130/200\n",
            "\u001b[1m355/358\u001b[0m \u001b[32m━━━━━━━━━━━━━━━━━━━\u001b[0m\u001b[37m━\u001b[0m \u001b[1m0s\u001b[0m 8ms/step - accuracy: 1.0000 - loss: 8.3892e-07\n",
            "Epoch 130: val_loss did not improve from 0.00001\n",
            "\u001b[1m358/358\u001b[0m \u001b[32m━━━━━━━━━━━━━━━━━━━━\u001b[0m\u001b[37m\u001b[0m \u001b[1m3s\u001b[0m 9ms/step - accuracy: 1.0000 - loss: 8.4143e-07 - val_accuracy: 0.9996 - val_loss: 0.0021\n",
            "Epoch 131/200\n",
            "\u001b[1m354/358\u001b[0m \u001b[32m━━━━━━━━━━━━━━━━━━━\u001b[0m\u001b[37m━\u001b[0m \u001b[1m0s\u001b[0m 8ms/step - accuracy: 1.0000 - loss: 4.3269e-07\n",
            "Epoch 131: val_loss did not improve from 0.00001\n",
            "\u001b[1m358/358\u001b[0m \u001b[32m━━━━━━━━━━━━━━━━━━━━\u001b[0m\u001b[37m\u001b[0m \u001b[1m3s\u001b[0m 9ms/step - accuracy: 1.0000 - loss: 4.3271e-07 - val_accuracy: 0.9996 - val_loss: 0.0021\n",
            "Epoch 132/200\n",
            "\u001b[1m356/358\u001b[0m \u001b[32m━━━━━━━━━━━━━━━━━━━\u001b[0m\u001b[37m━\u001b[0m \u001b[1m0s\u001b[0m 8ms/step - accuracy: 1.0000 - loss: 3.8284e-07\n",
            "Epoch 132: val_loss did not improve from 0.00001\n",
            "\u001b[1m358/358\u001b[0m \u001b[32m━━━━━━━━━━━━━━━━━━━━\u001b[0m\u001b[37m\u001b[0m \u001b[1m3s\u001b[0m 9ms/step - accuracy: 1.0000 - loss: 4.0188e-07 - val_accuracy: 0.9996 - val_loss: 0.0023\n",
            "Epoch 133/200\n",
            "\u001b[1m355/358\u001b[0m \u001b[32m━━━━━━━━━━━━━━━━━━━\u001b[0m\u001b[37m━\u001b[0m \u001b[1m0s\u001b[0m 8ms/step - accuracy: 1.0000 - loss: 2.9297e-07\n",
            "Epoch 133: val_loss did not improve from 0.00001\n",
            "\u001b[1m358/358\u001b[0m \u001b[32m━━━━━━━━━━━━━━━━━━━━\u001b[0m\u001b[37m\u001b[0m \u001b[1m3s\u001b[0m 9ms/step - accuracy: 1.0000 - loss: 2.9563e-07 - val_accuracy: 0.9996 - val_loss: 0.0023\n",
            "Epoch 134/200\n",
            "\u001b[1m358/358\u001b[0m \u001b[32m━━━━━━━━━━━━━━━━━━━━\u001b[0m\u001b[37m\u001b[0m \u001b[1m0s\u001b[0m 8ms/step - accuracy: 1.0000 - loss: 1.5096e-07\n",
            "Epoch 134: val_loss did not improve from 0.00001\n",
            "\u001b[1m358/358\u001b[0m \u001b[32m━━━━━━━━━━━━━━━━━━━━\u001b[0m\u001b[37m\u001b[0m \u001b[1m3s\u001b[0m 9ms/step - accuracy: 1.0000 - loss: 1.5376e-07 - val_accuracy: 0.9996 - val_loss: 0.0020\n",
            "Epoch 135/200\n",
            "\u001b[1m352/358\u001b[0m \u001b[32m━━━━━━━━━━━━━━━━━━━\u001b[0m\u001b[37m━\u001b[0m \u001b[1m0s\u001b[0m 8ms/step - accuracy: 0.9980 - loss: 0.0118\n",
            "Epoch 135: val_loss did not improve from 0.00001\n",
            "\u001b[1m358/358\u001b[0m \u001b[32m━━━━━━━━━━━━━━━━━━━━\u001b[0m\u001b[37m\u001b[0m \u001b[1m3s\u001b[0m 9ms/step - accuracy: 0.9980 - loss: 0.0117 - val_accuracy: 1.0000 - val_loss: 9.4053e-06\n",
            "Epoch 136/200\n",
            "\u001b[1m355/358\u001b[0m \u001b[32m━━━━━━━━━━━━━━━━━━━\u001b[0m\u001b[37m━\u001b[0m \u001b[1m0s\u001b[0m 8ms/step - accuracy: 1.0000 - loss: 5.3095e-06\n",
            "Epoch 136: val_loss improved from 0.00001 to 0.00000, saving model to ../models/reference/cnn_1_layers.h5\n"
          ]
        },
        {
          "output_type": "stream",
          "name": "stderr",
          "text": [
            "WARNING:absl:You are saving your model as an HDF5 file via `model.save()` or `keras.saving.save_model(model)`. This file format is considered legacy. We recommend using instead the native Keras format, e.g. `model.save('my_model.keras')` or `keras.saving.save_model(model, 'my_model.keras')`. \n"
          ]
        },
        {
          "output_type": "stream",
          "name": "stdout",
          "text": [
            "\b\b\b\b\b\b\b\b\b\b\b\b\b\b\b\b\b\b\b\b\b\b\b\b\b\b\b\b\b\b\b\b\b\b\b\b\b\b\b\b\b\b\b\b\b\b\b\b\b\b\b\b\b\b\b\b\b\b\b\b\b\b\b\b\b\b\b\b\b\b\b\b\b\b\b\b\b\b\r\u001b[1m358/358\u001b[0m \u001b[32m━━━━━━━━━━━━━━━━━━━━\u001b[0m\u001b[37m\u001b[0m \u001b[1m4s\u001b[0m 11ms/step - accuracy: 1.0000 - loss: 5.2989e-06 - val_accuracy: 1.0000 - val_loss: 1.1394e-06\n",
            "Epoch 137/200\n",
            "\u001b[1m354/358\u001b[0m \u001b[32m━━━━━━━━━━━━━━━━━━━\u001b[0m\u001b[37m━\u001b[0m \u001b[1m0s\u001b[0m 8ms/step - accuracy: 1.0000 - loss: 3.2315e-07\n",
            "Epoch 137: val_loss did not improve from 0.00000\n",
            "\u001b[1m358/358\u001b[0m \u001b[32m━━━━━━━━━━━━━━━━━━━━\u001b[0m\u001b[37m\u001b[0m \u001b[1m3s\u001b[0m 9ms/step - accuracy: 1.0000 - loss: 2.4825e-06 - val_accuracy: 1.0000 - val_loss: 1.1937e-06\n",
            "Epoch 138/200\n",
            "\u001b[1m353/358\u001b[0m \u001b[32m━━━━━━━━━━━━━━━━━━━\u001b[0m\u001b[37m━\u001b[0m \u001b[1m0s\u001b[0m 8ms/step - accuracy: 0.9971 - loss: 0.0358\n",
            "Epoch 138: val_loss did not improve from 0.00000\n",
            "\u001b[1m358/358\u001b[0m \u001b[32m━━━━━━━━━━━━━━━━━━━━\u001b[0m\u001b[37m\u001b[0m \u001b[1m3s\u001b[0m 9ms/step - accuracy: 0.9972 - loss: 0.0354 - val_accuracy: 1.0000 - val_loss: 2.2917e-05\n",
            "Epoch 139/200\n",
            "\u001b[1m353/358\u001b[0m \u001b[32m━━━━━━━━━━━━━━━━━━━\u001b[0m\u001b[37m━\u001b[0m \u001b[1m0s\u001b[0m 8ms/step - accuracy: 1.0000 - loss: 9.8111e-06\n",
            "Epoch 139: val_loss did not improve from 0.00000\n",
            "\u001b[1m358/358\u001b[0m \u001b[32m━━━━━━━━━━━━━━━━━━━━\u001b[0m\u001b[37m\u001b[0m \u001b[1m3s\u001b[0m 9ms/step - accuracy: 1.0000 - loss: 9.7434e-06 - val_accuracy: 1.0000 - val_loss: 9.3363e-05\n",
            "Epoch 140/200\n",
            "\u001b[1m354/358\u001b[0m \u001b[32m━━━━━━━━━━━━━━━━━━━\u001b[0m\u001b[37m━\u001b[0m \u001b[1m0s\u001b[0m 8ms/step - accuracy: 1.0000 - loss: 2.9057e-06\n",
            "Epoch 140: val_loss did not improve from 0.00000\n",
            "\u001b[1m358/358\u001b[0m \u001b[32m━━━━━━━━━━━━━━━━━━━━\u001b[0m\u001b[37m\u001b[0m \u001b[1m3s\u001b[0m 9ms/step - accuracy: 1.0000 - loss: 2.8964e-06 - val_accuracy: 1.0000 - val_loss: 1.7609e-05\n",
            "Epoch 141/200\n",
            "\u001b[1m357/358\u001b[0m \u001b[32m━━━━━━━━━━━━━━━━━━━\u001b[0m\u001b[37m━\u001b[0m \u001b[1m0s\u001b[0m 8ms/step - accuracy: 1.0000 - loss: 5.9710e-07\n",
            "Epoch 141: val_loss did not improve from 0.00000\n",
            "\u001b[1m358/358\u001b[0m \u001b[32m━━━━━━━━━━━━━━━━━━━━\u001b[0m\u001b[37m\u001b[0m \u001b[1m3s\u001b[0m 9ms/step - accuracy: 1.0000 - loss: 5.9641e-07 - val_accuracy: 1.0000 - val_loss: 5.8866e-06\n",
            "Epoch 142/200\n",
            "\u001b[1m353/358\u001b[0m \u001b[32m━━━━━━━━━━━━━━━━━━━\u001b[0m\u001b[37m━\u001b[0m \u001b[1m0s\u001b[0m 8ms/step - accuracy: 1.0000 - loss: 1.1524e-06\n",
            "Epoch 142: val_loss did not improve from 0.00000\n",
            "\u001b[1m358/358\u001b[0m \u001b[32m━━━━━━━━━━━━━━━━━━━━\u001b[0m\u001b[37m\u001b[0m \u001b[1m3s\u001b[0m 9ms/step - accuracy: 1.0000 - loss: 1.1420e-06 - val_accuracy: 1.0000 - val_loss: 2.3238e-06\n",
            "Epoch 143/200\n",
            "\u001b[1m357/358\u001b[0m \u001b[32m━━━━━━━━━━━━━━━━━━━\u001b[0m\u001b[37m━\u001b[0m \u001b[1m0s\u001b[0m 8ms/step - accuracy: 1.0000 - loss: 2.0477e-07\n",
            "Epoch 143: val_loss did not improve from 0.00000\n",
            "\u001b[1m358/358\u001b[0m \u001b[32m━━━━━━━━━━━━━━━━━━━━\u001b[0m\u001b[37m\u001b[0m \u001b[1m3s\u001b[0m 9ms/step - accuracy: 1.0000 - loss: 2.0511e-07 - val_accuracy: 1.0000 - val_loss: 2.2834e-06\n",
            "Epoch 144/200\n",
            "\u001b[1m358/358\u001b[0m \u001b[32m━━━━━━━━━━━━━━━━━━━━\u001b[0m\u001b[37m\u001b[0m \u001b[1m0s\u001b[0m 8ms/step - accuracy: 1.0000 - loss: 1.5411e-07\n",
            "Epoch 144: val_loss did not improve from 0.00000\n",
            "\u001b[1m358/358\u001b[0m \u001b[32m━━━━━━━━━━━━━━━━━━━━\u001b[0m\u001b[37m\u001b[0m \u001b[1m3s\u001b[0m 9ms/step - accuracy: 1.0000 - loss: 1.5416e-07 - val_accuracy: 1.0000 - val_loss: 1.3434e-06\n",
            "Epoch 145/200\n",
            "\u001b[1m355/358\u001b[0m \u001b[32m━━━━━━━━━━━━━━━━━━━\u001b[0m\u001b[37m━\u001b[0m \u001b[1m0s\u001b[0m 8ms/step - accuracy: 1.0000 - loss: 5.0589e-07\n",
            "Epoch 145: val_loss did not improve from 0.00000\n",
            "\u001b[1m358/358\u001b[0m \u001b[32m━━━━━━━━━━━━━━━━━━━━\u001b[0m\u001b[37m\u001b[0m \u001b[1m3s\u001b[0m 9ms/step - accuracy: 1.0000 - loss: 5.0274e-07 - val_accuracy: 1.0000 - val_loss: 9.4615e-06\n",
            "Epoch 146/200\n",
            "\u001b[1m352/358\u001b[0m \u001b[32m━━━━━━━━━━━━━━━━━━━\u001b[0m\u001b[37m━\u001b[0m \u001b[1m0s\u001b[0m 8ms/step - accuracy: 1.0000 - loss: 7.9435e-08\n",
            "Epoch 146: val_loss did not improve from 0.00000\n",
            "\u001b[1m358/358\u001b[0m \u001b[32m━━━━━━━━━━━━━━━━━━━━\u001b[0m\u001b[37m\u001b[0m \u001b[1m3s\u001b[0m 9ms/step - accuracy: 1.0000 - loss: 7.9720e-08 - val_accuracy: 1.0000 - val_loss: 2.7446e-06\n",
            "Epoch 147/200\n",
            "\u001b[1m352/358\u001b[0m \u001b[32m━━━━━━━━━━━━━━━━━━━\u001b[0m\u001b[37m━\u001b[0m \u001b[1m0s\u001b[0m 8ms/step - accuracy: 1.0000 - loss: 3.1289e-08\n",
            "Epoch 147: val_loss did not improve from 0.00000\n",
            "\u001b[1m358/358\u001b[0m \u001b[32m━━━━━━━━━━━━━━━━━━━━\u001b[0m\u001b[37m\u001b[0m \u001b[1m3s\u001b[0m 9ms/step - accuracy: 1.0000 - loss: 3.1558e-08 - val_accuracy: 1.0000 - val_loss: 3.0742e-06\n",
            "Epoch 148/200\n",
            "\u001b[1m352/358\u001b[0m \u001b[32m━━━━━━━━━━━━━━━━━━━\u001b[0m\u001b[37m━\u001b[0m \u001b[1m0s\u001b[0m 8ms/step - accuracy: 1.0000 - loss: 3.7657e-08\n",
            "Epoch 148: val_loss did not improve from 0.00000\n",
            "\u001b[1m358/358\u001b[0m \u001b[32m━━━━━━━━━━━━━━━━━━━━\u001b[0m\u001b[37m\u001b[0m \u001b[1m3s\u001b[0m 9ms/step - accuracy: 1.0000 - loss: 3.7553e-08 - val_accuracy: 1.0000 - val_loss: 2.7210e-06\n",
            "Epoch 149/200\n",
            "\u001b[1m358/358\u001b[0m \u001b[32m━━━━━━━━━━━━━━━━━━━━\u001b[0m\u001b[37m\u001b[0m \u001b[1m0s\u001b[0m 8ms/step - accuracy: 1.0000 - loss: 7.1096e-08\n",
            "Epoch 149: val_loss improved from 0.00000 to 0.00000, saving model to ../models/reference/cnn_1_layers.h5\n"
          ]
        },
        {
          "output_type": "stream",
          "name": "stderr",
          "text": [
            "WARNING:absl:You are saving your model as an HDF5 file via `model.save()` or `keras.saving.save_model(model)`. This file format is considered legacy. We recommend using instead the native Keras format, e.g. `model.save('my_model.keras')` or `keras.saving.save_model(model, 'my_model.keras')`. \n"
          ]
        },
        {
          "output_type": "stream",
          "name": "stdout",
          "text": [
            "\b\b\b\b\b\b\b\b\b\b\b\b\b\b\b\b\b\b\b\b\b\b\b\b\b\b\b\b\b\b\b\b\b\b\b\b\b\b\b\b\b\b\b\b\b\b\b\b\b\b\b\b\b\b\b\b\b\b\b\b\b\b\b\b\b\b\b\b\b\b\b\b\b\b\b\b\b\b\r\u001b[1m358/358\u001b[0m \u001b[32m━━━━━━━━━━━━━━━━━━━━\u001b[0m\u001b[37m\u001b[0m \u001b[1m4s\u001b[0m 11ms/step - accuracy: 1.0000 - loss: 7.1228e-08 - val_accuracy: 1.0000 - val_loss: 8.3249e-07\n",
            "Epoch 150/200\n",
            "\u001b[1m356/358\u001b[0m \u001b[32m━━━━━━━━━━━━━━━━━━━\u001b[0m\u001b[37m━\u001b[0m \u001b[1m0s\u001b[0m 8ms/step - accuracy: 1.0000 - loss: 6.4572e-08\n",
            "Epoch 150: val_loss improved from 0.00000 to 0.00000, saving model to ../models/reference/cnn_1_layers.h5\n"
          ]
        },
        {
          "output_type": "stream",
          "name": "stderr",
          "text": [
            "WARNING:absl:You are saving your model as an HDF5 file via `model.save()` or `keras.saving.save_model(model)`. This file format is considered legacy. We recommend using instead the native Keras format, e.g. `model.save('my_model.keras')` or `keras.saving.save_model(model, 'my_model.keras')`. \n"
          ]
        },
        {
          "output_type": "stream",
          "name": "stdout",
          "text": [
            "\b\b\b\b\b\b\b\b\b\b\b\b\b\b\b\b\b\b\b\b\b\b\b\b\b\b\b\b\b\b\b\b\b\b\b\b\b\b\b\b\b\b\b\b\b\b\b\b\b\b\b\b\b\b\b\b\b\b\b\b\b\b\b\b\b\b\b\b\b\b\b\b\b\b\b\b\b\b\r\u001b[1m358/358\u001b[0m \u001b[32m━━━━━━━━━━━━━━━━━━━━\u001b[0m\u001b[37m\u001b[0m \u001b[1m4s\u001b[0m 11ms/step - accuracy: 1.0000 - loss: 6.4329e-08 - val_accuracy: 1.0000 - val_loss: 7.8398e-07\n",
            "Epoch 151/200\n",
            "\u001b[1m352/358\u001b[0m \u001b[32m━━━━━━━━━━━━━━━━━━━\u001b[0m\u001b[37m━\u001b[0m \u001b[1m0s\u001b[0m 8ms/step - accuracy: 1.0000 - loss: 7.7245e-09\n",
            "Epoch 151: val_loss improved from 0.00000 to 0.00000, saving model to ../models/reference/cnn_1_layers.h5\n"
          ]
        },
        {
          "output_type": "stream",
          "name": "stderr",
          "text": [
            "WARNING:absl:You are saving your model as an HDF5 file via `model.save()` or `keras.saving.save_model(model)`. This file format is considered legacy. We recommend using instead the native Keras format, e.g. `model.save('my_model.keras')` or `keras.saving.save_model(model, 'my_model.keras')`. \n"
          ]
        },
        {
          "output_type": "stream",
          "name": "stdout",
          "text": [
            "\b\b\b\b\b\b\b\b\b\b\b\b\b\b\b\b\b\b\b\b\b\b\b\b\b\b\b\b\b\b\b\b\b\b\b\b\b\b\b\b\b\b\b\b\b\b\b\b\b\b\b\b\b\b\b\b\b\b\b\b\b\b\b\b\b\b\b\b\b\b\b\b\b\b\b\b\b\b\r\u001b[1m358/358\u001b[0m \u001b[32m━━━━━━━━━━━━━━━━━━━━\u001b[0m\u001b[37m\u001b[0m \u001b[1m4s\u001b[0m 11ms/step - accuracy: 1.0000 - loss: 7.9171e-09 - val_accuracy: 1.0000 - val_loss: 6.0065e-07\n",
            "Epoch 152/200\n",
            "\u001b[1m356/358\u001b[0m \u001b[32m━━━━━━━━━━━━━━━━━━━\u001b[0m\u001b[37m━\u001b[0m \u001b[1m0s\u001b[0m 8ms/step - accuracy: 1.0000 - loss: 1.1943e-08\n",
            "Epoch 152: val_loss did not improve from 0.00000\n",
            "\u001b[1m358/358\u001b[0m \u001b[32m━━━━━━━━━━━━━━━━━━━━\u001b[0m\u001b[37m\u001b[0m \u001b[1m3s\u001b[0m 9ms/step - accuracy: 1.0000 - loss: 1.1954e-08 - val_accuracy: 1.0000 - val_loss: 6.6099e-07\n",
            "Epoch 153/200\n",
            "\u001b[1m354/358\u001b[0m \u001b[32m━━━━━━━━━━━━━━━━━━━\u001b[0m\u001b[37m━\u001b[0m \u001b[1m0s\u001b[0m 9ms/step - accuracy: 1.0000 - loss: 5.9687e-09\n",
            "Epoch 153: val_loss improved from 0.00000 to 0.00000, saving model to ../models/reference/cnn_1_layers.h5\n"
          ]
        },
        {
          "output_type": "stream",
          "name": "stderr",
          "text": [
            "WARNING:absl:You are saving your model as an HDF5 file via `model.save()` or `keras.saving.save_model(model)`. This file format is considered legacy. We recommend using instead the native Keras format, e.g. `model.save('my_model.keras')` or `keras.saving.save_model(model, 'my_model.keras')`. \n"
          ]
        },
        {
          "output_type": "stream",
          "name": "stdout",
          "text": [
            "\b\b\b\b\b\b\b\b\b\b\b\b\b\b\b\b\b\b\b\b\b\b\b\b\b\b\b\b\b\b\b\b\b\b\b\b\b\b\b\b\b\b\b\b\b\b\b\b\b\b\b\b\b\b\b\b\b\b\b\b\b\b\b\b\b\b\b\b\b\b\b\b\b\b\b\b\b\b\r\u001b[1m358/358\u001b[0m \u001b[32m━━━━━━━━━━━━━━━━━━━━\u001b[0m\u001b[37m\u001b[0m \u001b[1m4s\u001b[0m 11ms/step - accuracy: 1.0000 - loss: 6.2920e-09 - val_accuracy: 1.0000 - val_loss: 5.2615e-07\n",
            "Epoch 154/200\n",
            "\u001b[1m355/358\u001b[0m \u001b[32m━━━━━━━━━━━━━━━━━━━\u001b[0m\u001b[37m━\u001b[0m \u001b[1m0s\u001b[0m 9ms/step - accuracy: 1.0000 - loss: 2.1595e-08\n",
            "Epoch 154: val_loss did not improve from 0.00000\n",
            "\u001b[1m358/358\u001b[0m \u001b[32m━━━━━━━━━━━━━━━━━━━━\u001b[0m\u001b[37m\u001b[0m \u001b[1m3s\u001b[0m 9ms/step - accuracy: 1.0000 - loss: 2.1639e-08 - val_accuracy: 1.0000 - val_loss: 6.0267e-07\n",
            "Epoch 155/200\n",
            "\u001b[1m355/358\u001b[0m \u001b[32m━━━━━━━━━━━━━━━━━━━\u001b[0m\u001b[37m━\u001b[0m \u001b[1m0s\u001b[0m 9ms/step - accuracy: 1.0000 - loss: 6.8243e-09\n",
            "Epoch 155: val_loss did not improve from 0.00000\n",
            "\u001b[1m358/358\u001b[0m \u001b[32m━━━━━━━━━━━━━━━━━━━━\u001b[0m\u001b[37m\u001b[0m \u001b[1m3s\u001b[0m 9ms/step - accuracy: 1.0000 - loss: 7.0028e-09 - val_accuracy: 1.0000 - val_loss: 5.5503e-06\n",
            "Epoch 156/200\n",
            "\u001b[1m353/358\u001b[0m \u001b[32m━━━━━━━━━━━━━━━━━━━\u001b[0m\u001b[37m━\u001b[0m \u001b[1m0s\u001b[0m 8ms/step - accuracy: 1.0000 - loss: 4.3380e-09\n",
            "Epoch 156: val_loss did not improve from 0.00000\n",
            "\u001b[1m358/358\u001b[0m \u001b[32m━━━━━━━━━━━━━━━━━━━━\u001b[0m\u001b[37m\u001b[0m \u001b[1m3s\u001b[0m 9ms/step - accuracy: 1.0000 - loss: 4.3164e-09 - val_accuracy: 1.0000 - val_loss: 6.4449e-06\n",
            "Epoch 157/200\n",
            "\u001b[1m355/358\u001b[0m \u001b[32m━━━━━━━━━━━━━━━━━━━\u001b[0m\u001b[37m━\u001b[0m \u001b[1m0s\u001b[0m 9ms/step - accuracy: 1.0000 - loss: 2.2750e-09\n",
            "Epoch 157: val_loss did not improve from 0.00000\n",
            "\u001b[1m358/358\u001b[0m \u001b[32m━━━━━━━━━━━━━━━━━━━━\u001b[0m\u001b[37m\u001b[0m \u001b[1m3s\u001b[0m 9ms/step - accuracy: 1.0000 - loss: 2.1322e-08 - val_accuracy: 1.0000 - val_loss: 1.0059e-05\n",
            "Epoch 158/200\n",
            "\u001b[1m354/358\u001b[0m \u001b[32m━━━━━━━━━━━━━━━━━━━\u001b[0m\u001b[37m━\u001b[0m \u001b[1m0s\u001b[0m 9ms/step - accuracy: 0.9979 - loss: 0.0155\n",
            "Epoch 158: val_loss did not improve from 0.00000\n",
            "\u001b[1m358/358\u001b[0m \u001b[32m━━━━━━━━━━━━━━━━━━━━\u001b[0m\u001b[37m\u001b[0m \u001b[1m3s\u001b[0m 9ms/step - accuracy: 0.9979 - loss: 0.0153 - val_accuracy: 0.9992 - val_loss: 0.0016\n",
            "Epoch 159/200\n",
            "\u001b[1m357/358\u001b[0m \u001b[32m━━━━━━━━━━━━━━━━━━━\u001b[0m\u001b[37m━\u001b[0m \u001b[1m0s\u001b[0m 8ms/step - accuracy: 0.9998 - loss: 0.0024\n",
            "Epoch 159: val_loss did not improve from 0.00000\n",
            "\u001b[1m358/358\u001b[0m \u001b[32m━━━━━━━━━━━━━━━━━━━━\u001b[0m\u001b[37m\u001b[0m \u001b[1m3s\u001b[0m 9ms/step - accuracy: 0.9998 - loss: 0.0025 - val_accuracy: 0.9992 - val_loss: 0.0130\n",
            "Epoch 160/200\n",
            "\u001b[1m354/358\u001b[0m \u001b[32m━━━━━━━━━━━━━━━━━━━\u001b[0m\u001b[37m━\u001b[0m \u001b[1m0s\u001b[0m 8ms/step - accuracy: 0.9994 - loss: 0.0036\n",
            "Epoch 160: val_loss did not improve from 0.00000\n",
            "\u001b[1m358/358\u001b[0m \u001b[32m━━━━━━━━━━━━━━━━━━━━\u001b[0m\u001b[37m\u001b[0m \u001b[1m3s\u001b[0m 9ms/step - accuracy: 0.9994 - loss: 0.0036 - val_accuracy: 1.0000 - val_loss: 5.2425e-05\n",
            "Epoch 161/200\n",
            "\u001b[1m353/358\u001b[0m \u001b[32m━━━━━━━━━━━━━━━━━━━\u001b[0m\u001b[37m━\u001b[0m \u001b[1m0s\u001b[0m 8ms/step - accuracy: 1.0000 - loss: 2.4807e-07\n",
            "Epoch 161: val_loss did not improve from 0.00000\n",
            "\u001b[1m358/358\u001b[0m \u001b[32m━━━━━━━━━━━━━━━━━━━━\u001b[0m\u001b[37m\u001b[0m \u001b[1m3s\u001b[0m 9ms/step - accuracy: 1.0000 - loss: 2.4827e-07 - val_accuracy: 1.0000 - val_loss: 1.4817e-05\n",
            "Epoch 162/200\n",
            "\u001b[1m358/358\u001b[0m \u001b[32m━━━━━━━━━━━━━━━━━━━━\u001b[0m\u001b[37m\u001b[0m \u001b[1m0s\u001b[0m 8ms/step - accuracy: 1.0000 - loss: 1.3375e-07\n",
            "Epoch 162: val_loss did not improve from 0.00000\n",
            "\u001b[1m358/358\u001b[0m \u001b[32m━━━━━━━━━━━━━━━━━━━━\u001b[0m\u001b[37m\u001b[0m \u001b[1m3s\u001b[0m 9ms/step - accuracy: 1.0000 - loss: 1.3371e-07 - val_accuracy: 1.0000 - val_loss: 1.1867e-05\n",
            "Epoch 163/200\n",
            "\u001b[1m354/358\u001b[0m \u001b[32m━━━━━━━━━━━━━━━━━━━\u001b[0m\u001b[37m━\u001b[0m \u001b[1m0s\u001b[0m 8ms/step - accuracy: 1.0000 - loss: 3.9944e-08\n",
            "Epoch 163: val_loss did not improve from 0.00000\n",
            "\u001b[1m358/358\u001b[0m \u001b[32m━━━━━━━━━━━━━━━━━━━━\u001b[0m\u001b[37m\u001b[0m \u001b[1m3s\u001b[0m 9ms/step - accuracy: 1.0000 - loss: 4.0351e-08 - val_accuracy: 1.0000 - val_loss: 2.2071e-05\n",
            "Epoch 164/200\n",
            "\u001b[1m355/358\u001b[0m \u001b[32m━━━━━━━━━━━━━━━━━━━\u001b[0m\u001b[37m━\u001b[0m \u001b[1m0s\u001b[0m 8ms/step - accuracy: 1.0000 - loss: 3.3303e-08\n",
            "Epoch 164: val_loss did not improve from 0.00000\n",
            "\u001b[1m358/358\u001b[0m \u001b[32m━━━━━━━━━━━━━━━━━━━━\u001b[0m\u001b[37m\u001b[0m \u001b[1m3s\u001b[0m 9ms/step - accuracy: 1.0000 - loss: 3.3324e-08 - val_accuracy: 1.0000 - val_loss: 7.9862e-06\n",
            "Epoch 165/200\n",
            "\u001b[1m356/358\u001b[0m \u001b[32m━━━━━━━━━━━━━━━━━━━\u001b[0m\u001b[37m━\u001b[0m \u001b[1m0s\u001b[0m 8ms/step - accuracy: 1.0000 - loss: 1.1705e-07\n",
            "Epoch 165: val_loss did not improve from 0.00000\n",
            "\u001b[1m358/358\u001b[0m \u001b[32m━━━━━━━━━━━━━━━━━━━━\u001b[0m\u001b[37m\u001b[0m \u001b[1m3s\u001b[0m 9ms/step - accuracy: 1.0000 - loss: 1.1635e-07 - val_accuracy: 1.0000 - val_loss: 3.1679e-06\n",
            "Epoch 166/200\n",
            "\u001b[1m352/358\u001b[0m \u001b[32m━━━━━━━━━━━━━━━━━━━\u001b[0m\u001b[37m━\u001b[0m \u001b[1m0s\u001b[0m 8ms/step - accuracy: 1.0000 - loss: 1.1862e-08\n",
            "Epoch 166: val_loss did not improve from 0.00000\n",
            "\u001b[1m358/358\u001b[0m \u001b[32m━━━━━━━━━━━━━━━━━━━━\u001b[0m\u001b[37m\u001b[0m \u001b[1m3s\u001b[0m 9ms/step - accuracy: 1.0000 - loss: 1.1891e-08 - val_accuracy: 1.0000 - val_loss: 2.7754e-06\n",
            "Epoch 167/200\n",
            "\u001b[1m358/358\u001b[0m \u001b[32m━━━━━━━━━━━━━━━━━━━━\u001b[0m\u001b[37m\u001b[0m \u001b[1m0s\u001b[0m 8ms/step - accuracy: 1.0000 - loss: 9.4719e-09\n",
            "Epoch 167: val_loss did not improve from 0.00000\n",
            "\u001b[1m358/358\u001b[0m \u001b[32m━━━━━━━━━━━━━━━━━━━━\u001b[0m\u001b[37m\u001b[0m \u001b[1m3s\u001b[0m 9ms/step - accuracy: 1.0000 - loss: 9.4622e-09 - val_accuracy: 1.0000 - val_loss: 3.9663e-06\n",
            "Epoch 168/200\n",
            "\u001b[1m352/358\u001b[0m \u001b[32m━━━━━━━━━━━━━━━━━━━\u001b[0m\u001b[37m━\u001b[0m \u001b[1m0s\u001b[0m 8ms/step - accuracy: 1.0000 - loss: 1.1641e-08\n",
            "Epoch 168: val_loss did not improve from 0.00000\n",
            "\u001b[1m358/358\u001b[0m \u001b[32m━━━━━━━━━━━━━━━━━━━━\u001b[0m\u001b[37m\u001b[0m \u001b[1m3s\u001b[0m 9ms/step - accuracy: 1.0000 - loss: 1.1635e-08 - val_accuracy: 1.0000 - val_loss: 3.1472e-06\n",
            "Epoch 169/200\n",
            "\u001b[1m358/358\u001b[0m \u001b[32m━━━━━━━━━━━━━━━━━━━━\u001b[0m\u001b[37m\u001b[0m \u001b[1m0s\u001b[0m 8ms/step - accuracy: 1.0000 - loss: 1.0970e-08\n",
            "Epoch 169: val_loss did not improve from 0.00000\n",
            "\u001b[1m358/358\u001b[0m \u001b[32m━━━━━━━━━━━━━━━━━━━━\u001b[0m\u001b[37m\u001b[0m \u001b[1m3s\u001b[0m 9ms/step - accuracy: 1.0000 - loss: 1.0981e-08 - val_accuracy: 1.0000 - val_loss: 4.1038e-06\n",
            "Epoch 170/200\n",
            "\u001b[1m353/358\u001b[0m \u001b[32m━━━━━━━━━━━━━━━━━━━\u001b[0m\u001b[37m━\u001b[0m \u001b[1m0s\u001b[0m 8ms/step - accuracy: 1.0000 - loss: 5.1340e-09\n",
            "Epoch 170: val_loss did not improve from 0.00000\n",
            "\u001b[1m358/358\u001b[0m \u001b[32m━━━━━━━━━━━━━━━━━━━━\u001b[0m\u001b[37m\u001b[0m \u001b[1m3s\u001b[0m 9ms/step - accuracy: 1.0000 - loss: 5.1339e-09 - val_accuracy: 1.0000 - val_loss: 3.3416e-06\n",
            "Epoch 171/200\n",
            "\u001b[1m354/358\u001b[0m \u001b[32m━━━━━━━━━━━━━━━━━━━\u001b[0m\u001b[37m━\u001b[0m \u001b[1m0s\u001b[0m 9ms/step - accuracy: 1.0000 - loss: 5.1045e-08\n",
            "Epoch 171: val_loss improved from 0.00000 to 0.00000, saving model to ../models/reference/cnn_1_layers.h5\n"
          ]
        },
        {
          "output_type": "stream",
          "name": "stderr",
          "text": [
            "WARNING:absl:You are saving your model as an HDF5 file via `model.save()` or `keras.saving.save_model(model)`. This file format is considered legacy. We recommend using instead the native Keras format, e.g. `model.save('my_model.keras')` or `keras.saving.save_model(model, 'my_model.keras')`. \n"
          ]
        },
        {
          "output_type": "stream",
          "name": "stdout",
          "text": [
            "\b\b\b\b\b\b\b\b\b\b\b\b\b\b\b\b\b\b\b\b\b\b\b\b\b\b\b\b\b\b\b\b\b\b\b\b\b\b\b\b\b\b\b\b\b\b\b\b\b\b\b\b\b\b\b\b\b\b\b\b\b\b\b\b\b\b\b\b\b\b\b\b\b\b\b\b\b\b\r\u001b[1m358/358\u001b[0m \u001b[32m━━━━━━━━━━━━━━━━━━━━\u001b[0m\u001b[37m\u001b[0m \u001b[1m4s\u001b[0m 11ms/step - accuracy: 1.0000 - loss: 5.1116e-08 - val_accuracy: 1.0000 - val_loss: 3.5992e-07\n",
            "Epoch 172/200\n",
            "\u001b[1m356/358\u001b[0m \u001b[32m━━━━━━━━━━━━━━━━━━━\u001b[0m\u001b[37m━\u001b[0m \u001b[1m0s\u001b[0m 8ms/step - accuracy: 1.0000 - loss: 8.3756e-09\n",
            "Epoch 172: val_loss improved from 0.00000 to 0.00000, saving model to ../models/reference/cnn_1_layers.h5\n"
          ]
        },
        {
          "output_type": "stream",
          "name": "stderr",
          "text": [
            "WARNING:absl:You are saving your model as an HDF5 file via `model.save()` or `keras.saving.save_model(model)`. This file format is considered legacy. We recommend using instead the native Keras format, e.g. `model.save('my_model.keras')` or `keras.saving.save_model(model, 'my_model.keras')`. \n"
          ]
        },
        {
          "output_type": "stream",
          "name": "stdout",
          "text": [
            "\b\b\b\b\b\b\b\b\b\b\b\b\b\b\b\b\b\b\b\b\b\b\b\b\b\b\b\b\b\b\b\b\b\b\b\b\b\b\b\b\b\b\b\b\b\b\b\b\b\b\b\b\b\b\b\b\b\b\b\b\b\b\b\b\b\b\b\b\b\b\b\b\b\b\b\b\b\b\r\u001b[1m358/358\u001b[0m \u001b[32m━━━━━━━━━━━━━━━━━━━━\u001b[0m\u001b[37m\u001b[0m \u001b[1m4s\u001b[0m 11ms/step - accuracy: 1.0000 - loss: 8.3418e-09 - val_accuracy: 1.0000 - val_loss: 3.4528e-07\n",
            "Epoch 173/200\n",
            "\u001b[1m354/358\u001b[0m \u001b[32m━━━━━━━━━━━━━━━━━━━\u001b[0m\u001b[37m━\u001b[0m \u001b[1m0s\u001b[0m 8ms/step - accuracy: 1.0000 - loss: 1.9353e-08\n",
            "Epoch 173: val_loss did not improve from 0.00000\n",
            "\u001b[1m358/358\u001b[0m \u001b[32m━━━━━━━━━━━━━━━━━━━━\u001b[0m\u001b[37m\u001b[0m \u001b[1m3s\u001b[0m 9ms/step - accuracy: 1.0000 - loss: 1.9184e-08 - val_accuracy: 1.0000 - val_loss: 4.6076e-07\n",
            "Epoch 174/200\n",
            "\u001b[1m352/358\u001b[0m \u001b[32m━━━━━━━━━━━━━━━━━━━\u001b[0m\u001b[37m━\u001b[0m \u001b[1m0s\u001b[0m 8ms/step - accuracy: 1.0000 - loss: 1.9134e-09\n",
            "Epoch 174: val_loss did not improve from 0.00000\n",
            "\u001b[1m358/358\u001b[0m \u001b[32m━━━━━━━━━━━━━━━━━━━━\u001b[0m\u001b[37m\u001b[0m \u001b[1m3s\u001b[0m 9ms/step - accuracy: 1.0000 - loss: 1.9147e-09 - val_accuracy: 1.0000 - val_loss: 5.6129e-07\n",
            "Epoch 175/200\n",
            "\u001b[1m355/358\u001b[0m \u001b[32m━━━━━━━━━━━━━━━━━━━\u001b[0m\u001b[37m━\u001b[0m \u001b[1m0s\u001b[0m 9ms/step - accuracy: 1.0000 - loss: 2.6891e-09\n",
            "Epoch 175: val_loss did not improve from 0.00000\n",
            "\u001b[1m358/358\u001b[0m \u001b[32m━━━━━━━━━━━━━━━━━━━━\u001b[0m\u001b[37m\u001b[0m \u001b[1m3s\u001b[0m 9ms/step - accuracy: 1.0000 - loss: 2.6991e-09 - val_accuracy: 1.0000 - val_loss: 5.4558e-07\n",
            "Epoch 176/200\n",
            "\u001b[1m355/358\u001b[0m \u001b[32m━━━━━━━━━━━━━━━━━━━\u001b[0m\u001b[37m━\u001b[0m \u001b[1m0s\u001b[0m 8ms/step - accuracy: 1.0000 - loss: 2.2070e-09\n",
            "Epoch 176: val_loss did not improve from 0.00000\n",
            "\u001b[1m358/358\u001b[0m \u001b[32m━━━━━━━━━━━━━━━━━━━━\u001b[0m\u001b[37m\u001b[0m \u001b[1m3s\u001b[0m 9ms/step - accuracy: 1.0000 - loss: 2.1955e-09 - val_accuracy: 1.0000 - val_loss: 4.8486e-07\n",
            "Epoch 177/200\n",
            "\u001b[1m356/358\u001b[0m \u001b[32m━━━━━━━━━━━━━━━━━━━\u001b[0m\u001b[37m━\u001b[0m \u001b[1m0s\u001b[0m 9ms/step - accuracy: 1.0000 - loss: 8.9978e-10\n",
            "Epoch 177: val_loss did not improve from 0.00000\n",
            "\u001b[1m358/358\u001b[0m \u001b[32m━━━━━━━━━━━━━━━━━━━━\u001b[0m\u001b[37m\u001b[0m \u001b[1m3s\u001b[0m 9ms/step - accuracy: 1.0000 - loss: 9.0399e-10 - val_accuracy: 1.0000 - val_loss: 5.3826e-07\n",
            "Epoch 178/200\n",
            "\u001b[1m355/358\u001b[0m \u001b[32m━━━━━━━━━━━━━━━━━━━\u001b[0m\u001b[37m━\u001b[0m \u001b[1m0s\u001b[0m 9ms/step - accuracy: 1.0000 - loss: 1.9094e-09\n",
            "Epoch 178: val_loss did not improve from 0.00000\n",
            "\u001b[1m358/358\u001b[0m \u001b[32m━━━━━━━━━━━━━━━━━━━━\u001b[0m\u001b[37m\u001b[0m \u001b[1m3s\u001b[0m 9ms/step - accuracy: 1.0000 - loss: 1.9271e-09 - val_accuracy: 1.0000 - val_loss: 6.2092e-07\n",
            "Epoch 179/200\n",
            "\u001b[1m355/358\u001b[0m \u001b[32m━━━━━━━━━━━━━━━━━━━\u001b[0m\u001b[37m━\u001b[0m \u001b[1m0s\u001b[0m 9ms/step - accuracy: 1.0000 - loss: 1.4747e-09\n",
            "Epoch 179: val_loss did not improve from 0.00000\n",
            "\u001b[1m358/358\u001b[0m \u001b[32m━━━━━━━━━━━━━━━━━━━━\u001b[0m\u001b[37m\u001b[0m \u001b[1m3s\u001b[0m 9ms/step - accuracy: 1.0000 - loss: 1.4956e-09 - val_accuracy: 1.0000 - val_loss: 7.8210e-07\n",
            "Epoch 180/200\n",
            "\u001b[1m357/358\u001b[0m \u001b[32m━━━━━━━━━━━━━━━━━━━\u001b[0m\u001b[37m━\u001b[0m \u001b[1m0s\u001b[0m 9ms/step - accuracy: 0.9982 - loss: 0.0093\n",
            "Epoch 180: val_loss did not improve from 0.00000\n",
            "\u001b[1m358/358\u001b[0m \u001b[32m━━━━━━━━━━━━━━━━━━━━\u001b[0m\u001b[37m\u001b[0m \u001b[1m3s\u001b[0m 9ms/step - accuracy: 0.9982 - loss: 0.0093 - val_accuracy: 0.9992 - val_loss: 0.0020\n",
            "Epoch 181/200\n",
            "\u001b[1m353/358\u001b[0m \u001b[32m━━━━━━━━━━━━━━━━━━━\u001b[0m\u001b[37m━\u001b[0m \u001b[1m0s\u001b[0m 9ms/step - accuracy: 0.9998 - loss: 2.2091e-04\n",
            "Epoch 181: val_loss did not improve from 0.00000\n",
            "\u001b[1m358/358\u001b[0m \u001b[32m━━━━━━━━━━━━━━━━━━━━\u001b[0m\u001b[37m\u001b[0m \u001b[1m3s\u001b[0m 9ms/step - accuracy: 0.9998 - loss: 2.1860e-04 - val_accuracy: 1.0000 - val_loss: 1.0565e-05\n",
            "Epoch 182/200\n",
            "\u001b[1m353/358\u001b[0m \u001b[32m━━━━━━━━━━━━━━━━━━━\u001b[0m\u001b[37m━\u001b[0m \u001b[1m0s\u001b[0m 9ms/step - accuracy: 1.0000 - loss: 3.6826e-06\n",
            "Epoch 182: val_loss did not improve from 0.00000\n",
            "\u001b[1m358/358\u001b[0m \u001b[32m━━━━━━━━━━━━━━━━━━━━\u001b[0m\u001b[37m\u001b[0m \u001b[1m3s\u001b[0m 9ms/step - accuracy: 1.0000 - loss: 3.6885e-06 - val_accuracy: 1.0000 - val_loss: 4.6974e-06\n",
            "Epoch 183/200\n",
            "\u001b[1m352/358\u001b[0m \u001b[32m━━━━━━━━━━━━━━━━━━━\u001b[0m\u001b[37m━\u001b[0m \u001b[1m0s\u001b[0m 9ms/step - accuracy: 0.9997 - loss: 0.0018\n",
            "Epoch 183: val_loss did not improve from 0.00000\n",
            "\u001b[1m358/358\u001b[0m \u001b[32m━━━━━━━━━━━━━━━━━━━━\u001b[0m\u001b[37m\u001b[0m \u001b[1m3s\u001b[0m 9ms/step - accuracy: 0.9997 - loss: 0.0018 - val_accuracy: 1.0000 - val_loss: 8.1118e-05\n",
            "Epoch 184/200\n",
            "\u001b[1m352/358\u001b[0m \u001b[32m━━━━━━━━━━━━━━━━━━━\u001b[0m\u001b[37m━\u001b[0m \u001b[1m0s\u001b[0m 9ms/step - accuracy: 1.0000 - loss: 2.7178e-06\n",
            "Epoch 184: val_loss did not improve from 0.00000\n",
            "\u001b[1m358/358\u001b[0m \u001b[32m━━━━━━━━━━━━━━━━━━━━\u001b[0m\u001b[37m\u001b[0m \u001b[1m3s\u001b[0m 9ms/step - accuracy: 1.0000 - loss: 2.7069e-06 - val_accuracy: 1.0000 - val_loss: 4.8259e-05\n",
            "Epoch 185/200\n",
            "\u001b[1m357/358\u001b[0m \u001b[32m━━━━━━━━━━━━━━━━━━━\u001b[0m\u001b[37m━\u001b[0m \u001b[1m0s\u001b[0m 9ms/step - accuracy: 1.0000 - loss: 8.3294e-07\n",
            "Epoch 185: val_loss did not improve from 0.00000\n",
            "\u001b[1m358/358\u001b[0m \u001b[32m━━━━━━━━━━━━━━━━━━━━\u001b[0m\u001b[37m\u001b[0m \u001b[1m3s\u001b[0m 9ms/step - accuracy: 1.0000 - loss: 8.3334e-07 - val_accuracy: 1.0000 - val_loss: 1.0032e-05\n",
            "Epoch 186/200\n",
            "\u001b[1m357/358\u001b[0m \u001b[32m━━━━━━━━━━━━━━━━━━━\u001b[0m\u001b[37m━\u001b[0m \u001b[1m0s\u001b[0m 9ms/step - accuracy: 1.0000 - loss: 1.0902e-06\n",
            "Epoch 186: val_loss did not improve from 0.00000\n",
            "\u001b[1m358/358\u001b[0m \u001b[32m━━━━━━━━━━━━━━━━━━━━\u001b[0m\u001b[37m\u001b[0m \u001b[1m3s\u001b[0m 9ms/step - accuracy: 1.0000 - loss: 1.0899e-06 - val_accuracy: 1.0000 - val_loss: 3.0495e-06\n",
            "Epoch 187/200\n",
            "\u001b[1m353/358\u001b[0m \u001b[32m━━━━━━━━━━━━━━━━━━━\u001b[0m\u001b[37m━\u001b[0m \u001b[1m0s\u001b[0m 9ms/step - accuracy: 1.0000 - loss: 1.0174e-07\n",
            "Epoch 187: val_loss did not improve from 0.00000\n",
            "\u001b[1m358/358\u001b[0m \u001b[32m━━━━━━━━━━━━━━━━━━━━\u001b[0m\u001b[37m\u001b[0m \u001b[1m3s\u001b[0m 9ms/step - accuracy: 1.0000 - loss: 2.6360e-05 - val_accuracy: 0.9996 - val_loss: 5.9252e-04\n",
            "Epoch 188/200\n",
            "\u001b[1m353/358\u001b[0m \u001b[32m━━━━━━━━━━━━━━━━━━━\u001b[0m\u001b[37m━\u001b[0m \u001b[1m0s\u001b[0m 9ms/step - accuracy: 0.9977 - loss: 0.0097\n",
            "Epoch 188: val_loss did not improve from 0.00000\n",
            "\u001b[1m358/358\u001b[0m \u001b[32m━━━━━━━━━━━━━━━━━━━━\u001b[0m\u001b[37m\u001b[0m \u001b[1m3s\u001b[0m 9ms/step - accuracy: 0.9978 - loss: 0.0096 - val_accuracy: 0.9984 - val_loss: 0.0071\n",
            "Epoch 189/200\n",
            "\u001b[1m357/358\u001b[0m \u001b[32m━━━━━━━━━━━━━━━━━━━\u001b[0m\u001b[37m━\u001b[0m \u001b[1m0s\u001b[0m 9ms/step - accuracy: 0.9995 - loss: 0.0012\n",
            "Epoch 189: val_loss did not improve from 0.00000\n",
            "\u001b[1m358/358\u001b[0m \u001b[32m━━━━━━━━━━━━━━━━━━━━\u001b[0m\u001b[37m\u001b[0m \u001b[1m3s\u001b[0m 9ms/step - accuracy: 0.9995 - loss: 0.0012 - val_accuracy: 1.0000 - val_loss: 1.6086e-04\n",
            "Epoch 190/200\n",
            "\u001b[1m355/358\u001b[0m \u001b[32m━━━━━━━━━━━━━━━━━━━\u001b[0m\u001b[37m━\u001b[0m \u001b[1m0s\u001b[0m 9ms/step - accuracy: 0.9998 - loss: 4.0605e-04\n",
            "Epoch 190: val_loss did not improve from 0.00000\n",
            "\u001b[1m358/358\u001b[0m \u001b[32m━━━━━━━━━━━━━━━━━━━━\u001b[0m\u001b[37m\u001b[0m \u001b[1m3s\u001b[0m 9ms/step - accuracy: 0.9998 - loss: 4.0653e-04 - val_accuracy: 1.0000 - val_loss: 4.0232e-04\n",
            "Epoch 191/200\n",
            "\u001b[1m355/358\u001b[0m \u001b[32m━━━━━━━━━━━━━━━━━━━\u001b[0m\u001b[37m━\u001b[0m \u001b[1m0s\u001b[0m 9ms/step - accuracy: 1.0000 - loss: 2.6372e-05\n",
            "Epoch 191: val_loss did not improve from 0.00000\n",
            "\u001b[1m358/358\u001b[0m \u001b[32m━━━━━━━━━━━━━━━━━━━━\u001b[0m\u001b[37m\u001b[0m \u001b[1m3s\u001b[0m 9ms/step - accuracy: 1.0000 - loss: 2.6273e-05 - val_accuracy: 1.0000 - val_loss: 1.3400e-04\n",
            "Epoch 192/200\n",
            "\u001b[1m353/358\u001b[0m \u001b[32m━━━━━━━━━━━━━━━━━━━\u001b[0m\u001b[37m━\u001b[0m \u001b[1m0s\u001b[0m 9ms/step - accuracy: 1.0000 - loss: 4.4276e-06\n",
            "Epoch 192: val_loss did not improve from 0.00000\n",
            "\u001b[1m358/358\u001b[0m \u001b[32m━━━━━━━━━━━━━━━━━━━━\u001b[0m\u001b[37m\u001b[0m \u001b[1m3s\u001b[0m 9ms/step - accuracy: 1.0000 - loss: 4.4388e-06 - val_accuracy: 1.0000 - val_loss: 1.2073e-05\n",
            "Epoch 193/200\n",
            "\u001b[1m352/358\u001b[0m \u001b[32m━━━━━━━━━━━━━━━━━━━\u001b[0m\u001b[37m━\u001b[0m \u001b[1m0s\u001b[0m 9ms/step - accuracy: 0.9999 - loss: 0.0014\n",
            "Epoch 193: val_loss did not improve from 0.00000\n",
            "\u001b[1m358/358\u001b[0m \u001b[32m━━━━━━━━━━━━━━━━━━━━\u001b[0m\u001b[37m\u001b[0m \u001b[1m3s\u001b[0m 9ms/step - accuracy: 0.9999 - loss: 0.0014 - val_accuracy: 1.0000 - val_loss: 1.0155e-04\n",
            "Epoch 194/200\n",
            "\u001b[1m355/358\u001b[0m \u001b[32m━━━━━━━━━━━━━━━━━━━\u001b[0m\u001b[37m━\u001b[0m \u001b[1m0s\u001b[0m 9ms/step - accuracy: 1.0000 - loss: 4.6644e-06\n",
            "Epoch 194: val_loss did not improve from 0.00000\n",
            "\u001b[1m358/358\u001b[0m \u001b[32m━━━━━━━━━━━━━━━━━━━━\u001b[0m\u001b[37m\u001b[0m \u001b[1m3s\u001b[0m 9ms/step - accuracy: 1.0000 - loss: 4.6610e-06 - val_accuracy: 1.0000 - val_loss: 3.9353e-05\n",
            "Epoch 195/200\n",
            "\u001b[1m354/358\u001b[0m \u001b[32m━━━━━━━━━━━━━━━━━━━\u001b[0m\u001b[37m━\u001b[0m \u001b[1m0s\u001b[0m 9ms/step - accuracy: 1.0000 - loss: 2.2540e-06\n",
            "Epoch 195: val_loss did not improve from 0.00000\n",
            "\u001b[1m358/358\u001b[0m \u001b[32m━━━━━━━━━━━━━━━━━━━━\u001b[0m\u001b[37m\u001b[0m \u001b[1m3s\u001b[0m 9ms/step - accuracy: 1.0000 - loss: 2.2617e-06 - val_accuracy: 1.0000 - val_loss: 1.6377e-04\n",
            "Epoch 196/200\n",
            "\u001b[1m356/358\u001b[0m \u001b[32m━━━━━━━━━━━━━━━━━━━\u001b[0m\u001b[37m━\u001b[0m \u001b[1m0s\u001b[0m 8ms/step - accuracy: 1.0000 - loss: 7.7371e-06\n",
            "Epoch 196: val_loss did not improve from 0.00000\n",
            "\u001b[1m358/358\u001b[0m \u001b[32m━━━━━━━━━━━━━━━━━━━━\u001b[0m\u001b[37m\u001b[0m \u001b[1m3s\u001b[0m 9ms/step - accuracy: 1.0000 - loss: 7.8296e-06 - val_accuracy: 1.0000 - val_loss: 3.3344e-06\n",
            "Epoch 197/200\n",
            "\u001b[1m357/358\u001b[0m \u001b[32m━━━━━━━━━━━━━━━━━━━\u001b[0m\u001b[37m━\u001b[0m \u001b[1m0s\u001b[0m 9ms/step - accuracy: 1.0000 - loss: 3.7157e-06\n",
            "Epoch 197: val_loss did not improve from 0.00000\n",
            "\u001b[1m358/358\u001b[0m \u001b[32m━━━━━━━━━━━━━━━━━━━━\u001b[0m\u001b[37m\u001b[0m \u001b[1m3s\u001b[0m 9ms/step - accuracy: 1.0000 - loss: 3.7093e-06 - val_accuracy: 1.0000 - val_loss: 2.3923e-04\n",
            "Epoch 198/200\n",
            "\u001b[1m354/358\u001b[0m \u001b[32m━━━━━━━━━━━━━━━━━━━\u001b[0m\u001b[37m━\u001b[0m \u001b[1m0s\u001b[0m 8ms/step - accuracy: 1.0000 - loss: 1.9727e-07\n",
            "Epoch 198: val_loss did not improve from 0.00000\n",
            "\u001b[1m358/358\u001b[0m \u001b[32m━━━━━━━━━━━━━━━━━━━━\u001b[0m\u001b[37m\u001b[0m \u001b[1m3s\u001b[0m 9ms/step - accuracy: 1.0000 - loss: 1.9607e-07 - val_accuracy: 1.0000 - val_loss: 1.6195e-04\n",
            "Epoch 199/200\n",
            "\u001b[1m352/358\u001b[0m \u001b[32m━━━━━━━━━━━━━━━━━━━\u001b[0m\u001b[37m━\u001b[0m \u001b[1m0s\u001b[0m 8ms/step - accuracy: 1.0000 - loss: 2.6574e-07\n",
            "Epoch 199: val_loss did not improve from 0.00000\n",
            "\u001b[1m358/358\u001b[0m \u001b[32m━━━━━━━━━━━━━━━━━━━━\u001b[0m\u001b[37m\u001b[0m \u001b[1m3s\u001b[0m 9ms/step - accuracy: 1.0000 - loss: 2.6344e-07 - val_accuracy: 1.0000 - val_loss: 1.2306e-04\n",
            "Epoch 200/200\n",
            "\u001b[1m354/358\u001b[0m \u001b[32m━━━━━━━━━━━━━━━━━━━\u001b[0m\u001b[37m━\u001b[0m \u001b[1m0s\u001b[0m 8ms/step - accuracy: 1.0000 - loss: 2.8871e-07\n",
            "Epoch 200: val_loss did not improve from 0.00000\n",
            "\u001b[1m358/358\u001b[0m \u001b[32m━━━━━━━━━━━━━━━━━━━━\u001b[0m\u001b[37m\u001b[0m \u001b[1m3s\u001b[0m 9ms/step - accuracy: 1.0000 - loss: 2.8804e-07 - val_accuracy: 1.0000 - val_loss: 1.5833e-05\n"
          ]
        },
        {
          "output_type": "stream",
          "name": "stderr",
          "text": [
            "WARNING:absl:Compiled the loaded model, but the compiled metrics have yet to be built. `model.compile_metrics` will be empty until you train or evaluate the model.\n"
          ]
        },
        {
          "output_type": "stream",
          "name": "stdout",
          "text": [
            "\u001b[1m199/199\u001b[0m \u001b[32m━━━━━━━━━━━━━━━━━━━━\u001b[0m\u001b[37m\u001b[0m \u001b[1m5s\u001b[0m 13ms/step - accuracy: 0.9409 - loss: 1.0675\n"
          ]
        },
        {
          "output_type": "display_data",
          "data": {
            "text/plain": [
              "<Figure size 640x480 with 1 Axes>"
            ],
            "image/png": "[encoded data removed]"
          },
          "metadata": {}
        }
      ],
      "source": [
        "if not use_reference_models:\n",
        "    for i in range(1,nMaxConvLayers+1):\n",
        "        train_models(i)"
      ]
    },
    {
      "cell_type": "markdown",
      "metadata": {
        "id": "bhj46vDGoGhn"
      },
      "source": [
        "#### Evaluation"
      ]
    },
    {
      "cell_type": "code",
      "source": [
        "accuracies_all = []\n",
        "for layer_n in range(1,nMaxConvLayers+1):\n",
        "\n",
        "    filepath = f\"{model_path}/cnn_{layer_n}_layers.h5\"\n",
        "    model_i = load_model(filepath)\n",
        "    print(f\"Resultados {layer_n} Conv Layers \")\n",
        "    val_acc_all = model_i.evaluate(X_val, y_val)[1]\n",
        "    accuracies_all.append(val_acc_all)\n",
        "accuracies_all = np.array(accuracies_all)"
      ],
      "metadata": {
        "colab": {
          "base_uri": "https://localhost:8080/"
        },
        "id": "mGUruKuueebk",
        "outputId": "a93af04b-1963-4b68-9113-6e1e2146cf99"
      },
      "execution_count": null,
      "outputs": [
        {
          "output_type": "stream",
          "name": "stderr",
          "text": [
            "WARNING:absl:Compiled the loaded model, but the compiled metrics have yet to be built. `model.compile_metrics` will be empty until you train or evaluate the model.\n"
          ]
        },
        {
          "output_type": "stream",
          "name": "stdout",
          "text": [
            "Resultados 1 Conv Layers \n",
            "\u001b[1m199/199\u001b[0m \u001b[32m━━━━━━━━━━━━━━━━━━━━\u001b[0m\u001b[37m\u001b[0m \u001b[1m2s\u001b[0m 4ms/step - accuracy: 0.9409 - loss: 1.0675\n"
          ]
        }
      ]
    },
    {
      "cell_type": "code",
      "source": [
        "accuracies_all"
      ],
      "metadata": {
        "colab": {
          "base_uri": "https://localhost:8080/"
        },
        "id": "wpAUPItre7Nd",
        "outputId": "41ba5f50-4d35-4b6f-f17a-3be7b4947f70"
      },
      "execution_count": null,
      "outputs": [
        {
          "output_type": "execute_result",
          "data": {
            "text/plain": [
              "array([0.92938209])"
            ]
          },
          "metadata": {},
          "execution_count": 40
        }
      ]
    },
    {
      "cell_type": "code",
      "source": [
        "from sklearn.metrics import confusion_matrix\n",
        "import numpy as np\n",
        "\n",
        "#Predict\n",
        "y_prediction = model_i.predict(X_val)\n",
        "\n",
        "# Convert predictions to class labels\n",
        "y_pred_labels = np.argmax(y_prediction, axis=1)  # Get the index of the highest probability\n",
        "\n",
        "# Convert y_val to class labels if it's one-hot encoded\n",
        "y_true_labels = np.argmax(y_val, axis=1) # Assuming y_val is one-hot encoded\n",
        "\n",
        "#Create confusion matrix\n",
        "cm = confusion_matrix(y_true_labels, y_pred_labels, normalize='pred')"
      ],
      "metadata": {
        "colab": {
          "base_uri": "https://localhost:8080/"
        },
        "id": "lWxh3Qj9hWAU",
        "outputId": "592dbcbb-6205-4dd5-87e0-085c65bec28f"
      },
      "execution_count": null,
      "outputs": [
        {
          "output_type": "stream",
          "name": "stdout",
          "text": [
            "\u001b[1m199/199\u001b[0m \u001b[32m━━━━━━━━━━━━━━━━━━━━\u001b[0m\u001b[37m\u001b[0m \u001b[1m1s\u001b[0m 5ms/step\n"
          ]
        }
      ]
    },
    {
      "cell_type": "code",
      "source": [
        "cm"
      ],
      "metadata": {
        "colab": {
          "base_uri": "https://localhost:8080/"
        },
        "id": "2SN_bGKTh_Nz",
        "outputId": "c084a65f-6b8b-48fc-96e1-2cbbff2bdb9e"
      },
      "execution_count": null,
      "outputs": [
        {
          "output_type": "execute_result",
          "data": {
            "text/plain": [
              "array([[8.04778851e-01, 8.05152979e-04, 0.00000000e+00, 0.00000000e+00],\n",
              "       [1.61159126e-01, 9.97584541e-01, 1.85185185e-02, 0.00000000e+00],\n",
              "       [3.40620234e-02, 1.61030596e-03, 9.81481481e-01, 2.03327172e-02],\n",
              "       [0.00000000e+00, 0.00000000e+00, 0.00000000e+00, 9.79667283e-01]])"
            ]
          },
          "metadata": {},
          "execution_count": 42
        }
      ]
    },
    {
      "cell_type": "code",
      "source": [
        "cm_arred = cm.round(decimals=2)"
      ],
      "metadata": {
        "id": "hWvpGHoCwjBq"
      },
      "execution_count": null,
      "outputs": []
    },
    {
      "cell_type": "code",
      "execution_count": null,
      "metadata": {
        "id": "YYvUmWrFMiPL",
        "colab": {
          "base_uri": "https://localhost:8080/",
          "height": 486
        },
        "outputId": "d8c6283c-3c82-4bd0-eff9-abc29fc7e3b6"
      },
      "outputs": [
        {
          "output_type": "display_data",
          "data": {
            "text/plain": [
              "<Figure size 800x400 with 2 Axes>"
            ],
            "image/png": "[encoded data removed]"
          },
          "metadata": {}
        }
      ],
      "source": [
        "import seaborn as sn\n",
        "\n",
        "plt.figure(figsize=(8,4))\n",
        "sn.set(font_scale=1.4) # for label size\n",
        "#sn.heatmap(cm, annot=True, annot_kws={\"size\": 16}) # font size\n",
        "accuracy  = np.trace(cm) / float(np.sum(cm))\n",
        "stats_text = \"\\n\\nAcurácia={:0.3f}\".format(accuracy)\n",
        "categories = ['0.0', '60,7','75,5','152,1']\n",
        "\n",
        "sn.heatmap(cm, annot=True,\n",
        "            fmt='.2%', cmap='binary',\n",
        "           xticklabels=categories,yticklabels=categories)\n",
        "plt.ylabel('Classe Verdadeira')\n",
        "plt.xlabel('Classe Prevista pelo modelo' + stats_text)\n",
        "plt.title('Matriz de Confusão')\n",
        "plt.show()"
      ]
    }
  ],
  "metadata": {
    "accelerator": "GPU",
    "colab": {
      "gpuType": "L4",
      "provenance": []
    },
    "kernelspec": {
      "display_name": "Python 3",
      "name": "python3"
    },
    "language_info": {
      "codemirror_mode": {
        "name": "ipython",
        "version": 3
      },
      "file_extension": ".py",
      "mimetype": "text/x-python",
      "name": "python",
      "nbconvert_exporter": "python",
      "pygments_lexer": "ipython3",
      "version": "3.8.5"
    }
  },
  "nbformat": 4,
  "nbformat_minor": 0
}